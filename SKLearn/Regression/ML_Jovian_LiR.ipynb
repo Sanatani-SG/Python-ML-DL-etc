{
 "cells": [
  {
   "cell_type": "code",
   "execution_count": 1,
   "metadata": {
    "colab": {
     "base_uri": "https://localhost:8080/"
    },
    "collapsed": true,
    "executionInfo": {
     "elapsed": 17976,
     "status": "ok",
     "timestamp": 1751016014499,
     "user": {
      "displayName": "Supreme Hindutvawadi",
      "userId": "06788822703983184258"
     },
     "user_tz": -330
    },
    "id": "MSOs_SWm-4XJ",
    "outputId": "735ad960-e7d4-48ba-d712-d32adc452070"
   },
   "outputs": [],
   "source": [
    "import sys\n",
    "!{sys.executable} -m pip install pandas plotly matplotlib seaborn scikit-learn numpy --upgrade --quiet\n",
    "\n",
    "#IMPORTS\n",
    "import pandas as pd\n",
    "import plotly.express as px\n",
    "import matplotlib.pyplot as plt\n",
    "import seaborn as sns\n",
    "# from ydata_profiling import ProfileReport\n",
    "from sklearn.preprocessing import OrdinalEncoder\n",
    "import math as m\n",
    "from sklearn.linear_model import LinearRegression\n",
    "from sklearn.model_selection import train_test_split\n",
    "import numpy as np\n",
    "from sklearn.impute import SimpleImputer\n",
    "from sklearn.preprocessing import MinMaxScaler"
   ]
  },
  {
   "cell_type": "markdown",
   "metadata": {
    "id": "BS84bcOYAWuG"
   },
   "source": [
    "# ***Data Collection***"
   ]
  },
  {
   "cell_type": "code",
   "execution_count": 2,
   "metadata": {
    "colab": {
     "base_uri": "https://localhost:8080/",
     "height": 0
    },
    "executionInfo": {
     "elapsed": 410,
     "status": "ok",
     "timestamp": 1751016028371,
     "user": {
      "displayName": "Supreme Hindutvawadi",
      "userId": "06788822703983184258"
     },
     "user_tz": -330
    },
    "id": "iYAGBV6cbpOU",
    "outputId": "53dada32-1454-4f68-ecec-b7845ef23f47"
   },
   "outputs": [
    {
     "data": {
      "text/html": [
       "<div>\n",
       "<style scoped>\n",
       "    .dataframe tbody tr th:only-of-type {\n",
       "        vertical-align: middle;\n",
       "    }\n",
       "\n",
       "    .dataframe tbody tr th {\n",
       "        vertical-align: top;\n",
       "    }\n",
       "\n",
       "    .dataframe thead th {\n",
       "        text-align: right;\n",
       "    }\n",
       "</style>\n",
       "<table border=\"1\" class=\"dataframe\">\n",
       "  <thead>\n",
       "    <tr style=\"text-align: right;\">\n",
       "      <th></th>\n",
       "      <th>age</th>\n",
       "      <th>sex</th>\n",
       "      <th>bmi</th>\n",
       "      <th>children</th>\n",
       "      <th>smoker</th>\n",
       "      <th>region</th>\n",
       "      <th>charges</th>\n",
       "    </tr>\n",
       "  </thead>\n",
       "  <tbody>\n",
       "    <tr>\n",
       "      <th>0</th>\n",
       "      <td>19</td>\n",
       "      <td>female</td>\n",
       "      <td>27.900</td>\n",
       "      <td>0</td>\n",
       "      <td>yes</td>\n",
       "      <td>southwest</td>\n",
       "      <td>16884.92400</td>\n",
       "    </tr>\n",
       "    <tr>\n",
       "      <th>1</th>\n",
       "      <td>18</td>\n",
       "      <td>male</td>\n",
       "      <td>33.770</td>\n",
       "      <td>1</td>\n",
       "      <td>no</td>\n",
       "      <td>southeast</td>\n",
       "      <td>1725.55230</td>\n",
       "    </tr>\n",
       "    <tr>\n",
       "      <th>2</th>\n",
       "      <td>28</td>\n",
       "      <td>male</td>\n",
       "      <td>33.000</td>\n",
       "      <td>3</td>\n",
       "      <td>no</td>\n",
       "      <td>southeast</td>\n",
       "      <td>4449.46200</td>\n",
       "    </tr>\n",
       "    <tr>\n",
       "      <th>3</th>\n",
       "      <td>33</td>\n",
       "      <td>male</td>\n",
       "      <td>22.705</td>\n",
       "      <td>0</td>\n",
       "      <td>no</td>\n",
       "      <td>northwest</td>\n",
       "      <td>21984.47061</td>\n",
       "    </tr>\n",
       "    <tr>\n",
       "      <th>4</th>\n",
       "      <td>32</td>\n",
       "      <td>male</td>\n",
       "      <td>28.880</td>\n",
       "      <td>0</td>\n",
       "      <td>no</td>\n",
       "      <td>northwest</td>\n",
       "      <td>3866.85520</td>\n",
       "    </tr>\n",
       "    <tr>\n",
       "      <th>...</th>\n",
       "      <td>...</td>\n",
       "      <td>...</td>\n",
       "      <td>...</td>\n",
       "      <td>...</td>\n",
       "      <td>...</td>\n",
       "      <td>...</td>\n",
       "      <td>...</td>\n",
       "    </tr>\n",
       "    <tr>\n",
       "      <th>1333</th>\n",
       "      <td>50</td>\n",
       "      <td>male</td>\n",
       "      <td>30.970</td>\n",
       "      <td>3</td>\n",
       "      <td>no</td>\n",
       "      <td>northwest</td>\n",
       "      <td>10600.54830</td>\n",
       "    </tr>\n",
       "    <tr>\n",
       "      <th>1334</th>\n",
       "      <td>18</td>\n",
       "      <td>female</td>\n",
       "      <td>31.920</td>\n",
       "      <td>0</td>\n",
       "      <td>no</td>\n",
       "      <td>northeast</td>\n",
       "      <td>2205.98080</td>\n",
       "    </tr>\n",
       "    <tr>\n",
       "      <th>1335</th>\n",
       "      <td>18</td>\n",
       "      <td>female</td>\n",
       "      <td>36.850</td>\n",
       "      <td>0</td>\n",
       "      <td>no</td>\n",
       "      <td>southeast</td>\n",
       "      <td>1629.83350</td>\n",
       "    </tr>\n",
       "    <tr>\n",
       "      <th>1336</th>\n",
       "      <td>21</td>\n",
       "      <td>female</td>\n",
       "      <td>25.800</td>\n",
       "      <td>0</td>\n",
       "      <td>no</td>\n",
       "      <td>southwest</td>\n",
       "      <td>2007.94500</td>\n",
       "    </tr>\n",
       "    <tr>\n",
       "      <th>1337</th>\n",
       "      <td>61</td>\n",
       "      <td>female</td>\n",
       "      <td>29.070</td>\n",
       "      <td>0</td>\n",
       "      <td>yes</td>\n",
       "      <td>northwest</td>\n",
       "      <td>29141.36030</td>\n",
       "    </tr>\n",
       "  </tbody>\n",
       "</table>\n",
       "<p>1338 rows × 7 columns</p>\n",
       "</div>"
      ],
      "text/plain": [
       "      age     sex     bmi  children smoker     region      charges\n",
       "0      19  female  27.900         0    yes  southwest  16884.92400\n",
       "1      18    male  33.770         1     no  southeast   1725.55230\n",
       "2      28    male  33.000         3     no  southeast   4449.46200\n",
       "3      33    male  22.705         0     no  northwest  21984.47061\n",
       "4      32    male  28.880         0     no  northwest   3866.85520\n",
       "...   ...     ...     ...       ...    ...        ...          ...\n",
       "1333   50    male  30.970         3     no  northwest  10600.54830\n",
       "1334   18  female  31.920         0     no  northeast   2205.98080\n",
       "1335   18  female  36.850         0     no  southeast   1629.83350\n",
       "1336   21  female  25.800         0     no  southwest   2007.94500\n",
       "1337   61  female  29.070         0    yes  northwest  29141.36030\n",
       "\n",
       "[1338 rows x 7 columns]"
      ]
     },
     "execution_count": 2,
     "metadata": {},
     "output_type": "execute_result"
    }
   ],
   "source": [
    "data=pd.read_csv('Medical_Cost.csv')\n",
    "data=pd.DataFrame(data)\n",
    "data.describe(include='all')\n",
    "d=data.select_dtypes(exclude='object')\n",
    "data"
   ]
  },
  {
   "cell_type": "markdown",
   "metadata": {
    "id": "5yhw6YDzAfca"
   },
   "source": [
    "# ***EDA***"
   ]
  },
  {
   "cell_type": "code",
   "execution_count": 3,
   "metadata": {
    "colab": {
     "base_uri": "https://localhost:8080/",
     "height": 0
    },
    "executionInfo": {
     "elapsed": 1432,
     "status": "ok",
     "timestamp": 1751016031941,
     "user": {
      "displayName": "Supreme Hindutvawadi",
      "userId": "06788822703983184258"
     },
     "user_tz": -330
    },
    "id": "ZWkjgesriH02",
    "outputId": "a2a3a165-b78d-427b-9d6d-d09f63fa2cfb"
   },
   "outputs": [
    {
     "ename": "ValueError",
     "evalue": "Mime type rendering requires nbformat>=4.2.0 but it is not installed",
     "output_type": "error",
     "traceback": [
      "\u001b[31m---------------------------------------------------------------------------\u001b[39m",
      "\u001b[31mValueError\u001b[39m                                Traceback (most recent call last)",
      "\u001b[36mFile \u001b[39m\u001b[32m~\\AppData\\Roaming\\Python\\Python313\\site-packages\\IPython\\core\\formatters.py:984\u001b[39m, in \u001b[36mIPythonDisplayFormatter.__call__\u001b[39m\u001b[34m(self, obj)\u001b[39m\n\u001b[32m    982\u001b[39m method = get_real_method(obj, \u001b[38;5;28mself\u001b[39m.print_method)\n\u001b[32m    983\u001b[39m \u001b[38;5;28;01mif\u001b[39;00m method \u001b[38;5;129;01mis\u001b[39;00m \u001b[38;5;129;01mnot\u001b[39;00m \u001b[38;5;28;01mNone\u001b[39;00m:\n\u001b[32m--> \u001b[39m\u001b[32m984\u001b[39m     \u001b[43mmethod\u001b[49m\u001b[43m(\u001b[49m\u001b[43m)\u001b[49m\n\u001b[32m    985\u001b[39m     \u001b[38;5;28;01mreturn\u001b[39;00m \u001b[38;5;28;01mTrue\u001b[39;00m\n",
      "\u001b[36mFile \u001b[39m\u001b[32mc:\\Users\\Tabah\\AppData\\Local\\Programs\\Python\\Python313\\Lib\\site-packages\\plotly\\basedatatypes.py:850\u001b[39m, in \u001b[36mBaseFigure._ipython_display_\u001b[39m\u001b[34m(self)\u001b[39m\n\u001b[32m    847\u001b[39m \u001b[38;5;28;01mimport\u001b[39;00m\u001b[38;5;250m \u001b[39m\u001b[34;01mplotly\u001b[39;00m\u001b[34;01m.\u001b[39;00m\u001b[34;01mio\u001b[39;00m\u001b[38;5;250m \u001b[39m\u001b[38;5;28;01mas\u001b[39;00m\u001b[38;5;250m \u001b[39m\u001b[34;01mpio\u001b[39;00m\n\u001b[32m    849\u001b[39m \u001b[38;5;28;01mif\u001b[39;00m pio.renderers.render_on_display \u001b[38;5;129;01mand\u001b[39;00m pio.renderers.default:\n\u001b[32m--> \u001b[39m\u001b[32m850\u001b[39m     \u001b[43mpio\u001b[49m\u001b[43m.\u001b[49m\u001b[43mshow\u001b[49m\u001b[43m(\u001b[49m\u001b[38;5;28;43mself\u001b[39;49m\u001b[43m)\u001b[49m\n\u001b[32m    851\u001b[39m \u001b[38;5;28;01melse\u001b[39;00m:\n\u001b[32m    852\u001b[39m     \u001b[38;5;28mprint\u001b[39m(\u001b[38;5;28mrepr\u001b[39m(\u001b[38;5;28mself\u001b[39m))\n",
      "\u001b[36mFile \u001b[39m\u001b[32mc:\\Users\\Tabah\\AppData\\Local\\Programs\\Python\\Python313\\Lib\\site-packages\\plotly\\io\\_renderers.py:415\u001b[39m, in \u001b[36mshow\u001b[39m\u001b[34m(fig, renderer, validate, **kwargs)\u001b[39m\n\u001b[32m    410\u001b[39m     \u001b[38;5;28;01mraise\u001b[39;00m \u001b[38;5;167;01mValueError\u001b[39;00m(\n\u001b[32m    411\u001b[39m         \u001b[33m\"\u001b[39m\u001b[33mMime type rendering requires ipython but it is not installed\u001b[39m\u001b[33m\"\u001b[39m\n\u001b[32m    412\u001b[39m     )\n\u001b[32m    414\u001b[39m \u001b[38;5;28;01mif\u001b[39;00m \u001b[38;5;129;01mnot\u001b[39;00m nbformat \u001b[38;5;129;01mor\u001b[39;00m Version(nbformat.__version__) < Version(\u001b[33m\"\u001b[39m\u001b[33m4.2.0\u001b[39m\u001b[33m\"\u001b[39m):\n\u001b[32m--> \u001b[39m\u001b[32m415\u001b[39m     \u001b[38;5;28;01mraise\u001b[39;00m \u001b[38;5;167;01mValueError\u001b[39;00m(\n\u001b[32m    416\u001b[39m         \u001b[33m\"\u001b[39m\u001b[33mMime type rendering requires nbformat>=4.2.0 but it is not installed\u001b[39m\u001b[33m\"\u001b[39m\n\u001b[32m    417\u001b[39m     )\n\u001b[32m    419\u001b[39m display_jupyter_version_warnings()\n\u001b[32m    421\u001b[39m ipython_display.display(bundle, raw=\u001b[38;5;28;01mTrue\u001b[39;00m)\n",
      "\u001b[31mValueError\u001b[39m: Mime type rendering requires nbformat>=4.2.0 but it is not installed"
     ]
    },
    {
     "data": {
      "application/vnd.plotly.v1+json": {
       "config": {
        "plotlyServerURL": "https://plot.ly"
       },
       "data": [
        {
         "bingroup": "x",
         "hovertemplate": "age=%{x}<br>count=%{y}<extra></extra>",
         "legendgroup": "",
         "marker": {
          "color": "#636efa",
          "pattern": {
           "shape": ""
          }
         },
         "name": "",
         "nbinsx": 47,
         "orientation": "v",
         "showlegend": false,
         "type": "histogram",
         "x": {
          "bdata": "ExIcISAfLiUlPBk+FzgbEzQXOB48HhIiJTs/NxcfFhITPxwTPhojPBgfKSUmNxIcPCQSFTAkKDo6EjUiKxlAHBQTPSgoHBsfNTosOR0VFikfLRYwJS05OC43FTU7I0AcNjc4JikeEj0iFBMaHT82NyUVNDw6HTElLBIULC8aEzQgJjs9NRMUFhMWNhYiGiIdHh0uMzUTIzAgKigsMBIeMioSNiAlLxQgExs/MRIjGD8mNi4pOhIWLCwkGh4pHT0kGTgSEyctM0ATMDwbLhw7Iz8oFCgYIi0pNRsaGCI1IBMqNxw6KS8qOxM7JygSHxMsFyE3KD82PBgTHRI/NhsyNzgmMxM6FDQTNS4oOy0xEjIpMhkvExY7Myg2Hjc0Li4/OzQcHRkWGRITLx8wJDU4HDkdHB46KTITKzEbNDI2LCAiGiI5HSgbLUA0PTQ9OCtAPD4yLhg+PD8xIiEuJBM5Mh4hEi4uLxcSMCMTFRUxOCosEj05KhoUFycYQD4bNzcjLBM6MhoYMBMwMS4uKxVAEjMvQDEfNCEvJiATLBoZEys0JEA/QD0oGTAtJhIVGxMdKjwfPBYjNBofIRI7OC08OCgjJx4YFCA7Nzk4KDEqPjgTHjw4HBIbEhMvNj0YGRUXPzESMzAfNhMsNRM9Ej0VFB8tLD4dKzMTJiUWFRg5OBszEyc6FC0jHzIgMyYqEhMzLhI5PjslQCYhLi41IhQ/NjYxHDYZKz8gPjQZHC4iIxMuNhsyEhMmKTEwHxIePjk6Fh80GTsTJyATIRUiPSY6LxQVKS4qIis0EjM4QBMzGzscHi8mEiIULzgxEzceJTESOx0kITosNRgdKDNAEyMnOCEqPRcrMCcoEjoxNTAtOzQaGzA5JTkgEkArMSg+KB4dJCksLTc8ODEVEyc1ITUqKC8bFS8UGBsaNSk4FxUyNSIvITMxHyQSMisUGDwxPDM6MzU+EzIeKR0SKSM1GDA7MSUaFx0tGzUfMjIiEy8cJRVAOhgfJy8eEhYXIRstOS8qQCY9NSwTKTMoLSM1HhIzMh8jPBUdPicTFjUnGx4eOiEqQBUSFy0oExIZLiE2HCQUGBcvIS0aEiw8QDgkKSc/JBw6JCokOCM7FTsXOTU8MxcbNyU9LjUxFDAZGTklJjckMygSOT0ZMhoqKywXMSEpJRYXFTMZIDkkFjlAJDYvPj0rExITMTwaMTwaGyw/IBYSOywhGCstPSM+PiYiKzITOT4pGicuLSA7LCcSNRIyEhM+OColKhk5Mx4sIh82GCswEx0/LjQjMywVJzIiFhMaHTAaLSQ2Ih8bFCwrLSIYGiYyJhsnJz8hJB4YGDAvHRwvGTMwKz0wJjsTGjYVMxYvEi8VExc2JS43HhI9NhYtFhMjEhQcNysrFhkxLEAxLxs3MC0YIBg5OyQdKjAnPzYlPxU2PCAvFRw/EiAmID4nNzk0OC83FxYyEjMWNBkhNR06JTYxMhotNiYwHBc3KRkhHhcuNRsXPzcjIhMnGzk0HDIsGiETMik0JzI0PBQ3KhI6KyMwJBMXFCArIh4SKSM5HSAlEis4Jh0WNCgXHyoYGTAXLRQ+KxcfKTowHxMTKSgfJS4WMxIjOyQlOyQnEjQbEigdLiYeKDIUKSEmKjg6NBQ2Oi0aPzolGTRAFhwSHC0hEiAYExQoIiozNjc0IBwpKzFANxgULRoZKyMaORYgJxkwLxISPS8cJBQsJhMVLjoUEhwhEy0+GSsqGB0gGSkqISITHhITEiMnHz4+Kh89KjMXNDkXNDISEhU9",
          "dtype": "i1"
         },
         "xaxis": "x",
         "yaxis": "y"
        },
        {
         "boxpoints": "all",
         "fillcolor": "rgba(255,255,255,0)",
         "hoveron": "points",
         "hovertemplate": "age=%{x}<extra></extra>",
         "jitter": 0,
         "legendgroup": "",
         "line": {
          "color": "rgba(255,255,255,0)"
         },
         "marker": {
          "color": "#636efa",
          "symbol": "line-ns-open"
         },
         "name": "",
         "showlegend": false,
         "type": "box",
         "x": {
          "bdata": "ExIcISAfLiUlPBk+FzgbEzQXOB48HhIiJTs/NxcfFhITPxwTPhojPBgfKSUmNxIcPCQSFTAkKDo6EjUiKxlAHBQTPSgoHBsfNTosOR0VFikfLRYwJS05OC43FTU7I0AcNjc4JikeEj0iFBMaHT82NyUVNDw6HTElLBIULC8aEzQgJjs9NRMUFhMWNhYiGiIdHh0uMzUTIzAgKigsMBIeMioSNiAlLxQgExs/MRIjGD8mNi4pOhIWLCwkGh4pHT0kGTgSEyctM0ATMDwbLhw7Iz8oFCgYIi0pNRsaGCI1IBMqNxw6KS8qOxM7JygSHxMsFyE3KD82PBgTHRI/NhsyNzgmMxM6FDQTNS4oOy0xEjIpMhkvExY7Myg2Hjc0Li4/OzQcHRkWGRITLx8wJDU4HDkdHB46KTITKzEbNDI2LCAiGiI5HSgbLUA0PTQ9OCtAPD4yLhg+PD8xIiEuJBM5Mh4hEi4uLxcSMCMTFRUxOCosEj05KhoUFycYQD4bNzcjLBM6MhoYMBMwMS4uKxVAEjMvQDEfNCEvJiATLBoZEys0JEA/QD0oGTAtJhIVGxMdKjwfPBYjNBofIRI7OC08OCgjJx4YFCA7Nzk4KDEqPjgTHjw4HBIbEhMvNj0YGRUXPzESMzAfNhMsNRM9Ej0VFB8tLD4dKzMTJiUWFRg5OBszEyc6FC0jHzIgMyYqEhMzLhI5PjslQCYhLi41IhQ/NjYxHDYZKz8gPjQZHC4iIxMuNhsyEhMmKTEwHxIePjk6Fh80GTsTJyATIRUiPSY6LxQVKS4qIis0EjM4QBMzGzscHi8mEiIULzgxEzceJTESOx0kITosNRgdKDNAEyMnOCEqPRcrMCcoEjoxNTAtOzQaGzA5JTkgEkArMSg+KB4dJCksLTc8ODEVEyc1ITUqKC8bFS8UGBsaNSk4FxUyNSIvITMxHyQSMisUGDwxPDM6MzU+EzIeKR0SKSM1GDA7MSUaFx0tGzUfMjIiEy8cJRVAOhgfJy8eEhYXIRstOS8qQCY9NSwTKTMoLSM1HhIzMh8jPBUdPicTFjUnGx4eOiEqQBUSFy0oExIZLiE2HCQUGBcvIS0aEiw8QDgkKSc/JBw6JCokOCM7FTsXOTU8MxcbNyU9LjUxFDAZGTklJjckMygSOT0ZMhoqKywXMSEpJRYXFTMZIDkkFjlAJDYvPj0rExITMTwaMTwaGyw/IBYSOywhGCstPSM+PiYiKzITOT4pGicuLSA7LCcSNRIyEhM+OColKhk5Mx4sIh82GCswEx0/LjQjMywVJzIiFhMaHTAaLSQ2Ih8bFCwrLSIYGiYyJhsnJz8hJB4YGDAvHRwvGTMwKz0wJjsTGjYVMxYvEi8VExc2JS43HhI9NhYtFhMjEhQcNysrFhkxLEAxLxs3MC0YIBg5OyQdKjAnPzYlPxU2PCAvFRw/EiAmID4nNzk0OC83FxYyEjMWNBkhNR06JTYxMhotNiYwHBc3KRkhHhcuNRsXPzcjIhMnGzk0HDIsGiETMik0JzI0PBQ3KhI6KyMwJBMXFCArIh4SKSM5HSAlEis4Jh0WNCgXHyoYGTAXLRQ+KxcfKTowHxMTKSgfJS4WMxIjOyQlOyQnEjQbEigdLiYeKDIUKSEmKjg6NBQ2Oi0aPzolGTRAFhwSHC0hEiAYExQoIiozNjc0IBwpKzFANxgULRoZKyMaORYgJxkwLxISPS8cJBQsJhMVLjoUEhwhEy0+GSsqGB0gGSkqISITHhITEiMnHz4+Kh89KjMXNDkXNDISEhU9",
          "dtype": "i1"
         },
         "xaxis": "x2",
         "yaxis": "y2"
        }
       ],
       "layout": {
        "barmode": "relative",
        "legend": {
         "tracegroupgap": 0
        },
        "margin": {
         "t": 60
        },
        "template": {
         "data": {
          "bar": [
           {
            "error_x": {
             "color": "#2a3f5f"
            },
            "error_y": {
             "color": "#2a3f5f"
            },
            "marker": {
             "line": {
              "color": "#E5ECF6",
              "width": 0.5
             },
             "pattern": {
              "fillmode": "overlay",
              "size": 10,
              "solidity": 0.2
             }
            },
            "type": "bar"
           }
          ],
          "barpolar": [
           {
            "marker": {
             "line": {
              "color": "#E5ECF6",
              "width": 0.5
             },
             "pattern": {
              "fillmode": "overlay",
              "size": 10,
              "solidity": 0.2
             }
            },
            "type": "barpolar"
           }
          ],
          "carpet": [
           {
            "aaxis": {
             "endlinecolor": "#2a3f5f",
             "gridcolor": "white",
             "linecolor": "white",
             "minorgridcolor": "white",
             "startlinecolor": "#2a3f5f"
            },
            "baxis": {
             "endlinecolor": "#2a3f5f",
             "gridcolor": "white",
             "linecolor": "white",
             "minorgridcolor": "white",
             "startlinecolor": "#2a3f5f"
            },
            "type": "carpet"
           }
          ],
          "choropleth": [
           {
            "colorbar": {
             "outlinewidth": 0,
             "ticks": ""
            },
            "type": "choropleth"
           }
          ],
          "contour": [
           {
            "colorbar": {
             "outlinewidth": 0,
             "ticks": ""
            },
            "colorscale": [
             [
              0,
              "#0d0887"
             ],
             [
              0.1111111111111111,
              "#46039f"
             ],
             [
              0.2222222222222222,
              "#7201a8"
             ],
             [
              0.3333333333333333,
              "#9c179e"
             ],
             [
              0.4444444444444444,
              "#bd3786"
             ],
             [
              0.5555555555555556,
              "#d8576b"
             ],
             [
              0.6666666666666666,
              "#ed7953"
             ],
             [
              0.7777777777777778,
              "#fb9f3a"
             ],
             [
              0.8888888888888888,
              "#fdca26"
             ],
             [
              1,
              "#f0f921"
             ]
            ],
            "type": "contour"
           }
          ],
          "contourcarpet": [
           {
            "colorbar": {
             "outlinewidth": 0,
             "ticks": ""
            },
            "type": "contourcarpet"
           }
          ],
          "heatmap": [
           {
            "colorbar": {
             "outlinewidth": 0,
             "ticks": ""
            },
            "colorscale": [
             [
              0,
              "#0d0887"
             ],
             [
              0.1111111111111111,
              "#46039f"
             ],
             [
              0.2222222222222222,
              "#7201a8"
             ],
             [
              0.3333333333333333,
              "#9c179e"
             ],
             [
              0.4444444444444444,
              "#bd3786"
             ],
             [
              0.5555555555555556,
              "#d8576b"
             ],
             [
              0.6666666666666666,
              "#ed7953"
             ],
             [
              0.7777777777777778,
              "#fb9f3a"
             ],
             [
              0.8888888888888888,
              "#fdca26"
             ],
             [
              1,
              "#f0f921"
             ]
            ],
            "type": "heatmap"
           }
          ],
          "histogram": [
           {
            "marker": {
             "pattern": {
              "fillmode": "overlay",
              "size": 10,
              "solidity": 0.2
             }
            },
            "type": "histogram"
           }
          ],
          "histogram2d": [
           {
            "colorbar": {
             "outlinewidth": 0,
             "ticks": ""
            },
            "colorscale": [
             [
              0,
              "#0d0887"
             ],
             [
              0.1111111111111111,
              "#46039f"
             ],
             [
              0.2222222222222222,
              "#7201a8"
             ],
             [
              0.3333333333333333,
              "#9c179e"
             ],
             [
              0.4444444444444444,
              "#bd3786"
             ],
             [
              0.5555555555555556,
              "#d8576b"
             ],
             [
              0.6666666666666666,
              "#ed7953"
             ],
             [
              0.7777777777777778,
              "#fb9f3a"
             ],
             [
              0.8888888888888888,
              "#fdca26"
             ],
             [
              1,
              "#f0f921"
             ]
            ],
            "type": "histogram2d"
           }
          ],
          "histogram2dcontour": [
           {
            "colorbar": {
             "outlinewidth": 0,
             "ticks": ""
            },
            "colorscale": [
             [
              0,
              "#0d0887"
             ],
             [
              0.1111111111111111,
              "#46039f"
             ],
             [
              0.2222222222222222,
              "#7201a8"
             ],
             [
              0.3333333333333333,
              "#9c179e"
             ],
             [
              0.4444444444444444,
              "#bd3786"
             ],
             [
              0.5555555555555556,
              "#d8576b"
             ],
             [
              0.6666666666666666,
              "#ed7953"
             ],
             [
              0.7777777777777778,
              "#fb9f3a"
             ],
             [
              0.8888888888888888,
              "#fdca26"
             ],
             [
              1,
              "#f0f921"
             ]
            ],
            "type": "histogram2dcontour"
           }
          ],
          "mesh3d": [
           {
            "colorbar": {
             "outlinewidth": 0,
             "ticks": ""
            },
            "type": "mesh3d"
           }
          ],
          "parcoords": [
           {
            "line": {
             "colorbar": {
              "outlinewidth": 0,
              "ticks": ""
             }
            },
            "type": "parcoords"
           }
          ],
          "pie": [
           {
            "automargin": true,
            "type": "pie"
           }
          ],
          "scatter": [
           {
            "fillpattern": {
             "fillmode": "overlay",
             "size": 10,
             "solidity": 0.2
            },
            "type": "scatter"
           }
          ],
          "scatter3d": [
           {
            "line": {
             "colorbar": {
              "outlinewidth": 0,
              "ticks": ""
             }
            },
            "marker": {
             "colorbar": {
              "outlinewidth": 0,
              "ticks": ""
             }
            },
            "type": "scatter3d"
           }
          ],
          "scattercarpet": [
           {
            "marker": {
             "colorbar": {
              "outlinewidth": 0,
              "ticks": ""
             }
            },
            "type": "scattercarpet"
           }
          ],
          "scattergeo": [
           {
            "marker": {
             "colorbar": {
              "outlinewidth": 0,
              "ticks": ""
             }
            },
            "type": "scattergeo"
           }
          ],
          "scattergl": [
           {
            "marker": {
             "colorbar": {
              "outlinewidth": 0,
              "ticks": ""
             }
            },
            "type": "scattergl"
           }
          ],
          "scattermap": [
           {
            "marker": {
             "colorbar": {
              "outlinewidth": 0,
              "ticks": ""
             }
            },
            "type": "scattermap"
           }
          ],
          "scattermapbox": [
           {
            "marker": {
             "colorbar": {
              "outlinewidth": 0,
              "ticks": ""
             }
            },
            "type": "scattermapbox"
           }
          ],
          "scatterpolar": [
           {
            "marker": {
             "colorbar": {
              "outlinewidth": 0,
              "ticks": ""
             }
            },
            "type": "scatterpolar"
           }
          ],
          "scatterpolargl": [
           {
            "marker": {
             "colorbar": {
              "outlinewidth": 0,
              "ticks": ""
             }
            },
            "type": "scatterpolargl"
           }
          ],
          "scatterternary": [
           {
            "marker": {
             "colorbar": {
              "outlinewidth": 0,
              "ticks": ""
             }
            },
            "type": "scatterternary"
           }
          ],
          "surface": [
           {
            "colorbar": {
             "outlinewidth": 0,
             "ticks": ""
            },
            "colorscale": [
             [
              0,
              "#0d0887"
             ],
             [
              0.1111111111111111,
              "#46039f"
             ],
             [
              0.2222222222222222,
              "#7201a8"
             ],
             [
              0.3333333333333333,
              "#9c179e"
             ],
             [
              0.4444444444444444,
              "#bd3786"
             ],
             [
              0.5555555555555556,
              "#d8576b"
             ],
             [
              0.6666666666666666,
              "#ed7953"
             ],
             [
              0.7777777777777778,
              "#fb9f3a"
             ],
             [
              0.8888888888888888,
              "#fdca26"
             ],
             [
              1,
              "#f0f921"
             ]
            ],
            "type": "surface"
           }
          ],
          "table": [
           {
            "cells": {
             "fill": {
              "color": "#EBF0F8"
             },
             "line": {
              "color": "white"
             }
            },
            "header": {
             "fill": {
              "color": "#C8D4E3"
             },
             "line": {
              "color": "white"
             }
            },
            "type": "table"
           }
          ]
         },
         "layout": {
          "annotationdefaults": {
           "arrowcolor": "#2a3f5f",
           "arrowhead": 0,
           "arrowwidth": 1
          },
          "autotypenumbers": "strict",
          "coloraxis": {
           "colorbar": {
            "outlinewidth": 0,
            "ticks": ""
           }
          },
          "colorscale": {
           "diverging": [
            [
             0,
             "#8e0152"
            ],
            [
             0.1,
             "#c51b7d"
            ],
            [
             0.2,
             "#de77ae"
            ],
            [
             0.3,
             "#f1b6da"
            ],
            [
             0.4,
             "#fde0ef"
            ],
            [
             0.5,
             "#f7f7f7"
            ],
            [
             0.6,
             "#e6f5d0"
            ],
            [
             0.7,
             "#b8e186"
            ],
            [
             0.8,
             "#7fbc41"
            ],
            [
             0.9,
             "#4d9221"
            ],
            [
             1,
             "#276419"
            ]
           ],
           "sequential": [
            [
             0,
             "#0d0887"
            ],
            [
             0.1111111111111111,
             "#46039f"
            ],
            [
             0.2222222222222222,
             "#7201a8"
            ],
            [
             0.3333333333333333,
             "#9c179e"
            ],
            [
             0.4444444444444444,
             "#bd3786"
            ],
            [
             0.5555555555555556,
             "#d8576b"
            ],
            [
             0.6666666666666666,
             "#ed7953"
            ],
            [
             0.7777777777777778,
             "#fb9f3a"
            ],
            [
             0.8888888888888888,
             "#fdca26"
            ],
            [
             1,
             "#f0f921"
            ]
           ],
           "sequentialminus": [
            [
             0,
             "#0d0887"
            ],
            [
             0.1111111111111111,
             "#46039f"
            ],
            [
             0.2222222222222222,
             "#7201a8"
            ],
            [
             0.3333333333333333,
             "#9c179e"
            ],
            [
             0.4444444444444444,
             "#bd3786"
            ],
            [
             0.5555555555555556,
             "#d8576b"
            ],
            [
             0.6666666666666666,
             "#ed7953"
            ],
            [
             0.7777777777777778,
             "#fb9f3a"
            ],
            [
             0.8888888888888888,
             "#fdca26"
            ],
            [
             1,
             "#f0f921"
            ]
           ]
          },
          "colorway": [
           "#636efa",
           "#EF553B",
           "#00cc96",
           "#ab63fa",
           "#FFA15A",
           "#19d3f3",
           "#FF6692",
           "#B6E880",
           "#FF97FF",
           "#FECB52"
          ],
          "font": {
           "color": "#2a3f5f"
          },
          "geo": {
           "bgcolor": "white",
           "lakecolor": "white",
           "landcolor": "#E5ECF6",
           "showlakes": true,
           "showland": true,
           "subunitcolor": "white"
          },
          "hoverlabel": {
           "align": "left"
          },
          "hovermode": "closest",
          "mapbox": {
           "style": "light"
          },
          "paper_bgcolor": "white",
          "plot_bgcolor": "#E5ECF6",
          "polar": {
           "angularaxis": {
            "gridcolor": "white",
            "linecolor": "white",
            "ticks": ""
           },
           "bgcolor": "#E5ECF6",
           "radialaxis": {
            "gridcolor": "white",
            "linecolor": "white",
            "ticks": ""
           }
          },
          "scene": {
           "xaxis": {
            "backgroundcolor": "#E5ECF6",
            "gridcolor": "white",
            "gridwidth": 2,
            "linecolor": "white",
            "showbackground": true,
            "ticks": "",
            "zerolinecolor": "white"
           },
           "yaxis": {
            "backgroundcolor": "#E5ECF6",
            "gridcolor": "white",
            "gridwidth": 2,
            "linecolor": "white",
            "showbackground": true,
            "ticks": "",
            "zerolinecolor": "white"
           },
           "zaxis": {
            "backgroundcolor": "#E5ECF6",
            "gridcolor": "white",
            "gridwidth": 2,
            "linecolor": "white",
            "showbackground": true,
            "ticks": "",
            "zerolinecolor": "white"
           }
          },
          "shapedefaults": {
           "line": {
            "color": "#2a3f5f"
           }
          },
          "ternary": {
           "aaxis": {
            "gridcolor": "white",
            "linecolor": "white",
            "ticks": ""
           },
           "baxis": {
            "gridcolor": "white",
            "linecolor": "white",
            "ticks": ""
           },
           "bgcolor": "#E5ECF6",
           "caxis": {
            "gridcolor": "white",
            "linecolor": "white",
            "ticks": ""
           }
          },
          "title": {
           "x": 0.05
          },
          "xaxis": {
           "automargin": true,
           "gridcolor": "white",
           "linecolor": "white",
           "ticks": "",
           "title": {
            "standoff": 15
           },
           "zerolinecolor": "white",
           "zerolinewidth": 2
          },
          "yaxis": {
           "automargin": true,
           "gridcolor": "white",
           "linecolor": "white",
           "ticks": "",
           "title": {
            "standoff": 15
           },
           "zerolinecolor": "white",
           "zerolinewidth": 2
          }
         }
        },
        "xaxis": {
         "anchor": "y",
         "domain": [
          0,
          1
         ],
         "title": {
          "text": "age"
         }
        },
        "xaxis2": {
         "anchor": "y2",
         "domain": [
          0,
          1
         ],
         "matches": "x",
         "showgrid": true,
         "showticklabels": false
        },
        "yaxis": {
         "anchor": "x",
         "domain": [
          0,
          0.8316
         ],
         "title": {
          "text": "count"
         }
        },
        "yaxis2": {
         "anchor": "x2",
         "domain": [
          0.8416,
          1
         ],
         "matches": "y2",
         "showgrid": false,
         "showline": false,
         "showticklabels": false,
         "ticks": ""
        }
       }
      },
      "text/html": [
       "<div>                        <script type=\"text/javascript\">window.PlotlyConfig = {MathJaxConfig: 'local'};</script>\n",
       "        <script charset=\"utf-8\" src=\"https://cdn.plot.ly/plotly-3.0.1.min.js\" integrity=\"sha256-oy6Be7Eh6eiQFs5M7oXuPxxm9qbJXEtTpfSI93dW16Q=\" crossorigin=\"anonymous\"></script>                <div id=\"740cddcc-b163-4fcf-92a6-a91211b5619b\" class=\"plotly-graph-div\" style=\"height:100%; width:100%;\"></div>            <script type=\"text/javascript\">                window.PLOTLYENV=window.PLOTLYENV || {};                                if (document.getElementById(\"740cddcc-b163-4fcf-92a6-a91211b5619b\")) {                    Plotly.newPlot(                        \"740cddcc-b163-4fcf-92a6-a91211b5619b\",                        [{\"bingroup\":\"x\",\"hovertemplate\":\"age=%{x}\\u003cbr\\u003ecount=%{y}\\u003cextra\\u003e\\u003c\\u002fextra\\u003e\",\"legendgroup\":\"\",\"marker\":{\"color\":\"#636efa\",\"pattern\":{\"shape\":\"\"}},\"name\":\"\",\"nbinsx\":47,\"orientation\":\"v\",\"showlegend\":false,\"x\":{\"dtype\":\"i1\",\"bdata\":\"ExIcISAfLiUlPBk+FzgbEzQXOB48HhIiJTs\\u002fNxcfFhITPxwTPhojPBgfKSUmNxIcPCQSFTAkKDo6EjUiKxlAHBQTPSgoHBsfNTosOR0VFikfLRYwJS05OC43FTU7I0AcNjc4JikeEj0iFBMaHT82NyUVNDw6HTElLBIULC8aEzQgJjs9NRMUFhMWNhYiGiIdHh0uMzUTIzAgKigsMBIeMioSNiAlLxQgExs\\u002fMRIjGD8mNi4pOhIWLCwkGh4pHT0kGTgSEyctM0ATMDwbLhw7Iz8oFCgYIi0pNRsaGCI1IBMqNxw6KS8qOxM7JygSHxMsFyE3KD82PBgTHRI\\u002fNhsyNzgmMxM6FDQTNS4oOy0xEjIpMhkvExY7Myg2Hjc0Li4\\u002fOzQcHRkWGRITLx8wJDU4HDkdHB46KTITKzEbNDI2LCAiGiI5HSgbLUA0PTQ9OCtAPD4yLhg+PD8xIiEuJBM5Mh4hEi4uLxcSMCMTFRUxOCosEj05KhoUFycYQD4bNzcjLBM6MhoYMBMwMS4uKxVAEjMvQDEfNCEvJiATLBoZEys0JEA\\u002fQD0oGTAtJhIVGxMdKjwfPBYjNBofIRI7OC08OCgjJx4YFCA7Nzk4KDEqPjgTHjw4HBIbEhMvNj0YGRUXPzESMzAfNhMsNRM9Ej0VFB8tLD4dKzMTJiUWFRg5OBszEyc6FC0jHzIgMyYqEhMzLhI5PjslQCYhLi41IhQ\\u002fNjYxHDYZKz8gPjQZHC4iIxMuNhsyEhMmKTEwHxIePjk6Fh80GTsTJyATIRUiPSY6LxQVKS4qIis0EjM4QBMzGzscHi8mEiIULzgxEzceJTESOx0kITosNRgdKDNAEyMnOCEqPRcrMCcoEjoxNTAtOzQaGzA5JTkgEkArMSg+KB4dJCksLTc8ODEVEyc1ITUqKC8bFS8UGBsaNSk4FxUyNSIvITMxHyQSMisUGDwxPDM6MzU+EzIeKR0SKSM1GDA7MSUaFx0tGzUfMjIiEy8cJRVAOhgfJy8eEhYXIRstOS8qQCY9NSwTKTMoLSM1HhIzMh8jPBUdPicTFjUnGx4eOiEqQBUSFy0oExIZLiE2HCQUGBcvIS0aEiw8QDgkKSc\\u002fJBw6JCokOCM7FTsXOTU8MxcbNyU9LjUxFDAZGTklJjckMygSOT0ZMhoqKywXMSEpJRYXFTMZIDkkFjlAJDYvPj0rExITMTwaMTwaGyw\\u002fIBYSOywhGCstPSM+PiYiKzITOT4pGicuLSA7LCcSNRIyEhM+OColKhk5Mx4sIh82GCswEx0\\u002fLjQjMywVJzIiFhMaHTAaLSQ2Ih8bFCwrLSIYGiYyJhsnJz8hJB4YGDAvHRwvGTMwKz0wJjsTGjYVMxYvEi8VExc2JS43HhI9NhYtFhMjEhQcNysrFhkxLEAxLxs3MC0YIBg5OyQdKjAnPzYlPxU2PCAvFRw\\u002fEiAmID4nNzk0OC83FxYyEjMWNBkhNR06JTYxMhotNiYwHBc3KRkhHhcuNRsXPzcjIhMnGzk0HDIsGiETMik0JzI0PBQ3KhI6KyMwJBMXFCArIh4SKSM5HSAlEis4Jh0WNCgXHyoYGTAXLRQ+KxcfKTowHxMTKSgfJS4WMxIjOyQlOyQnEjQbEigdLiYeKDIUKSEmKjg6NBQ2Oi0aPzolGTRAFhwSHC0hEiAYExQoIiozNjc0IBwpKzFANxgULRoZKyMaORYgJxkwLxISPS8cJBQsJhMVLjoUEhwhEy0+GSsqGB0gGSkqISITHhITEiMnHz4+Kh89KjMXNDkXNDISEhU9\"},\"xaxis\":\"x\",\"yaxis\":\"y\",\"type\":\"histogram\"},{\"boxpoints\":\"all\",\"fillcolor\":\"rgba(255,255,255,0)\",\"hoveron\":\"points\",\"hovertemplate\":\"age=%{x}\\u003cextra\\u003e\\u003c\\u002fextra\\u003e\",\"jitter\":0,\"legendgroup\":\"\",\"line\":{\"color\":\"rgba(255,255,255,0)\"},\"marker\":{\"color\":\"#636efa\",\"symbol\":\"line-ns-open\"},\"name\":\"\",\"showlegend\":false,\"x\":{\"dtype\":\"i1\",\"bdata\":\"ExIcISAfLiUlPBk+FzgbEzQXOB48HhIiJTs\\u002fNxcfFhITPxwTPhojPBgfKSUmNxIcPCQSFTAkKDo6EjUiKxlAHBQTPSgoHBsfNTosOR0VFikfLRYwJS05OC43FTU7I0AcNjc4JikeEj0iFBMaHT82NyUVNDw6HTElLBIULC8aEzQgJjs9NRMUFhMWNhYiGiIdHh0uMzUTIzAgKigsMBIeMioSNiAlLxQgExs\\u002fMRIjGD8mNi4pOhIWLCwkGh4pHT0kGTgSEyctM0ATMDwbLhw7Iz8oFCgYIi0pNRsaGCI1IBMqNxw6KS8qOxM7JygSHxMsFyE3KD82PBgTHRI\\u002fNhsyNzgmMxM6FDQTNS4oOy0xEjIpMhkvExY7Myg2Hjc0Li4\\u002fOzQcHRkWGRITLx8wJDU4HDkdHB46KTITKzEbNDI2LCAiGiI5HSgbLUA0PTQ9OCtAPD4yLhg+PD8xIiEuJBM5Mh4hEi4uLxcSMCMTFRUxOCosEj05KhoUFycYQD4bNzcjLBM6MhoYMBMwMS4uKxVAEjMvQDEfNCEvJiATLBoZEys0JEA\\u002fQD0oGTAtJhIVGxMdKjwfPBYjNBofIRI7OC08OCgjJx4YFCA7Nzk4KDEqPjgTHjw4HBIbEhMvNj0YGRUXPzESMzAfNhMsNRM9Ej0VFB8tLD4dKzMTJiUWFRg5OBszEyc6FC0jHzIgMyYqEhMzLhI5PjslQCYhLi41IhQ\\u002fNjYxHDYZKz8gPjQZHC4iIxMuNhsyEhMmKTEwHxIePjk6Fh80GTsTJyATIRUiPSY6LxQVKS4qIis0EjM4QBMzGzscHi8mEiIULzgxEzceJTESOx0kITosNRgdKDNAEyMnOCEqPRcrMCcoEjoxNTAtOzQaGzA5JTkgEkArMSg+KB4dJCksLTc8ODEVEyc1ITUqKC8bFS8UGBsaNSk4FxUyNSIvITMxHyQSMisUGDwxPDM6MzU+EzIeKR0SKSM1GDA7MSUaFx0tGzUfMjIiEy8cJRVAOhgfJy8eEhYXIRstOS8qQCY9NSwTKTMoLSM1HhIzMh8jPBUdPicTFjUnGx4eOiEqQBUSFy0oExIZLiE2HCQUGBcvIS0aEiw8QDgkKSc\\u002fJBw6JCokOCM7FTsXOTU8MxcbNyU9LjUxFDAZGTklJjckMygSOT0ZMhoqKywXMSEpJRYXFTMZIDkkFjlAJDYvPj0rExITMTwaMTwaGyw\\u002fIBYSOywhGCstPSM+PiYiKzITOT4pGicuLSA7LCcSNRIyEhM+OColKhk5Mx4sIh82GCswEx0\\u002fLjQjMywVJzIiFhMaHTAaLSQ2Ih8bFCwrLSIYGiYyJhsnJz8hJB4YGDAvHRwvGTMwKz0wJjsTGjYVMxYvEi8VExc2JS43HhI9NhYtFhMjEhQcNysrFhkxLEAxLxs3MC0YIBg5OyQdKjAnPzYlPxU2PCAvFRw\\u002fEiAmID4nNzk0OC83FxYyEjMWNBkhNR06JTYxMhotNiYwHBc3KRkhHhcuNRsXPzcjIhMnGzk0HDIsGiETMik0JzI0PBQ3KhI6KyMwJBMXFCArIh4SKSM5HSAlEis4Jh0WNCgXHyoYGTAXLRQ+KxcfKTowHxMTKSgfJS4WMxIjOyQlOyQnEjQbEigdLiYeKDIUKSEmKjg6NBQ2Oi0aPzolGTRAFhwSHC0hEiAYExQoIiozNjc0IBwpKzFANxgULRoZKyMaORYgJxkwLxISPS8cJBQsJhMVLjoUEhwhEy0+GSsqGB0gGSkqISITHhITEiMnHz4+Kh89KjMXNDkXNDISEhU9\"},\"xaxis\":\"x2\",\"yaxis\":\"y2\",\"type\":\"box\"}],                        {\"template\":{\"data\":{\"histogram2dcontour\":[{\"type\":\"histogram2dcontour\",\"colorbar\":{\"outlinewidth\":0,\"ticks\":\"\"},\"colorscale\":[[0.0,\"#0d0887\"],[0.1111111111111111,\"#46039f\"],[0.2222222222222222,\"#7201a8\"],[0.3333333333333333,\"#9c179e\"],[0.4444444444444444,\"#bd3786\"],[0.5555555555555556,\"#d8576b\"],[0.6666666666666666,\"#ed7953\"],[0.7777777777777778,\"#fb9f3a\"],[0.8888888888888888,\"#fdca26\"],[1.0,\"#f0f921\"]]}],\"choropleth\":[{\"type\":\"choropleth\",\"colorbar\":{\"outlinewidth\":0,\"ticks\":\"\"}}],\"histogram2d\":[{\"type\":\"histogram2d\",\"colorbar\":{\"outlinewidth\":0,\"ticks\":\"\"},\"colorscale\":[[0.0,\"#0d0887\"],[0.1111111111111111,\"#46039f\"],[0.2222222222222222,\"#7201a8\"],[0.3333333333333333,\"#9c179e\"],[0.4444444444444444,\"#bd3786\"],[0.5555555555555556,\"#d8576b\"],[0.6666666666666666,\"#ed7953\"],[0.7777777777777778,\"#fb9f3a\"],[0.8888888888888888,\"#fdca26\"],[1.0,\"#f0f921\"]]}],\"heatmap\":[{\"type\":\"heatmap\",\"colorbar\":{\"outlinewidth\":0,\"ticks\":\"\"},\"colorscale\":[[0.0,\"#0d0887\"],[0.1111111111111111,\"#46039f\"],[0.2222222222222222,\"#7201a8\"],[0.3333333333333333,\"#9c179e\"],[0.4444444444444444,\"#bd3786\"],[0.5555555555555556,\"#d8576b\"],[0.6666666666666666,\"#ed7953\"],[0.7777777777777778,\"#fb9f3a\"],[0.8888888888888888,\"#fdca26\"],[1.0,\"#f0f921\"]]}],\"contourcarpet\":[{\"type\":\"contourcarpet\",\"colorbar\":{\"outlinewidth\":0,\"ticks\":\"\"}}],\"contour\":[{\"type\":\"contour\",\"colorbar\":{\"outlinewidth\":0,\"ticks\":\"\"},\"colorscale\":[[0.0,\"#0d0887\"],[0.1111111111111111,\"#46039f\"],[0.2222222222222222,\"#7201a8\"],[0.3333333333333333,\"#9c179e\"],[0.4444444444444444,\"#bd3786\"],[0.5555555555555556,\"#d8576b\"],[0.6666666666666666,\"#ed7953\"],[0.7777777777777778,\"#fb9f3a\"],[0.8888888888888888,\"#fdca26\"],[1.0,\"#f0f921\"]]}],\"surface\":[{\"type\":\"surface\",\"colorbar\":{\"outlinewidth\":0,\"ticks\":\"\"},\"colorscale\":[[0.0,\"#0d0887\"],[0.1111111111111111,\"#46039f\"],[0.2222222222222222,\"#7201a8\"],[0.3333333333333333,\"#9c179e\"],[0.4444444444444444,\"#bd3786\"],[0.5555555555555556,\"#d8576b\"],[0.6666666666666666,\"#ed7953\"],[0.7777777777777778,\"#fb9f3a\"],[0.8888888888888888,\"#fdca26\"],[1.0,\"#f0f921\"]]}],\"mesh3d\":[{\"type\":\"mesh3d\",\"colorbar\":{\"outlinewidth\":0,\"ticks\":\"\"}}],\"scatter\":[{\"fillpattern\":{\"fillmode\":\"overlay\",\"size\":10,\"solidity\":0.2},\"type\":\"scatter\"}],\"parcoords\":[{\"type\":\"parcoords\",\"line\":{\"colorbar\":{\"outlinewidth\":0,\"ticks\":\"\"}}}],\"scatterpolargl\":[{\"type\":\"scatterpolargl\",\"marker\":{\"colorbar\":{\"outlinewidth\":0,\"ticks\":\"\"}}}],\"bar\":[{\"error_x\":{\"color\":\"#2a3f5f\"},\"error_y\":{\"color\":\"#2a3f5f\"},\"marker\":{\"line\":{\"color\":\"#E5ECF6\",\"width\":0.5},\"pattern\":{\"fillmode\":\"overlay\",\"size\":10,\"solidity\":0.2}},\"type\":\"bar\"}],\"scattergeo\":[{\"type\":\"scattergeo\",\"marker\":{\"colorbar\":{\"outlinewidth\":0,\"ticks\":\"\"}}}],\"scatterpolar\":[{\"type\":\"scatterpolar\",\"marker\":{\"colorbar\":{\"outlinewidth\":0,\"ticks\":\"\"}}}],\"histogram\":[{\"marker\":{\"pattern\":{\"fillmode\":\"overlay\",\"size\":10,\"solidity\":0.2}},\"type\":\"histogram\"}],\"scattergl\":[{\"type\":\"scattergl\",\"marker\":{\"colorbar\":{\"outlinewidth\":0,\"ticks\":\"\"}}}],\"scatter3d\":[{\"type\":\"scatter3d\",\"line\":{\"colorbar\":{\"outlinewidth\":0,\"ticks\":\"\"}},\"marker\":{\"colorbar\":{\"outlinewidth\":0,\"ticks\":\"\"}}}],\"scattermap\":[{\"type\":\"scattermap\",\"marker\":{\"colorbar\":{\"outlinewidth\":0,\"ticks\":\"\"}}}],\"scattermapbox\":[{\"type\":\"scattermapbox\",\"marker\":{\"colorbar\":{\"outlinewidth\":0,\"ticks\":\"\"}}}],\"scatterternary\":[{\"type\":\"scatterternary\",\"marker\":{\"colorbar\":{\"outlinewidth\":0,\"ticks\":\"\"}}}],\"scattercarpet\":[{\"type\":\"scattercarpet\",\"marker\":{\"colorbar\":{\"outlinewidth\":0,\"ticks\":\"\"}}}],\"carpet\":[{\"aaxis\":{\"endlinecolor\":\"#2a3f5f\",\"gridcolor\":\"white\",\"linecolor\":\"white\",\"minorgridcolor\":\"white\",\"startlinecolor\":\"#2a3f5f\"},\"baxis\":{\"endlinecolor\":\"#2a3f5f\",\"gridcolor\":\"white\",\"linecolor\":\"white\",\"minorgridcolor\":\"white\",\"startlinecolor\":\"#2a3f5f\"},\"type\":\"carpet\"}],\"table\":[{\"cells\":{\"fill\":{\"color\":\"#EBF0F8\"},\"line\":{\"color\":\"white\"}},\"header\":{\"fill\":{\"color\":\"#C8D4E3\"},\"line\":{\"color\":\"white\"}},\"type\":\"table\"}],\"barpolar\":[{\"marker\":{\"line\":{\"color\":\"#E5ECF6\",\"width\":0.5},\"pattern\":{\"fillmode\":\"overlay\",\"size\":10,\"solidity\":0.2}},\"type\":\"barpolar\"}],\"pie\":[{\"automargin\":true,\"type\":\"pie\"}]},\"layout\":{\"autotypenumbers\":\"strict\",\"colorway\":[\"#636efa\",\"#EF553B\",\"#00cc96\",\"#ab63fa\",\"#FFA15A\",\"#19d3f3\",\"#FF6692\",\"#B6E880\",\"#FF97FF\",\"#FECB52\"],\"font\":{\"color\":\"#2a3f5f\"},\"hovermode\":\"closest\",\"hoverlabel\":{\"align\":\"left\"},\"paper_bgcolor\":\"white\",\"plot_bgcolor\":\"#E5ECF6\",\"polar\":{\"bgcolor\":\"#E5ECF6\",\"angularaxis\":{\"gridcolor\":\"white\",\"linecolor\":\"white\",\"ticks\":\"\"},\"radialaxis\":{\"gridcolor\":\"white\",\"linecolor\":\"white\",\"ticks\":\"\"}},\"ternary\":{\"bgcolor\":\"#E5ECF6\",\"aaxis\":{\"gridcolor\":\"white\",\"linecolor\":\"white\",\"ticks\":\"\"},\"baxis\":{\"gridcolor\":\"white\",\"linecolor\":\"white\",\"ticks\":\"\"},\"caxis\":{\"gridcolor\":\"white\",\"linecolor\":\"white\",\"ticks\":\"\"}},\"coloraxis\":{\"colorbar\":{\"outlinewidth\":0,\"ticks\":\"\"}},\"colorscale\":{\"sequential\":[[0.0,\"#0d0887\"],[0.1111111111111111,\"#46039f\"],[0.2222222222222222,\"#7201a8\"],[0.3333333333333333,\"#9c179e\"],[0.4444444444444444,\"#bd3786\"],[0.5555555555555556,\"#d8576b\"],[0.6666666666666666,\"#ed7953\"],[0.7777777777777778,\"#fb9f3a\"],[0.8888888888888888,\"#fdca26\"],[1.0,\"#f0f921\"]],\"sequentialminus\":[[0.0,\"#0d0887\"],[0.1111111111111111,\"#46039f\"],[0.2222222222222222,\"#7201a8\"],[0.3333333333333333,\"#9c179e\"],[0.4444444444444444,\"#bd3786\"],[0.5555555555555556,\"#d8576b\"],[0.6666666666666666,\"#ed7953\"],[0.7777777777777778,\"#fb9f3a\"],[0.8888888888888888,\"#fdca26\"],[1.0,\"#f0f921\"]],\"diverging\":[[0,\"#8e0152\"],[0.1,\"#c51b7d\"],[0.2,\"#de77ae\"],[0.3,\"#f1b6da\"],[0.4,\"#fde0ef\"],[0.5,\"#f7f7f7\"],[0.6,\"#e6f5d0\"],[0.7,\"#b8e186\"],[0.8,\"#7fbc41\"],[0.9,\"#4d9221\"],[1,\"#276419\"]]},\"xaxis\":{\"gridcolor\":\"white\",\"linecolor\":\"white\",\"ticks\":\"\",\"title\":{\"standoff\":15},\"zerolinecolor\":\"white\",\"automargin\":true,\"zerolinewidth\":2},\"yaxis\":{\"gridcolor\":\"white\",\"linecolor\":\"white\",\"ticks\":\"\",\"title\":{\"standoff\":15},\"zerolinecolor\":\"white\",\"automargin\":true,\"zerolinewidth\":2},\"scene\":{\"xaxis\":{\"backgroundcolor\":\"#E5ECF6\",\"gridcolor\":\"white\",\"linecolor\":\"white\",\"showbackground\":true,\"ticks\":\"\",\"zerolinecolor\":\"white\",\"gridwidth\":2},\"yaxis\":{\"backgroundcolor\":\"#E5ECF6\",\"gridcolor\":\"white\",\"linecolor\":\"white\",\"showbackground\":true,\"ticks\":\"\",\"zerolinecolor\":\"white\",\"gridwidth\":2},\"zaxis\":{\"backgroundcolor\":\"#E5ECF6\",\"gridcolor\":\"white\",\"linecolor\":\"white\",\"showbackground\":true,\"ticks\":\"\",\"zerolinecolor\":\"white\",\"gridwidth\":2}},\"shapedefaults\":{\"line\":{\"color\":\"#2a3f5f\"}},\"annotationdefaults\":{\"arrowcolor\":\"#2a3f5f\",\"arrowhead\":0,\"arrowwidth\":1},\"geo\":{\"bgcolor\":\"white\",\"landcolor\":\"#E5ECF6\",\"subunitcolor\":\"white\",\"showland\":true,\"showlakes\":true,\"lakecolor\":\"white\"},\"title\":{\"x\":0.05},\"mapbox\":{\"style\":\"light\"}}},\"xaxis\":{\"anchor\":\"y\",\"domain\":[0.0,1.0],\"title\":{\"text\":\"age\"}},\"yaxis\":{\"anchor\":\"x\",\"domain\":[0.0,0.8316],\"title\":{\"text\":\"count\"}},\"xaxis2\":{\"anchor\":\"y2\",\"domain\":[0.0,1.0],\"matches\":\"x\",\"showticklabels\":false,\"showgrid\":true},\"yaxis2\":{\"anchor\":\"x2\",\"domain\":[0.8416,1.0],\"matches\":\"y2\",\"showticklabels\":false,\"showline\":false,\"ticks\":\"\",\"showgrid\":false},\"legend\":{\"tracegroupgap\":0},\"margin\":{\"t\":60},\"barmode\":\"relative\"},                        {\"responsive\": true}                    )                };            </script>        </div>"
      ],
      "text/plain": [
       "Figure({\n",
       "    'data': [{'bingroup': 'x',\n",
       "              'hovertemplate': 'age=%{x}<br>count=%{y}<extra></extra>',\n",
       "              'legendgroup': '',\n",
       "              'marker': {'color': '#636efa', 'pattern': {'shape': ''}},\n",
       "              'name': '',\n",
       "              'nbinsx': 47,\n",
       "              'orientation': 'v',\n",
       "              'showlegend': False,\n",
       "              'type': 'histogram',\n",
       "              'x': {'bdata': ('ExIcISAfLiUlPBk+FzgbEzQXOB48Hh' ... 'ITEiMnHz4+Kh89KjMXNDkXNDISEhU9'),\n",
       "                    'dtype': 'i1'},\n",
       "              'xaxis': 'x',\n",
       "              'yaxis': 'y'},\n",
       "             {'boxpoints': 'all',\n",
       "              'fillcolor': 'rgba(255,255,255,0)',\n",
       "              'hoveron': 'points',\n",
       "              'hovertemplate': 'age=%{x}<extra></extra>',\n",
       "              'jitter': 0,\n",
       "              'legendgroup': '',\n",
       "              'line': {'color': 'rgba(255,255,255,0)'},\n",
       "              'marker': {'color': '#636efa', 'symbol': 'line-ns-open'},\n",
       "              'name': '',\n",
       "              'showlegend': False,\n",
       "              'type': 'box',\n",
       "              'x': {'bdata': ('ExIcISAfLiUlPBk+FzgbEzQXOB48Hh' ... 'ITEiMnHz4+Kh89KjMXNDkXNDISEhU9'),\n",
       "                    'dtype': 'i1'},\n",
       "              'xaxis': 'x2',\n",
       "              'yaxis': 'y2'}],\n",
       "    'layout': {'barmode': 'relative',\n",
       "               'legend': {'tracegroupgap': 0},\n",
       "               'margin': {'t': 60},\n",
       "               'template': '...',\n",
       "               'xaxis': {'anchor': 'y', 'domain': [0.0, 1.0], 'title': {'text': 'age'}},\n",
       "               'xaxis2': {'anchor': 'y2', 'domain': [0.0, 1.0], 'matches': 'x', 'showgrid': True, 'showticklabels': False},\n",
       "               'yaxis': {'anchor': 'x', 'domain': [0.0, 0.8316], 'title': {'text': 'count'}},\n",
       "               'yaxis2': {'anchor': 'x2',\n",
       "                          'domain': [0.8416, 1.0],\n",
       "                          'matches': 'y2',\n",
       "                          'showgrid': False,\n",
       "                          'showline': False,\n",
       "                          'showticklabels': False,\n",
       "                          'ticks': ''}}\n",
       "})"
      ]
     },
     "execution_count": 3,
     "metadata": {},
     "output_type": "execute_result"
    }
   ],
   "source": [
    "px.histogram(data,x='age',marginal='rug',nbins=47)"
   ]
  },
  {
   "cell_type": "code",
   "execution_count": 4,
   "metadata": {
    "colab": {
     "base_uri": "https://localhost:8080/",
     "height": 0
    },
    "executionInfo": {
     "elapsed": 110,
     "status": "ok",
     "timestamp": 1751016032045,
     "user": {
      "displayName": "Supreme Hindutvawadi",
      "userId": "06788822703983184258"
     },
     "user_tz": -330
    },
    "id": "rhbXI7RYseV1",
    "outputId": "a0e42d1a-cd07-468c-b3b4-d5199f2f010a"
   },
   "outputs": [
    {
     "ename": "ValueError",
     "evalue": "Mime type rendering requires nbformat>=4.2.0 but it is not installed",
     "output_type": "error",
     "traceback": [
      "\u001b[31m---------------------------------------------------------------------------\u001b[39m",
      "\u001b[31mValueError\u001b[39m                                Traceback (most recent call last)",
      "\u001b[36mFile \u001b[39m\u001b[32m~\\AppData\\Roaming\\Python\\Python313\\site-packages\\IPython\\core\\formatters.py:984\u001b[39m, in \u001b[36mIPythonDisplayFormatter.__call__\u001b[39m\u001b[34m(self, obj)\u001b[39m\n\u001b[32m    982\u001b[39m method = get_real_method(obj, \u001b[38;5;28mself\u001b[39m.print_method)\n\u001b[32m    983\u001b[39m \u001b[38;5;28;01mif\u001b[39;00m method \u001b[38;5;129;01mis\u001b[39;00m \u001b[38;5;129;01mnot\u001b[39;00m \u001b[38;5;28;01mNone\u001b[39;00m:\n\u001b[32m--> \u001b[39m\u001b[32m984\u001b[39m     \u001b[43mmethod\u001b[49m\u001b[43m(\u001b[49m\u001b[43m)\u001b[49m\n\u001b[32m    985\u001b[39m     \u001b[38;5;28;01mreturn\u001b[39;00m \u001b[38;5;28;01mTrue\u001b[39;00m\n",
      "\u001b[36mFile \u001b[39m\u001b[32mc:\\Users\\Tabah\\AppData\\Local\\Programs\\Python\\Python313\\Lib\\site-packages\\plotly\\basedatatypes.py:850\u001b[39m, in \u001b[36mBaseFigure._ipython_display_\u001b[39m\u001b[34m(self)\u001b[39m\n\u001b[32m    847\u001b[39m \u001b[38;5;28;01mimport\u001b[39;00m\u001b[38;5;250m \u001b[39m\u001b[34;01mplotly\u001b[39;00m\u001b[34;01m.\u001b[39;00m\u001b[34;01mio\u001b[39;00m\u001b[38;5;250m \u001b[39m\u001b[38;5;28;01mas\u001b[39;00m\u001b[38;5;250m \u001b[39m\u001b[34;01mpio\u001b[39;00m\n\u001b[32m    849\u001b[39m \u001b[38;5;28;01mif\u001b[39;00m pio.renderers.render_on_display \u001b[38;5;129;01mand\u001b[39;00m pio.renderers.default:\n\u001b[32m--> \u001b[39m\u001b[32m850\u001b[39m     \u001b[43mpio\u001b[49m\u001b[43m.\u001b[49m\u001b[43mshow\u001b[49m\u001b[43m(\u001b[49m\u001b[38;5;28;43mself\u001b[39;49m\u001b[43m)\u001b[49m\n\u001b[32m    851\u001b[39m \u001b[38;5;28;01melse\u001b[39;00m:\n\u001b[32m    852\u001b[39m     \u001b[38;5;28mprint\u001b[39m(\u001b[38;5;28mrepr\u001b[39m(\u001b[38;5;28mself\u001b[39m))\n",
      "\u001b[36mFile \u001b[39m\u001b[32mc:\\Users\\Tabah\\AppData\\Local\\Programs\\Python\\Python313\\Lib\\site-packages\\plotly\\io\\_renderers.py:415\u001b[39m, in \u001b[36mshow\u001b[39m\u001b[34m(fig, renderer, validate, **kwargs)\u001b[39m\n\u001b[32m    410\u001b[39m     \u001b[38;5;28;01mraise\u001b[39;00m \u001b[38;5;167;01mValueError\u001b[39;00m(\n\u001b[32m    411\u001b[39m         \u001b[33m\"\u001b[39m\u001b[33mMime type rendering requires ipython but it is not installed\u001b[39m\u001b[33m\"\u001b[39m\n\u001b[32m    412\u001b[39m     )\n\u001b[32m    414\u001b[39m \u001b[38;5;28;01mif\u001b[39;00m \u001b[38;5;129;01mnot\u001b[39;00m nbformat \u001b[38;5;129;01mor\u001b[39;00m Version(nbformat.__version__) < Version(\u001b[33m\"\u001b[39m\u001b[33m4.2.0\u001b[39m\u001b[33m\"\u001b[39m):\n\u001b[32m--> \u001b[39m\u001b[32m415\u001b[39m     \u001b[38;5;28;01mraise\u001b[39;00m \u001b[38;5;167;01mValueError\u001b[39;00m(\n\u001b[32m    416\u001b[39m         \u001b[33m\"\u001b[39m\u001b[33mMime type rendering requires nbformat>=4.2.0 but it is not installed\u001b[39m\u001b[33m\"\u001b[39m\n\u001b[32m    417\u001b[39m     )\n\u001b[32m    419\u001b[39m display_jupyter_version_warnings()\n\u001b[32m    421\u001b[39m ipython_display.display(bundle, raw=\u001b[38;5;28;01mTrue\u001b[39;00m)\n",
      "\u001b[31mValueError\u001b[39m: Mime type rendering requires nbformat>=4.2.0 but it is not installed"
     ]
    },
    {
     "data": {
      "application/vnd.plotly.v1+json": {
       "config": {
        "plotlyServerURL": "https://plot.ly"
       },
       "data": [
        {
         "bingroup": "x",
         "hovertemplate": "charges=%{x}<br>count=%{y}<extra></extra>",
         "legendgroup": "",
         "marker": {
          "color": "#636efa",
          "pattern": {
           "shape": ""
          }
         },
         "name": "",
         "orientation": "v",
         "showlegend": false,
         "type": "histogram",
         "x": {
          "bdata": "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",
          "dtype": "f8"
         },
         "xaxis": "x",
         "yaxis": "y"
        }
       ],
       "layout": {
        "barmode": "relative",
        "legend": {
         "tracegroupgap": 0
        },
        "margin": {
         "t": 60
        },
        "template": {
         "data": {
          "bar": [
           {
            "error_x": {
             "color": "#2a3f5f"
            },
            "error_y": {
             "color": "#2a3f5f"
            },
            "marker": {
             "line": {
              "color": "#E5ECF6",
              "width": 0.5
             },
             "pattern": {
              "fillmode": "overlay",
              "size": 10,
              "solidity": 0.2
             }
            },
            "type": "bar"
           }
          ],
          "barpolar": [
           {
            "marker": {
             "line": {
              "color": "#E5ECF6",
              "width": 0.5
             },
             "pattern": {
              "fillmode": "overlay",
              "size": 10,
              "solidity": 0.2
             }
            },
            "type": "barpolar"
           }
          ],
          "carpet": [
           {
            "aaxis": {
             "endlinecolor": "#2a3f5f",
             "gridcolor": "white",
             "linecolor": "white",
             "minorgridcolor": "white",
             "startlinecolor": "#2a3f5f"
            },
            "baxis": {
             "endlinecolor": "#2a3f5f",
             "gridcolor": "white",
             "linecolor": "white",
             "minorgridcolor": "white",
             "startlinecolor": "#2a3f5f"
            },
            "type": "carpet"
           }
          ],
          "choropleth": [
           {
            "colorbar": {
             "outlinewidth": 0,
             "ticks": ""
            },
            "type": "choropleth"
           }
          ],
          "contour": [
           {
            "colorbar": {
             "outlinewidth": 0,
             "ticks": ""
            },
            "colorscale": [
             [
              0,
              "#0d0887"
             ],
             [
              0.1111111111111111,
              "#46039f"
             ],
             [
              0.2222222222222222,
              "#7201a8"
             ],
             [
              0.3333333333333333,
              "#9c179e"
             ],
             [
              0.4444444444444444,
              "#bd3786"
             ],
             [
              0.5555555555555556,
              "#d8576b"
             ],
             [
              0.6666666666666666,
              "#ed7953"
             ],
             [
              0.7777777777777778,
              "#fb9f3a"
             ],
             [
              0.8888888888888888,
              "#fdca26"
             ],
             [
              1,
              "#f0f921"
             ]
            ],
            "type": "contour"
           }
          ],
          "contourcarpet": [
           {
            "colorbar": {
             "outlinewidth": 0,
             "ticks": ""
            },
            "type": "contourcarpet"
           }
          ],
          "heatmap": [
           {
            "colorbar": {
             "outlinewidth": 0,
             "ticks": ""
            },
            "colorscale": [
             [
              0,
              "#0d0887"
             ],
             [
              0.1111111111111111,
              "#46039f"
             ],
             [
              0.2222222222222222,
              "#7201a8"
             ],
             [
              0.3333333333333333,
              "#9c179e"
             ],
             [
              0.4444444444444444,
              "#bd3786"
             ],
             [
              0.5555555555555556,
              "#d8576b"
             ],
             [
              0.6666666666666666,
              "#ed7953"
             ],
             [
              0.7777777777777778,
              "#fb9f3a"
             ],
             [
              0.8888888888888888,
              "#fdca26"
             ],
             [
              1,
              "#f0f921"
             ]
            ],
            "type": "heatmap"
           }
          ],
          "histogram": [
           {
            "marker": {
             "pattern": {
              "fillmode": "overlay",
              "size": 10,
              "solidity": 0.2
             }
            },
            "type": "histogram"
           }
          ],
          "histogram2d": [
           {
            "colorbar": {
             "outlinewidth": 0,
             "ticks": ""
            },
            "colorscale": [
             [
              0,
              "#0d0887"
             ],
             [
              0.1111111111111111,
              "#46039f"
             ],
             [
              0.2222222222222222,
              "#7201a8"
             ],
             [
              0.3333333333333333,
              "#9c179e"
             ],
             [
              0.4444444444444444,
              "#bd3786"
             ],
             [
              0.5555555555555556,
              "#d8576b"
             ],
             [
              0.6666666666666666,
              "#ed7953"
             ],
             [
              0.7777777777777778,
              "#fb9f3a"
             ],
             [
              0.8888888888888888,
              "#fdca26"
             ],
             [
              1,
              "#f0f921"
             ]
            ],
            "type": "histogram2d"
           }
          ],
          "histogram2dcontour": [
           {
            "colorbar": {
             "outlinewidth": 0,
             "ticks": ""
            },
            "colorscale": [
             [
              0,
              "#0d0887"
             ],
             [
              0.1111111111111111,
              "#46039f"
             ],
             [
              0.2222222222222222,
              "#7201a8"
             ],
             [
              0.3333333333333333,
              "#9c179e"
             ],
             [
              0.4444444444444444,
              "#bd3786"
             ],
             [
              0.5555555555555556,
              "#d8576b"
             ],
             [
              0.6666666666666666,
              "#ed7953"
             ],
             [
              0.7777777777777778,
              "#fb9f3a"
             ],
             [
              0.8888888888888888,
              "#fdca26"
             ],
             [
              1,
              "#f0f921"
             ]
            ],
            "type": "histogram2dcontour"
           }
          ],
          "mesh3d": [
           {
            "colorbar": {
             "outlinewidth": 0,
             "ticks": ""
            },
            "type": "mesh3d"
           }
          ],
          "parcoords": [
           {
            "line": {
             "colorbar": {
              "outlinewidth": 0,
              "ticks": ""
             }
            },
            "type": "parcoords"
           }
          ],
          "pie": [
           {
            "automargin": true,
            "type": "pie"
           }
          ],
          "scatter": [
           {
            "fillpattern": {
             "fillmode": "overlay",
             "size": 10,
             "solidity": 0.2
            },
            "type": "scatter"
           }
          ],
          "scatter3d": [
           {
            "line": {
             "colorbar": {
              "outlinewidth": 0,
              "ticks": ""
             }
            },
            "marker": {
             "colorbar": {
              "outlinewidth": 0,
              "ticks": ""
             }
            },
            "type": "scatter3d"
           }
          ],
          "scattercarpet": [
           {
            "marker": {
             "colorbar": {
              "outlinewidth": 0,
              "ticks": ""
             }
            },
            "type": "scattercarpet"
           }
          ],
          "scattergeo": [
           {
            "marker": {
             "colorbar": {
              "outlinewidth": 0,
              "ticks": ""
             }
            },
            "type": "scattergeo"
           }
          ],
          "scattergl": [
           {
            "marker": {
             "colorbar": {
              "outlinewidth": 0,
              "ticks": ""
             }
            },
            "type": "scattergl"
           }
          ],
          "scattermap": [
           {
            "marker": {
             "colorbar": {
              "outlinewidth": 0,
              "ticks": ""
             }
            },
            "type": "scattermap"
           }
          ],
          "scattermapbox": [
           {
            "marker": {
             "colorbar": {
              "outlinewidth": 0,
              "ticks": ""
             }
            },
            "type": "scattermapbox"
           }
          ],
          "scatterpolar": [
           {
            "marker": {
             "colorbar": {
              "outlinewidth": 0,
              "ticks": ""
             }
            },
            "type": "scatterpolar"
           }
          ],
          "scatterpolargl": [
           {
            "marker": {
             "colorbar": {
              "outlinewidth": 0,
              "ticks": ""
             }
            },
            "type": "scatterpolargl"
           }
          ],
          "scatterternary": [
           {
            "marker": {
             "colorbar": {
              "outlinewidth": 0,
              "ticks": ""
             }
            },
            "type": "scatterternary"
           }
          ],
          "surface": [
           {
            "colorbar": {
             "outlinewidth": 0,
             "ticks": ""
            },
            "colorscale": [
             [
              0,
              "#0d0887"
             ],
             [
              0.1111111111111111,
              "#46039f"
             ],
             [
              0.2222222222222222,
              "#7201a8"
             ],
             [
              0.3333333333333333,
              "#9c179e"
             ],
             [
              0.4444444444444444,
              "#bd3786"
             ],
             [
              0.5555555555555556,
              "#d8576b"
             ],
             [
              0.6666666666666666,
              "#ed7953"
             ],
             [
              0.7777777777777778,
              "#fb9f3a"
             ],
             [
              0.8888888888888888,
              "#fdca26"
             ],
             [
              1,
              "#f0f921"
             ]
            ],
            "type": "surface"
           }
          ],
          "table": [
           {
            "cells": {
             "fill": {
              "color": "#EBF0F8"
             },
             "line": {
              "color": "white"
             }
            },
            "header": {
             "fill": {
              "color": "#C8D4E3"
             },
             "line": {
              "color": "white"
             }
            },
            "type": "table"
           }
          ]
         },
         "layout": {
          "annotationdefaults": {
           "arrowcolor": "#2a3f5f",
           "arrowhead": 0,
           "arrowwidth": 1
          },
          "autotypenumbers": "strict",
          "coloraxis": {
           "colorbar": {
            "outlinewidth": 0,
            "ticks": ""
           }
          },
          "colorscale": {
           "diverging": [
            [
             0,
             "#8e0152"
            ],
            [
             0.1,
             "#c51b7d"
            ],
            [
             0.2,
             "#de77ae"
            ],
            [
             0.3,
             "#f1b6da"
            ],
            [
             0.4,
             "#fde0ef"
            ],
            [
             0.5,
             "#f7f7f7"
            ],
            [
             0.6,
             "#e6f5d0"
            ],
            [
             0.7,
             "#b8e186"
            ],
            [
             0.8,
             "#7fbc41"
            ],
            [
             0.9,
             "#4d9221"
            ],
            [
             1,
             "#276419"
            ]
           ],
           "sequential": [
            [
             0,
             "#0d0887"
            ],
            [
             0.1111111111111111,
             "#46039f"
            ],
            [
             0.2222222222222222,
             "#7201a8"
            ],
            [
             0.3333333333333333,
             "#9c179e"
            ],
            [
             0.4444444444444444,
             "#bd3786"
            ],
            [
             0.5555555555555556,
             "#d8576b"
            ],
            [
             0.6666666666666666,
             "#ed7953"
            ],
            [
             0.7777777777777778,
             "#fb9f3a"
            ],
            [
             0.8888888888888888,
             "#fdca26"
            ],
            [
             1,
             "#f0f921"
            ]
           ],
           "sequentialminus": [
            [
             0,
             "#0d0887"
            ],
            [
             0.1111111111111111,
             "#46039f"
            ],
            [
             0.2222222222222222,
             "#7201a8"
            ],
            [
             0.3333333333333333,
             "#9c179e"
            ],
            [
             0.4444444444444444,
             "#bd3786"
            ],
            [
             0.5555555555555556,
             "#d8576b"
            ],
            [
             0.6666666666666666,
             "#ed7953"
            ],
            [
             0.7777777777777778,
             "#fb9f3a"
            ],
            [
             0.8888888888888888,
             "#fdca26"
            ],
            [
             1,
             "#f0f921"
            ]
           ]
          },
          "colorway": [
           "#636efa",
           "#EF553B",
           "#00cc96",
           "#ab63fa",
           "#FFA15A",
           "#19d3f3",
           "#FF6692",
           "#B6E880",
           "#FF97FF",
           "#FECB52"
          ],
          "font": {
           "color": "#2a3f5f"
          },
          "geo": {
           "bgcolor": "white",
           "lakecolor": "white",
           "landcolor": "#E5ECF6",
           "showlakes": true,
           "showland": true,
           "subunitcolor": "white"
          },
          "hoverlabel": {
           "align": "left"
          },
          "hovermode": "closest",
          "mapbox": {
           "style": "light"
          },
          "paper_bgcolor": "white",
          "plot_bgcolor": "#E5ECF6",
          "polar": {
           "angularaxis": {
            "gridcolor": "white",
            "linecolor": "white",
            "ticks": ""
           },
           "bgcolor": "#E5ECF6",
           "radialaxis": {
            "gridcolor": "white",
            "linecolor": "white",
            "ticks": ""
           }
          },
          "scene": {
           "xaxis": {
            "backgroundcolor": "#E5ECF6",
            "gridcolor": "white",
            "gridwidth": 2,
            "linecolor": "white",
            "showbackground": true,
            "ticks": "",
            "zerolinecolor": "white"
           },
           "yaxis": {
            "backgroundcolor": "#E5ECF6",
            "gridcolor": "white",
            "gridwidth": 2,
            "linecolor": "white",
            "showbackground": true,
            "ticks": "",
            "zerolinecolor": "white"
           },
           "zaxis": {
            "backgroundcolor": "#E5ECF6",
            "gridcolor": "white",
            "gridwidth": 2,
            "linecolor": "white",
            "showbackground": true,
            "ticks": "",
            "zerolinecolor": "white"
           }
          },
          "shapedefaults": {
           "line": {
            "color": "#2a3f5f"
           }
          },
          "ternary": {
           "aaxis": {
            "gridcolor": "white",
            "linecolor": "white",
            "ticks": ""
           },
           "baxis": {
            "gridcolor": "white",
            "linecolor": "white",
            "ticks": ""
           },
           "bgcolor": "#E5ECF6",
           "caxis": {
            "gridcolor": "white",
            "linecolor": "white",
            "ticks": ""
           }
          },
          "title": {
           "x": 0.05
          },
          "xaxis": {
           "automargin": true,
           "gridcolor": "white",
           "linecolor": "white",
           "ticks": "",
           "title": {
            "standoff": 15
           },
           "zerolinecolor": "white",
           "zerolinewidth": 2
          },
          "yaxis": {
           "automargin": true,
           "gridcolor": "white",
           "linecolor": "white",
           "ticks": "",
           "title": {
            "standoff": 15
           },
           "zerolinecolor": "white",
           "zerolinewidth": 2
          }
         }
        },
        "xaxis": {
         "anchor": "y",
         "domain": [
          0,
          1
         ],
         "title": {
          "text": "charges"
         }
        },
        "yaxis": {
         "anchor": "x",
         "domain": [
          0,
          1
         ],
         "title": {
          "text": "count"
         }
        }
       }
      },
      "text/html": [
       "<div>                        <script type=\"text/javascript\">window.PlotlyConfig = {MathJaxConfig: 'local'};</script>\n",
       "        <script charset=\"utf-8\" src=\"https://cdn.plot.ly/plotly-3.0.1.min.js\" integrity=\"sha256-oy6Be7Eh6eiQFs5M7oXuPxxm9qbJXEtTpfSI93dW16Q=\" crossorigin=\"anonymous\"></script>                <div id=\"b6470ebd-5470-4c49-be95-53faab75637f\" class=\"plotly-graph-div\" style=\"height:100%; width:100%;\"></div>            <script type=\"text/javascript\">                window.PLOTLYENV=window.PLOTLYENV || {};                                if (document.getElementById(\"b6470ebd-5470-4c49-be95-53faab75637f\")) {                    Plotly.newPlot(                        \"b6470ebd-5470-4c49-be95-53faab75637f\",                        [{\"bingroup\":\"x\",\"hovertemplate\":\"charges=%{x}\\u003cbr\\u003ecount=%{y}\\u003cextra\\u003e\\u003c\\u002fextra\\u003e\",\"legendgroup\":\"\",\"marker\":{\"color\":\"#636efa\",\"pattern\":{\"shape\":\"\"}},\"name\":\"\",\"orientation\":\"v\",\"showlegend\":false,\"x\":{\"dtype\":\"f8\",\"bdata\":\"YOXQIjt90EBTliGONfaaQMHKoUV2YbFAy2d5Hh541UAUP8bctTWuQGPuWkI+Wa1A3EYDeEsYwEDcaABvgXG8QHicoiNpBrlAixpMw8g+3EAdyeU\\u002fpEKlQJXUCWguKNtAHVpkO1+LnECJ0t7gW6nFQAYSFD94V+NAnMQgsPK0nEB1ApoIqxbFQELPZtVXtqJAexSuRzG1xEDn+6nxrvzhQKyL22hs1slA2\\u002fl+arw1sEAGgZVDC8SRQKTfvg68aOJAK4cW2eY7uEAawFsgkVjLQKH4MebqOcxAc2iR7VD2x0DaG3xhYq6lQAAAAADg5uJAUI2XbjJg4UBL6gQ0YSyhQOkmMQjMT7JAJLn8hwzlykC8kXnkUf\\u002foQI\\u002fC9Si8ZZlAV1uxvxh+zkCamZmZmfyhQPwYc9fIa+NAO99PjauF50C0yHa+H8ynQHrHKTrCVbNAp3nHKXqAuECq8dJNwqm4QESLbOerv7dAhiAHJZIl1EDc14FztoKqQDSitDfYyatAKcsQx\\u002fKqyECDwMqhpebiQOf7qfFCRqFAZMxdS6j3q0AhsHJoEQTXQApoImzSbeJAt2J\\u002f2a17v0BwzojSDzHnQDMzMzOvk8pAfdCzWeW\\u002f4EBTBaOSMrPWQI0o7Q2GZbdAE2HD0xvPwEDf4AuTqZixQFjnGJCndd1AeqUsQ6QlsEBiodY037vMQGDl0CLbPJtAqMZLN4nNy0DLEMe6YPW4QIMvTKYaILdABaOSOsk\\u002f0UDP91PjcTDQQJHtfD91j7pAc2iR7dzuxkBIv30dUFXHQMl2vp\\u002faLr5A9wZfmFQuxkD129eB09auQLprCfng8ZdAtFn1uQqGpUCoNc07Bqu5QCSX\\u002f5A2WbFAO3DOiEr\\u002fvkBjf9k9pSXiQOLplbLUjMVAVOOlm5Bz40CWIY51o5rUQLyWkA9eR+VADAIrh5agxUCDL0ymqlq\\u002fQKCJsOFJpcVAImx4euWrn0C4rwPnEF\\u002fFQIqO5PI7et1Aqz5XWwFhtkApXI\\u002fCYRfnQGkAb4HEba1AXI\\u002fC9aikx0DDZKpgJPnDQN0kBoEp49VA9P3UeFnmzkCYbhKDICq4QIY41sUteqxAYTJVMDbY1EDYgXNGjDfeQH0\\u002fNV7ai7NAqvHSTRgm0UA\\u002fNV66CTeiQJ7vp8abSq5ANBE2PD1mpkBGlPYG8fnmQH\\u002fZPXmgJMVA\\u002fKnx0q00x0Cq8dJNwiayQJwzorR3yaJAPE7RkShwxkBNSkG3\\u002f4zdQA8LtaapOsZA\\u002fmX35PGo0kBJnYAmqszAQMRCrWluHrpAwcqhRVY8vkBoke18f6aaQNnO91PzoqFA\\u002fKnx0o9Q40BJLv8hgcHDQGaIY13McqpA7FG4HkWu0ECgGi\\u002fdRNHCQNDVVuyL999A4XoUrmfCt0AtIR\\u002f0uAfJQCzUmuYtmMpAEFg5tMjNxUDpSC7\\u002fQYKZQBpR2htsMqNAc2iR7VzXoEBU46WbxLWTQFYOLbK99p9A9u6P966u2kBYObTIdu2gQIVf6uf5u9pAeJyiIxlFq0DhehSuH4fSQNNNYhB4u9FAHhZqTX9C1EDiWBe3QRK0QA+cM6IR4uNA5BQdyc1Kw0BE+u3r2GfFQH9qvHQTypxAv30dODcFtED2KFyPom2+QIqO5PJXvrhAQBNhwy9\\u002f00DdtYR8MKW7QAn5oGezJLtAqaROQOu51ECNl24SF0\\u002fOQBzr4jbICuJAfERMiVhJ00C+nxovLdnUQPT91HivpuFAsp3vp0ZpxECq8dJNIiC0QJjdk4clpLNALv8h\\u002fYpTxEB7FK5Hod6yQDLmriXM8LdAHVpkO48+pUCEns2q59uyQNCzWfWxLspASOF6FK60v0AjSnuDL3uaQOkmMQgMfrRAu7iNBuBOpkBmZmZmDtfnQOVhodbcN7lANV66SQxixEDLoUW2ozvBQET67eskrcBAxty1hPDrxkDnHafoSH+ZQB+F61HYSq9AwoanV3r7vEAf9GxWbTO+QOQUHckqXeVAdy0hH\\u002fQbr0Cyne+nps20QHWTGAT2d7pAaCJseOo6s0AibHh6zYbIQFYOLbLdE7NAVcGopE6zoECe76fGK4bHQLprCfngxZFAg1FJnUCemUCkcD0KtxG2QDEIrBxqosBAH4XrUSDWwkDswDkjwhrNQLyWkA9apaBAZ9XnapNTwUAoDwu1GmrJQCntDb68IeJAFK5H4Rrru0AFNBE2vPGwQMHKoUWm78ZAutqK\\u002fQV+1ED0\\u002fdR4eRzLQF+YTBUc0rlA4XoUrkfwnkDD9Shct+K\\u002fQC2yne9no6tAlPYGX8iKs0DZzvdTA6TAQIPAyqHFy7xAXrpJDNI5xEC28\\u002f3UeGejQHctIR\\u002f0gapAJGJKJHF+2EBqvHSTeJSzQKjGSzdxosRAGy\\u002fdJIaFtEDhehSuc\\u002fvgQOELk6niDtNAmN2Th5Vpx0DgnBGl\\u002fQKlQLoUV5XVqNdAi\\u002f1l9yy+vEBZF7fRoATCQLG\\u002f7J6kE71A4umVsqRYy0BxPQrXI\\u002f+aQIts5\\u002fvpFshAGsBbIDE2ukDSAN4CEf3SQF8HzhkRP5lAaQBvgTRvsUDeAgmKK\\u002fLQQInS3uCr8LtAApoIG\\u002fTN4kClLEMcE+q0QKG+ZU4EK+FAokW2890cvEAOvjCZytTcQDRo6J8e59dAAd4CCVq0yEBYqDXNuwufQEw3iUFgoJxA\\u002fKnx0h2Rr0A0gLdAug7JQClcj8IpGedA6Ugu\\u002f5ec5UA5tMh2vqSwQARWDi0lEeRAat5xiqp7yUCJ0t7gJXLlQLpJDAL7GLVAQYLixwyAxkAf9GxWyXrgQK5H4XqUHsdAGsBbIFGv0EBTliGOdUnYQEVHcvlsr+FAIlSp2b\\u002f700CLbOf744jmQCGwcmjhxtBAuK8D51B\\u002fzECwcmiRDRG9QDsBTYQ9IcJA+1xtxb7dmkBCYOXQGu3kQHE9CtezYbxAnl4py9TIwkBYObTIVrajQPhT46Xr+cJAB1+YTGXnpUCmm8Qg8MygQO\\u002fJw0JlQMlAWRe30ZA\\u002fw0DYgXNG5M7VQCgPC7WltOdAT6+UZSCNsECTqYJRjTPHQClcj8L1zMJAGlHaGxw+vkB\\u002f+zpwdmzCQFafq60Y2MtANjy9Uhlj50AtW+uLNGLZQKjGSzcJyKhATGw+rnPN00DeAgmKB5DkQET67euA2aBAL90kBkGErkBuowG8RaKaQDVeukns1M9AqmBUUqt21UDarPpcS+viQH2utmK\\u002fEMJASOF6FL5aukAPnDOiWErYQCxlGeLA9MdAwcqhRXb9sEAj2\\u002fl+GrPIQMl2vp+W\\u002fNJAVz7L82q000BlGeJYBzewQDAqqRNMVMdAGJXUCShFvkAnMQisPH7AQC\\u002fdJAaBJZtA9GxWfZCR5ECwA+eMaLy\\u002fQC2yne\\u002fbAuFAI9v5fmL9wkCKsOHpoUHBQAisHFqIYcRAcF8HzjH9vEBqTfOOmzuyQBTQRNjAHrNAiJ0pdOoX2ECuR+F6dFThQGgibHgml8ZA30+Nly5kpkCcoiO5NMi5QNSa5h3H06tAArwFEhDh5EBcj8L1AGfnQB+F61FI3MFAGCZTBbKw50BCz2bVZ9LXQCS5\\u002fIeEOspAJLn8hzDFxkBfJLTlJLLSQFg5tMhm\\u002f8pAvJaQD0q3x0BkO99P1TjLQHe+nxrjd+RAWMoyxFEUwEBk6UMXzoLSQBIUP8YMFMpAvHSTGIzQyUAU0ETY7E7LQJXUCWiacMVAbHh6pUwouEBaZDvf\\u002fxmzQCSX\\u002f5A6R8BAfoy5awlmtUDXEvJB746ZQBHHurhNG8dAbxKDwApywUAtsp3vZ8SrQPVKWYZwOshAtvP91ISay0AHfH4YwwbYQOPHmLsOeMFAZapgVCrKwkD4wmSqILWcQMKGp1cKHplAWmQ735+dw0C4HoXrEY+yQOOlm8RACstAK4cW2Y5LpEBhw9MrBdmoQJayDHEsGcNAuB6F6yE7ykAnwoanD1G\\u002fQIiFWtNEtL9A2\\u002fl+arwzq0D99nXghDPKQOLplbKkfsdAt9EA3mrXvUC6SQwCp57hQJVliGMdvpVAc9cS8n2c0UCBJsKG+ybVQM\\u002f3U+PHneJAHhZqTe0R0EBZ+tAFP17aQNXnaitKT81AvsEXJvan5ECXHHdKX0vUQM9m1efq1rZADeAtkEQ3wEAOLbKdb7eTQCcxCKw0KMdAU9DtJSmT3UCdEaW9odGoQPOOU3QUCrJAf2q8dG\\u002f4xECoV8oyJLSgQOM2GsAHgsFA5dAi2xElwkA9CtejgGHCQEI+6Nm0Zr1A8tJNYgClwEA5C3vanzLQQPCnxks3Rs1Aq8\\u002fVVqx+mUB1kxgEZhjCQNxGA3jrk79AysNCrVWyzEAUrkfhug7EQM\\u002f3U+NleKlA7uvAOXNCxkBHcvkPGVmwQM\\u002f3U+PVrcBAINJvX4f8uUBkzF1L6NSvQGaIY11cVZlAzTtO0bMi00B\\u002f+zpw0jvMQGq8dJMY2LNAsHJokc2toEBGJXUCurG8QD81Xrp52sFA46WbxBAs0kDmriXkIynMQNJvXweeRdxANxrAWyjl5kDcRgN448DmQIPAyqGqGuNATRWMSspOpUDXo3A9KoTBQM6qz9VuHsNARiV1AhKbuUB7FRkdvJu8QMPTK2XpvqhAYVRSJzBd0kC5cCAkvYrWQM6I0t5oKrNAAiuHFrlRt0Bcj8L1GK\\u002fIQAFNhA2Xk7BA8IXJVOkvy0By+Q\\u002fpl52hQGq8dJPYJrdA2\\u002fl+akSYyECDwMqhpaKmQMpUwahEgrJARIts5+sa4kDyQc9mlfWRQLvtQnP5n9tAMLsnD1V\\u002f2UDdJAaBFbG8QIqO5PJ\\u002f3chAbxKDwAJfxkBt5\\u002fup8Ra3QGIQWDlUmrJACKwcWkRYvUBLyAc9e4CvQPp+arx0xp5ArIvbaCCmm0D129eBY06yQLu4jQZASdVAGlHaG\\u002fw0x0BiodY0YyDHQPp+ary0tMRAUrgehasCvkBMpgpGvUbEQF66SQwCoNVAImx4eim\\u002fzUCWIY51tc7FQOxRuB4lgJlA\\u002fyH99n0Q00AQWDm0WNTJQDcawFuwschAZ9Xnaju+1kDiWBe3MTKhQOC+DpwTgqNAPL1SlvE2oUCPwvUo3EGbQADjGTSyY9RAukkMApPJ2ED0bFZ9KjHcQJPjTulwKeFAmpmZmcnMo0CHFtnON\\u002fmXQB3J5T8kgZxAj8L1KJhhzkCI9NvXWSzCQC\\u002fdJAbBWJlAEFg5tAhMw0DLoUW2g63CQF3+Q\\u002foF+7BAi\\u002f1l96xdyEA5tMh2vpeTQGDI6lak3udA2qz6XP1uxEBqvHSTGFObQNwuNNdF8NdA7zhFR\\u002fIooUDByqFFBo\\u002fIQFg5tMiGhdFAejarPhe8nkCDwMqhpUOzQIcW2c73W79AiIVa04wJwEBI4XoUbk\\u002fKQH0\\u002fNV62rOFACYofY161ukCUh4Vah7LVQBKDwMoVyd9Axf6ye2JWt0BGtvP93Iy6QPT91HiJpqRAiUFg5TAKqEB5WKg1bcinQHE9CtejX8ZASL99HYD5xkDtnjws1ISjQCsYldSpSMJABFYOLTKhk0DXo3A9ipbUQD0K16NgMcZArkfhehIT20A17zhFu27AQHE9CtfDeLRA+n5qvIQjrkCtUQ\\u002fRJA7ZQHUCmghbNK9AGCZTBSdFw0BxGw3gnRW1QPZdEfyyrOJA78nDQlFtxkBEozuI637XQDMzMzODQsNAH4XrUXRLwEDcaABvAbCaQCSX\\u002f5BwxOdAAG+BBL1ty0AhsHJo8T7JQBZNZyetw9JAQKTfvo4Dy0DFILByILO3QOOlm8RgVLdAukkMAos8wUCuR+F6jBTAQIleRrGCtNpAnMQgsHI0uEAoDwu1xuCnQDEIrByaH8tADAdCsk0j70CjI7n8v\\u002fvDQNuK\\u002fWXPP9dAUdobfLGJqUDP91PjNYnGQPRsVn0+G6lA9ihcj+Zk5kA730+NRyfKQDlFR3LZCa9Ad76fGo9OyUCk374O1NnFQAq6vaS5ddFAAiuHFlkPrkDcRgN4S0fAQBpR2htcvq5A9+Rhoe2F40Bd3EYDuLmZQNnO91Pr9MFAUPwYc\\u002fdVxUAGgZVDC3yjQCJseHpdscFAaQBvgYTipUDi6ZWy3KCgQG1Wfa6O5bhAveMUHblYvEDLoUW2c5DGQOJYF7fAUOZA3SQGgZVirUDmriXk41ahQBgmUwWjkbJAVfZdEQDh3kAeFmpNB9TJQACRfvty38dAVHQkl\\u002f8DmkCH4SNiYpnsQHE9CtdD\\u002fsJAxyk6kvsMqUBGlPYG\\u002fzjJQINRSZ1AnplAB1+YTEXUuEBEwCFUjzbRQCUGgZVDa5NAYTJVMJqrskA2qz5XayquQAHeAgn8dOVADwu1ptGhykC1N\\u002fjC1Fi3QGq8dJM4IcdAzojS3gh2wEB0JJf\\u002f8AykQDeJQWCN\\u002f81Adk8eFipNtkAEVg4t\\u002fjvBQOwvuydP2L1AxSCwctjatUBMN4lBgBG9QKoOuRn\\u002fV+BAxY8xdy2EmUDarPpcEevBQK5H4XpEn8VAH4XrUZBqz0CitDf4Pg\\u002fRQC2yne\\u002fHIcJAsHJokT3Nq0Dl8h\\u002fSsRPZQEi\\u002ffR0YU7FAGy\\u002fdJC4p40DdtYR82LHAQAaBlUOLq7lAMZkqGGU\\u002foUA\\u002fNV66CWG6QOF6FK5HYJ1AqoJRSTv75EC0WfW5DsXGQLpJDAKjwtZAlWWIY\\u002fvQ4EBQjZdu0uzEQNV46SaxlqxAWmQ738ee40ApXI\\u002fCFe\\u002fBQCzUmuY65+BAa5p3nM6wx0DnjCjt7TCtQGUZ4liXXLpAcjPcgFsfxkDl0CLb+TLGQCcxCKzu\\u002fORANV66Seyyw0D2KFyPQueeQEMc6+JWTapAMuauJVwFvEA1XrpJrFfCQE2EDU93JcxA2PD0SjkqpUDHgOz1wlTYQPjCZKpUrdNA5q4l5JNKyUDufD81Pgq6QInvxKxuAuBA+aBns+6ryUC8BRIUn3KxQCNnYU+JXdJA3GgAb5HOw0D3deCckeu3QCBB8WMkHsBAxSCwcujAmkDSb18HekfIQCegibBxJMNAukkMAtupxECcM6K0TyzAQLx0kxjEp8BAF9nO90Pqx0BCYOXQ2hbYQM\\u002f3U+OlpKpAEhQ\\u002fxmy1r0BeY5eoEMbZQHRGlPYyHcxAhJ7Nqp8juUCwOJz5G6zVQMWPMXeNHLRAF0hQ\\u002fJjBkUBSSZ2AemfaQIY41sUNyORAfT81Xrr\\u002fwECDwMqhaojjQA8LtabGUeZAIEHxYzxkuUB24JwRleWyQBTQRNgwz65AYOXQIrsvsUCP5PIfUim4QGlv8IUfj+ZAexSuR8k2vECvJeSD5mLIQCuHFtlQhuZAdZMYBMYlyEAdyeU\\u002fZNbDQD81XrqJMqRA16NwPQppk0CuR+F6\\u002fJTjQCBB8WO8Q8NAg8DKoQWeskDuWkI+MPbFQGQ730+lMb5Ab4EExb8+tUCqfToeJZ\\u002fZQIv9ZffO\\u002fuBAvJaQDzpwoEDD9ShcL4S\\u002fQEymCkZ1dKJAn6ut2O9hokBoke18\\u002f\\u002fOrQDsBTYR9AqlAOnr83p6A3ECyne+nNKrjQH9qvHQfcMVArrZifzlZq0BTliGONZKfQF5LyAfZosJA+Q\\u002fptyeQwkBSSZ2AVgm1QD2bVZ93ccFAPzVeugn\\u002ftECjkjoBDa7lQMiYu5Y4DMRAvsEXJjvht0AnoImwAV21QFyPwvUo\\u002fppAwOyePJy9w0A4Z0RpazvAQBsN4C3QAZ9AL90kBgEzo0A1XrpJfLnHQM6qz9V+r8JATx4Wak2cyUDtDb4wETDFQGrecYrO48dAGeJYF9dJw0CR7Xw\\u002fRQDGQPyp8dKtWclA0SLb+f68k0C+nxovEb3DQLTIdr6N\\u002fONAsVBrmq8IukChZ7PqbUTQQLaEfNAzU6FAPujZrFp9ukDQ1Vbsf+jSQKAaL920qMNAZDvfT+2KsEBHA3gLoHPCQNv5fmqcW8tAwoanV\\u002fK3wkBrmnecYLzjQPT91HipOKtAwFsgQaOr4UCnrnyWLsXlQFtCPug9zsBAy6FFtp\\u002fR0UCsrdhfzR7lQFInoImwW61At9EA3po9wUC8lpAPLlvDQMUDyqbs7MZABaOSOiFtmUC8dJMYdLbAQGIQWDkE7adAO99Pjc8U00ArhxbZbsmdQCV1AppEwctA1QloIuQcx0BfDOVEG7rQQKOSOgFFp7NAPQrXo9Axv0Bbsb\\u002fsWobWQE0VjEq6NLVADXGsi3m64UCoV8oyhKuuQFyPwvXo4aJA001iEDiY0kCNKO0Nnv2nQPp+aryIw8FAcT0K108hx0AlBoGVw36\\u002fQAisHFqkirtAF9nO94P3y0B1kxgEPhW7QL\\u002fxtWdSSdtAcT0K12PHxUBLAtTUmv7IQE+vlGUgVdFAVg4tsr1dvEC5jQbwPqDEQFCNl26ySrtAOGdEaWcYvUAFo5I6YS63QJwzorTnRsNA\\u002fKnx0s3U0UD5D+m3L+uRQGx4eqUUVcJAiUFg5RDy10AQ6bevg\\u002f6wQLByaJEtDrlA3GgAb5XiyEAwTKYKRvWdQEp7gy+UWbRAAJF++\\u002fpIykCamZmZOR62QOOlm8SgkZNA097gC9NXpUAIrBxa9LLUQCzUmuZ9KbxAaJHtfK\\u002fh0UCtad5xKqqwQHgLJCiGb7JAXrpJDBIkx0BX7C+7IXzRQCxlGeK4hrtATfOOU+z0y0Bcj8L1KG6gQERpb\\u002fAV8eJARPrt64BfnEDgvg6c2zO+QDl\\u002fEwovz9tAy6FFtsOxoECdgCbCBq6RQJ\\u002fNqs+V26lAKVyPwnVjwkBO0ZFc\\u002fti4QAMJih\\u002fbgsVAwTkjSuNMsUBj7lpCTtC1QJwzorS3V51A3SQGgYU1pkDVeOkmMRusQLByaJFT2tZAAtnr3ezr6kC6SQwC6xW9QDBMpgrm8aRAuECC4odXmUDUK2UZmg3AQE8eFmrNdchAK4cW2Ypiz0DiWBe3u2TlQARWDi1oSdRAXkvIB61V40DfT42XfuW3QOOlm8TgKMpAayv2l12StEDecYqOvG+yQJm7lpD378ZAHHxhMnUBtUDecYqOVPi7QPhT46U7MrFAjErqBNzExkCx4emVSgK5QNEi2\\u002fkWp8hAaJHtfD\\u002fZl0CHFtnO9xHIQDcawFugluFAIR\\u002f0bHrj2kDT3uALB6zDQGq8dJMe+uVAPzVeullIw0B6pSxDHAyjQJhuEoNAPKdAc2iR7dC0xEDlYaHWxDLiQMP1KFzPk8tANe84RfWP5EDRItv51ujGQH4dOGe6itdATDeJQWBNnUBkXdxGxQHkQNXnaiv+5M5A+rg2VIrK0UACK4cWuWrFQAisHFowhOZAO99PjRfvu0Ay5q4l2PbHQOauJeQLUrVA6SYxCDwnwUDb+X5qXMi5QMxdS8jH1ZFAPQrXoxCcxkBjf9k9zaTJQP7UeOmmJ7FAEFg5tOiEwEAAkX77uoCqQHh6pSzjTrdAsp3vpwbBukDl0CLbkV3BQJJc\\u002fkM6BKVAMLsnDxeH2UCgibDhyf25QI\\u002fC9Sg8irhAy6FFtvOnuEDjpZvEIOaqQJVliGMdyqVAr5RliLMzpECamZmZ45XmQL7BFyb7DbNAIv32dexB00CLbOf7m5TaQKOSOgEtmLRA2c73U2NKmkAXSFD8kFTHQET67eu+pNxAB\\u002fAWSNBLvEDwhclUdVvEQBWMSupUleVA4C2QoIB5ykAv3SQG8YPJQIBIv32DVdNAdCSX\\u002fyBboUAbnl4pS4qZQIBIv32tiqBAFvvL7m34wECgibDhMcTnQDbNO05JNbJAtvP91Mi9v0CsHFpkS7LIQNIA3gIx1LFAak3zjuvuskB\\u002f2T15uNG9QLbz\\u002fdQIoc1AJQaBlRMW0UD\\u002fIf32FZ6kQEVHcvmVeOBAnYAmwloXzEDufD81\\u002fsq9QAHeAgmCibRAMLsnD6tSo0CaCBuelEPVQPZdEfyrH+FAz\\u002fdT4\\u002fV4yUB2Tx4WOn20QA4tsp2PRcpA9ihcj0JLykCNl24SQ3C1QJAxdy1p4LBAw\\u002fUoXG9quECzJEBNVb3YQNnO91Mjw6ZAPzVeuimAx0B0RpT2Zk\\u002fKQMBbIEHBkbhAGsBbICHepkA1XrpJTF64QI\\u002fC9Sh8uMNACKwcWiS0vEB+HThnZEGyQIts5\\u002fvp5MdAyZOkaypb30Dl0CLb5YLBQBrAWyABAKJAC0YlddKHwkDmP6TffoeRQHxhMlXIpsJA1sVtNPBSoUC\\u002fDpwz4nGZQOhqK\\u002fZvW8lAPQrXoxDNxkDTTWIQGPi7QOxRuB7pEONA+1xtxcbWuEBkO99PXXfTQG3F\\u002frJvh8ZAVOOlm9ws50DOqs\\u002fVLq+xQPT91HjRCuNAx7q4jWiK00D9h\\u002fTbd0euQD0K16PwgeRAcxHfifGgyEDrc7UVRwnkQK1RD9E6zdtAv30dODdUpUAhsHJokTKqQGZmZmZWRcxAfdCzWUmOwkBnYU87xtjZQNNNYhBYirJAryXkg9hn10D0bFZ9Bl69QOLplbK8n6lA0LNZ9WnKwEB6xyk6UufEQDcawFtggLNAvsEXJqO\\u002fo0AxCKwcWn2bQE7RkVw+JaJA9bnaimGFz0ACK4cWKXy+QKabxCDQraZADJOpglX0wkB+jLlrCRmzQHbDtkVH69hAK4cW2VaUsUDb+X5q\\u002fL\\u002fSQPuWOV0aZ9BAqmBUUg8zs0B7FK5Hoci9QOlILv8FbcBAdk8eFgyt20BSuB6F06axQKMBvAXydcxAuB6F69FlqkDlYaHW3Oi7QMHKoUU2w8NAbAn5oHdstUAPC7WmHwnQQG3n+6l5Mr9Ag8DKoYX6vEAX2c73+x\\u002fLQLu4jQbAl7lAOUVHctGTtEBeS8gHcfTQQP7UeOka1eBAzczMzMzTnkDY2CWqC7zUQO\\u002fJw0LF2cBAqaROQGNRsUDEsS5uQ1axQNUJaCLOVNhAvhOzXl6y1kBmiGNd3HLDQIPAyqGFJsBAkQ96Nu9T0kCIaHQHidzhQFpkO9+fHsFAqMZLN4kHtUBGlPYGf67HQLivA+d8KqVAMQisHNonr0AFo5I6pWfIQIzWUdW8aNlARIts50svwUDmP6TfcmHhQApoImxknORAIo51cRu8mkDZX3ZP7rzAQJHtfD+1kJ9A78nDQrkQ0EDmeXB32BbVQPCnxks3PcNAz2bV5\\u002frdukADeAskUivVQFYOLbL5sOVAn82qz4UpsEBVMCqp79nKQL3jFB0JS8lAvp8aLz2fx0DDZKpgjk3iQPaX3ZOwZeNAPZtVn6uVoUDJsIo3avfVQBBYObS2wtNALSEf9MyimkC+wRcmeljgQMUgsHLosqhAIEHxYwhBxkCuR+F6NF7VQKvP1VYMnbxAKe0Nvqy65UALtaZ5VxSsQPhT46XzZeNAPujZrCJXv0A4Z0RpRx3MQGfV52oDJMJA8KfGS1+32ECeXinL8DKqQKhXyjJAscRA5\\u002fup8cIqwEAmAWpqU4LRQAdfmEz1YaNAQYLix7husUAr9pfdU\\u002faeQLG\\u002f7J4ckcZA0NVW7Efp50AW+8vuMZS5QKJFtvPdTLZAtMh2vn+Fu0A\\u002fV1uxF4nBQIj029dpfbZA2qz6XO0GzEAnMQisbFjFQFInoIn2d+NA2V92TzpLy0AaUdobHNadQJSHhVpToMdADeAtkCTKyUD2l92T19KxQNv5fmqss8BAgSbChodsoEA\\u002fxty1BO7gQH4dOGfEnM1An5PeNwY2x0C8BRIUZ2axQKRwPQrn37ZAObTIdv7Yr0CqglFJ4VXNQD0K16PQk9JAtvP91CwWxUBJLv8hnSzGQN5xio50CsNAYOXQIouoxED3Bl+YglnkQC0hH\\u002fREC8ZAKVyPwvUOrEDHSzeJcY7gQESLbOerEcZATDeJQTDRsUAHzhlRJszlQAu1pnmHKppAEyf3O2SB1kAXt9EAPjapQJYhjnUTYtBAz\\u002fdT47X6xUDiWBe30R6rQB3J5T+kMcZA4umVsibx00B6Nqs+dzHEQB+F61EUjsFAR3L5D\\u002fl+xEAZBFYOLbCmQMHKoUWuzsBAcT0K1zN8xkCfzarPp3vkQLTIdr47nddAOiNKeyvAtEBfB84ZMbiiQAYSFD++G8VAr5RliDMDwkA3GsBbkqPhQIts5\\u002ftXseJA7nw\\u002fNW49tkD6fmq8yK7gQF5LyAeVTcBAeAskKK7I5kC77UJz33XSQPLSTWIG+eNAt2J\\u002f2U3Xy0AhsHJoUfPDQNc07ziFzLZA0hitoy4LzEAMAiuHlgObQMoyxLEmw8BAYOXQItvarECzJEBNQTnUQFkXt9GEg8NAkq6ZfFU200ClLEMcy6bFQFTjpZuEx71AHhZqTZPQqEDdJAaBtfCsQCswZHVXBOJAl\\u002f+QfgOswUAIrBxahBK\\u002fQNttF5p\\u002fe9pAlIeFWhPCuEBCYOXQMs\\u002fCQIts5\\u002fuNDMZAtOVcitqt6UDu68A5I6uhQBSuR+H6E8VAYOXQIrtbt0D7OnDOeDehQGfV52rr5cdASS7\\u002fIan940B5WKg1df61QE7RkVyWg8VAYqHWNDc8vECJ0t7gV2XjQGiz6nMJLcxAs3vysHA3o0DfT42XriuvQFkXt9FAL75AwaikTjAEtEBivrwAy4TSQMPTK2WpMaFAQfFjzI3xu0DsUbge\\u002fWu0QL4wmSpAc8VAMQisHHqxsUBxPQrXoz6yQCBj7lpa4LdAswxxrKvG0EBmZmZmpvPVQFfsL7vPqsVAcvkP6dc5uUBoImx46lGxQLbz\\u002fdS41KBAxEKtaepT10BCYOXQ4mC5QJhMFYz6pqZA4L4OnJfl0kBI4XoUxuK9QEjhehReRaZARIts5\\u002fuRpED\\u002fsnvysHPCQEvIBz0P5tFAw9MrZenNwEAAAAAAK0viQDBMpgpmCstAW0I+6NVC1UBWfa62VqPJQDm0yHZmz7RAecxAZbzOykCDUUmdlG3JQK5H4XqY78BAjnVxGxUmsEDg88MIrWXSQFRSJ6BxQ+BAZmZmZtZDtkDF\\u002frJ7mvm4QK5H4Xq0RrNAIv32dcA2uEBOYhBYnQ7BQPH0SlmmDqBA4XoUrgd2w0D99nXg3MvRQOviNhqA\\u002fLNAoFT7dNMF4kBKDAIr78HiQO\\u002fJw0I30tNAdZMYBJYdyECR7Xw\\u002fXf20QLbWFwnBAtdAescpOtKZmkCsHFpkaxvFQJkqGJUk6K5AT0ATYQctyUAdOGdEqSe1QCKOdXE7tK9ABoGVQ7NX5EDQs1n1KXG9QBpR2hs0brJAj+TyH4LBuUA3iUFgVX3AQJWCbi9rg9lAKcsQx3rKukADeAskqLuyQDojSnuL8LlAAwmKHwP6u0Bb07zjHLHEQLU3+MIgUcdAw7tcxKxO7UAe+YOB1bHTQECk377aX8hAUI2XbsIoxkC94xQd4aHAQF1txf4iF6VA2qz6XO04zEDnHafoLODHQLWmeceBSbtAvAUSFN9MqUDZzvdTuxTnQBx8YTI1NehArfpcbUXIsECfPCzUOseoQGRd3EbDv5FAObTIdl7vtUAbL90k5sbBQDVeukksq7dALGUZ4tiHmUBDHOvi8FziQC7\\u002fIf0aNtJA9ihcj0Jmk0Db+X5qbLTPQBLaci5p6s5Am+Ydpyg\\u002fsUDZzvdTA0q5QMX+snteVsZAPZtVn\\u002fcUxkDsL7sn5VvdQPwYc9fi6sNAGlHaGzzAsUBQjZduUpqpQHsUrkcxcrpAaJHtfL+pvED7OnDOdEHEQET67eugS9pAj8L1KDzoxEAoDwu1wbngQJzEILDyYZ1AZmZmZqbTwECSy39ID7mpQB6n6Eiem6dAY+5aQipHzED1udqKDYuyQLdif9nVpNBA16NwPapnxUA3iUFg5WulQHh6pSwLBbFAzczMzILv1UAtIR\\u002f0HF2wQDJ3LSHXLcBAKA8Ltez110Dkg57NuuXLQGEyVTBq4ZpAj8L1KHwl50C62or9VavAQHZxGw1AKa1A5\\u002fup8XJgtUAxCKwcErniQIy5awl567tApHA9Cufdu0BzaJHtlAHhQJAxdy1hrZdArK3YX\\u002fIqwkDpJjEIkE3HQIXrUbges55AF9nO97OzmkDOiNLecPSwQBsN4C14jbRANKK0N6gtpUCPcFrwG5DuQGIQWDnFz+ZA5\\u002fup8ZIRqUB4eqUst3jiQGEyVTDYwtRAiIVa0zxBo0DRItv5pnnPQFXBqKQe+NRAiUFg5ZSN4EB1kxgE9tu6QET67evoHLtAnRGlvWnbsUCq8dJNQrixQFCNl26yxeFA0m9fB3hT0kAczvxqKgTGQJHtfD+1DptAcF8HztktkkCRm+EGLgrTQGfV52qzIbxAXf5D+gUxtUB88rBQVXHbQB3J5T+sWslAMEymCgxv5UDG3LWE5I+wQBniWBerq8lAaLPqcwWKu0BYqDXN81DCQBjPoKHv3tVAfT81XpoqxEAcfGEylarIQMjvbfr3FcVA4XoUrtdJxkAzxLEuRrTEQNXnaiv2O6FA3SQGgVV3mUDhehSux1+fQDC7Jw9XddxA\"},\"xaxis\":\"x\",\"yaxis\":\"y\",\"type\":\"histogram\"}],                        {\"template\":{\"data\":{\"histogram2dcontour\":[{\"type\":\"histogram2dcontour\",\"colorbar\":{\"outlinewidth\":0,\"ticks\":\"\"},\"colorscale\":[[0.0,\"#0d0887\"],[0.1111111111111111,\"#46039f\"],[0.2222222222222222,\"#7201a8\"],[0.3333333333333333,\"#9c179e\"],[0.4444444444444444,\"#bd3786\"],[0.5555555555555556,\"#d8576b\"],[0.6666666666666666,\"#ed7953\"],[0.7777777777777778,\"#fb9f3a\"],[0.8888888888888888,\"#fdca26\"],[1.0,\"#f0f921\"]]}],\"choropleth\":[{\"type\":\"choropleth\",\"colorbar\":{\"outlinewidth\":0,\"ticks\":\"\"}}],\"histogram2d\":[{\"type\":\"histogram2d\",\"colorbar\":{\"outlinewidth\":0,\"ticks\":\"\"},\"colorscale\":[[0.0,\"#0d0887\"],[0.1111111111111111,\"#46039f\"],[0.2222222222222222,\"#7201a8\"],[0.3333333333333333,\"#9c179e\"],[0.4444444444444444,\"#bd3786\"],[0.5555555555555556,\"#d8576b\"],[0.6666666666666666,\"#ed7953\"],[0.7777777777777778,\"#fb9f3a\"],[0.8888888888888888,\"#fdca26\"],[1.0,\"#f0f921\"]]}],\"heatmap\":[{\"type\":\"heatmap\",\"colorbar\":{\"outlinewidth\":0,\"ticks\":\"\"},\"colorscale\":[[0.0,\"#0d0887\"],[0.1111111111111111,\"#46039f\"],[0.2222222222222222,\"#7201a8\"],[0.3333333333333333,\"#9c179e\"],[0.4444444444444444,\"#bd3786\"],[0.5555555555555556,\"#d8576b\"],[0.6666666666666666,\"#ed7953\"],[0.7777777777777778,\"#fb9f3a\"],[0.8888888888888888,\"#fdca26\"],[1.0,\"#f0f921\"]]}],\"contourcarpet\":[{\"type\":\"contourcarpet\",\"colorbar\":{\"outlinewidth\":0,\"ticks\":\"\"}}],\"contour\":[{\"type\":\"contour\",\"colorbar\":{\"outlinewidth\":0,\"ticks\":\"\"},\"colorscale\":[[0.0,\"#0d0887\"],[0.1111111111111111,\"#46039f\"],[0.2222222222222222,\"#7201a8\"],[0.3333333333333333,\"#9c179e\"],[0.4444444444444444,\"#bd3786\"],[0.5555555555555556,\"#d8576b\"],[0.6666666666666666,\"#ed7953\"],[0.7777777777777778,\"#fb9f3a\"],[0.8888888888888888,\"#fdca26\"],[1.0,\"#f0f921\"]]}],\"surface\":[{\"type\":\"surface\",\"colorbar\":{\"outlinewidth\":0,\"ticks\":\"\"},\"colorscale\":[[0.0,\"#0d0887\"],[0.1111111111111111,\"#46039f\"],[0.2222222222222222,\"#7201a8\"],[0.3333333333333333,\"#9c179e\"],[0.4444444444444444,\"#bd3786\"],[0.5555555555555556,\"#d8576b\"],[0.6666666666666666,\"#ed7953\"],[0.7777777777777778,\"#fb9f3a\"],[0.8888888888888888,\"#fdca26\"],[1.0,\"#f0f921\"]]}],\"mesh3d\":[{\"type\":\"mesh3d\",\"colorbar\":{\"outlinewidth\":0,\"ticks\":\"\"}}],\"scatter\":[{\"fillpattern\":{\"fillmode\":\"overlay\",\"size\":10,\"solidity\":0.2},\"type\":\"scatter\"}],\"parcoords\":[{\"type\":\"parcoords\",\"line\":{\"colorbar\":{\"outlinewidth\":0,\"ticks\":\"\"}}}],\"scatterpolargl\":[{\"type\":\"scatterpolargl\",\"marker\":{\"colorbar\":{\"outlinewidth\":0,\"ticks\":\"\"}}}],\"bar\":[{\"error_x\":{\"color\":\"#2a3f5f\"},\"error_y\":{\"color\":\"#2a3f5f\"},\"marker\":{\"line\":{\"color\":\"#E5ECF6\",\"width\":0.5},\"pattern\":{\"fillmode\":\"overlay\",\"size\":10,\"solidity\":0.2}},\"type\":\"bar\"}],\"scattergeo\":[{\"type\":\"scattergeo\",\"marker\":{\"colorbar\":{\"outlinewidth\":0,\"ticks\":\"\"}}}],\"scatterpolar\":[{\"type\":\"scatterpolar\",\"marker\":{\"colorbar\":{\"outlinewidth\":0,\"ticks\":\"\"}}}],\"histogram\":[{\"marker\":{\"pattern\":{\"fillmode\":\"overlay\",\"size\":10,\"solidity\":0.2}},\"type\":\"histogram\"}],\"scattergl\":[{\"type\":\"scattergl\",\"marker\":{\"colorbar\":{\"outlinewidth\":0,\"ticks\":\"\"}}}],\"scatter3d\":[{\"type\":\"scatter3d\",\"line\":{\"colorbar\":{\"outlinewidth\":0,\"ticks\":\"\"}},\"marker\":{\"colorbar\":{\"outlinewidth\":0,\"ticks\":\"\"}}}],\"scattermap\":[{\"type\":\"scattermap\",\"marker\":{\"colorbar\":{\"outlinewidth\":0,\"ticks\":\"\"}}}],\"scattermapbox\":[{\"type\":\"scattermapbox\",\"marker\":{\"colorbar\":{\"outlinewidth\":0,\"ticks\":\"\"}}}],\"scatterternary\":[{\"type\":\"scatterternary\",\"marker\":{\"colorbar\":{\"outlinewidth\":0,\"ticks\":\"\"}}}],\"scattercarpet\":[{\"type\":\"scattercarpet\",\"marker\":{\"colorbar\":{\"outlinewidth\":0,\"ticks\":\"\"}}}],\"carpet\":[{\"aaxis\":{\"endlinecolor\":\"#2a3f5f\",\"gridcolor\":\"white\",\"linecolor\":\"white\",\"minorgridcolor\":\"white\",\"startlinecolor\":\"#2a3f5f\"},\"baxis\":{\"endlinecolor\":\"#2a3f5f\",\"gridcolor\":\"white\",\"linecolor\":\"white\",\"minorgridcolor\":\"white\",\"startlinecolor\":\"#2a3f5f\"},\"type\":\"carpet\"}],\"table\":[{\"cells\":{\"fill\":{\"color\":\"#EBF0F8\"},\"line\":{\"color\":\"white\"}},\"header\":{\"fill\":{\"color\":\"#C8D4E3\"},\"line\":{\"color\":\"white\"}},\"type\":\"table\"}],\"barpolar\":[{\"marker\":{\"line\":{\"color\":\"#E5ECF6\",\"width\":0.5},\"pattern\":{\"fillmode\":\"overlay\",\"size\":10,\"solidity\":0.2}},\"type\":\"barpolar\"}],\"pie\":[{\"automargin\":true,\"type\":\"pie\"}]},\"layout\":{\"autotypenumbers\":\"strict\",\"colorway\":[\"#636efa\",\"#EF553B\",\"#00cc96\",\"#ab63fa\",\"#FFA15A\",\"#19d3f3\",\"#FF6692\",\"#B6E880\",\"#FF97FF\",\"#FECB52\"],\"font\":{\"color\":\"#2a3f5f\"},\"hovermode\":\"closest\",\"hoverlabel\":{\"align\":\"left\"},\"paper_bgcolor\":\"white\",\"plot_bgcolor\":\"#E5ECF6\",\"polar\":{\"bgcolor\":\"#E5ECF6\",\"angularaxis\":{\"gridcolor\":\"white\",\"linecolor\":\"white\",\"ticks\":\"\"},\"radialaxis\":{\"gridcolor\":\"white\",\"linecolor\":\"white\",\"ticks\":\"\"}},\"ternary\":{\"bgcolor\":\"#E5ECF6\",\"aaxis\":{\"gridcolor\":\"white\",\"linecolor\":\"white\",\"ticks\":\"\"},\"baxis\":{\"gridcolor\":\"white\",\"linecolor\":\"white\",\"ticks\":\"\"},\"caxis\":{\"gridcolor\":\"white\",\"linecolor\":\"white\",\"ticks\":\"\"}},\"coloraxis\":{\"colorbar\":{\"outlinewidth\":0,\"ticks\":\"\"}},\"colorscale\":{\"sequential\":[[0.0,\"#0d0887\"],[0.1111111111111111,\"#46039f\"],[0.2222222222222222,\"#7201a8\"],[0.3333333333333333,\"#9c179e\"],[0.4444444444444444,\"#bd3786\"],[0.5555555555555556,\"#d8576b\"],[0.6666666666666666,\"#ed7953\"],[0.7777777777777778,\"#fb9f3a\"],[0.8888888888888888,\"#fdca26\"],[1.0,\"#f0f921\"]],\"sequentialminus\":[[0.0,\"#0d0887\"],[0.1111111111111111,\"#46039f\"],[0.2222222222222222,\"#7201a8\"],[0.3333333333333333,\"#9c179e\"],[0.4444444444444444,\"#bd3786\"],[0.5555555555555556,\"#d8576b\"],[0.6666666666666666,\"#ed7953\"],[0.7777777777777778,\"#fb9f3a\"],[0.8888888888888888,\"#fdca26\"],[1.0,\"#f0f921\"]],\"diverging\":[[0,\"#8e0152\"],[0.1,\"#c51b7d\"],[0.2,\"#de77ae\"],[0.3,\"#f1b6da\"],[0.4,\"#fde0ef\"],[0.5,\"#f7f7f7\"],[0.6,\"#e6f5d0\"],[0.7,\"#b8e186\"],[0.8,\"#7fbc41\"],[0.9,\"#4d9221\"],[1,\"#276419\"]]},\"xaxis\":{\"gridcolor\":\"white\",\"linecolor\":\"white\",\"ticks\":\"\",\"title\":{\"standoff\":15},\"zerolinecolor\":\"white\",\"automargin\":true,\"zerolinewidth\":2},\"yaxis\":{\"gridcolor\":\"white\",\"linecolor\":\"white\",\"ticks\":\"\",\"title\":{\"standoff\":15},\"zerolinecolor\":\"white\",\"automargin\":true,\"zerolinewidth\":2},\"scene\":{\"xaxis\":{\"backgroundcolor\":\"#E5ECF6\",\"gridcolor\":\"white\",\"linecolor\":\"white\",\"showbackground\":true,\"ticks\":\"\",\"zerolinecolor\":\"white\",\"gridwidth\":2},\"yaxis\":{\"backgroundcolor\":\"#E5ECF6\",\"gridcolor\":\"white\",\"linecolor\":\"white\",\"showbackground\":true,\"ticks\":\"\",\"zerolinecolor\":\"white\",\"gridwidth\":2},\"zaxis\":{\"backgroundcolor\":\"#E5ECF6\",\"gridcolor\":\"white\",\"linecolor\":\"white\",\"showbackground\":true,\"ticks\":\"\",\"zerolinecolor\":\"white\",\"gridwidth\":2}},\"shapedefaults\":{\"line\":{\"color\":\"#2a3f5f\"}},\"annotationdefaults\":{\"arrowcolor\":\"#2a3f5f\",\"arrowhead\":0,\"arrowwidth\":1},\"geo\":{\"bgcolor\":\"white\",\"landcolor\":\"#E5ECF6\",\"subunitcolor\":\"white\",\"showland\":true,\"showlakes\":true,\"lakecolor\":\"white\"},\"title\":{\"x\":0.05},\"mapbox\":{\"style\":\"light\"}}},\"xaxis\":{\"anchor\":\"y\",\"domain\":[0.0,1.0],\"title\":{\"text\":\"charges\"}},\"yaxis\":{\"anchor\":\"x\",\"domain\":[0.0,1.0],\"title\":{\"text\":\"count\"}},\"legend\":{\"tracegroupgap\":0},\"margin\":{\"t\":60},\"barmode\":\"relative\"},                        {\"responsive\": true}                    )                };            </script>        </div>"
      ],
      "text/plain": [
       "Figure({\n",
       "    'data': [{'bingroup': 'x',\n",
       "              'hovertemplate': 'charges=%{x}<br>count=%{y}<extra></extra>',\n",
       "              'legendgroup': '',\n",
       "              'marker': {'color': '#636efa', 'pattern': {'shape': ''}},\n",
       "              'name': '',\n",
       "              'orientation': 'v',\n",
       "              'showlegend': False,\n",
       "              'type': 'histogram',\n",
       "              'x': {'bdata': ('YOXQIjt90EBTliGONfaaQMHKoUV2Yb' ... 'QGgVV3mUDhehSux1+fQDC7Jw9XddxA'),\n",
       "                    'dtype': 'f8'},\n",
       "              'xaxis': 'x',\n",
       "              'yaxis': 'y'}],\n",
       "    'layout': {'barmode': 'relative',\n",
       "               'legend': {'tracegroupgap': 0},\n",
       "               'margin': {'t': 60},\n",
       "               'template': '...',\n",
       "               'xaxis': {'anchor': 'y', 'domain': [0.0, 1.0], 'title': {'text': 'charges'}},\n",
       "               'yaxis': {'anchor': 'x', 'domain': [0.0, 1.0], 'title': {'text': 'count'}}}\n",
       "})"
      ]
     },
     "execution_count": 4,
     "metadata": {},
     "output_type": "execute_result"
    }
   ],
   "source": [
    "px.histogram(data,x='charges')"
   ]
  },
  {
   "cell_type": "code",
   "execution_count": 5,
   "metadata": {
    "colab": {
     "base_uri": "https://localhost:8080/",
     "height": 0
    },
    "executionInfo": {
     "elapsed": 282,
     "status": "ok",
     "timestamp": 1751016032329,
     "user": {
      "displayName": "Supreme Hindutvawadi",
      "userId": "06788822703983184258"
     },
     "user_tz": -330
    },
    "id": "v0JHk1PyuSC9",
    "outputId": "e79712af-1fc2-4937-b9a2-d2dd0e85fb67"
   },
   "outputs": [
    {
     "ename": "ValueError",
     "evalue": "Mime type rendering requires nbformat>=4.2.0 but it is not installed",
     "output_type": "error",
     "traceback": [
      "\u001b[31m---------------------------------------------------------------------------\u001b[39m",
      "\u001b[31mValueError\u001b[39m                                Traceback (most recent call last)",
      "\u001b[36mFile \u001b[39m\u001b[32m~\\AppData\\Roaming\\Python\\Python313\\site-packages\\IPython\\core\\formatters.py:984\u001b[39m, in \u001b[36mIPythonDisplayFormatter.__call__\u001b[39m\u001b[34m(self, obj)\u001b[39m\n\u001b[32m    982\u001b[39m method = get_real_method(obj, \u001b[38;5;28mself\u001b[39m.print_method)\n\u001b[32m    983\u001b[39m \u001b[38;5;28;01mif\u001b[39;00m method \u001b[38;5;129;01mis\u001b[39;00m \u001b[38;5;129;01mnot\u001b[39;00m \u001b[38;5;28;01mNone\u001b[39;00m:\n\u001b[32m--> \u001b[39m\u001b[32m984\u001b[39m     \u001b[43mmethod\u001b[49m\u001b[43m(\u001b[49m\u001b[43m)\u001b[49m\n\u001b[32m    985\u001b[39m     \u001b[38;5;28;01mreturn\u001b[39;00m \u001b[38;5;28;01mTrue\u001b[39;00m\n",
      "\u001b[36mFile \u001b[39m\u001b[32mc:\\Users\\Tabah\\AppData\\Local\\Programs\\Python\\Python313\\Lib\\site-packages\\plotly\\basedatatypes.py:850\u001b[39m, in \u001b[36mBaseFigure._ipython_display_\u001b[39m\u001b[34m(self)\u001b[39m\n\u001b[32m    847\u001b[39m \u001b[38;5;28;01mimport\u001b[39;00m\u001b[38;5;250m \u001b[39m\u001b[34;01mplotly\u001b[39;00m\u001b[34;01m.\u001b[39;00m\u001b[34;01mio\u001b[39;00m\u001b[38;5;250m \u001b[39m\u001b[38;5;28;01mas\u001b[39;00m\u001b[38;5;250m \u001b[39m\u001b[34;01mpio\u001b[39;00m\n\u001b[32m    849\u001b[39m \u001b[38;5;28;01mif\u001b[39;00m pio.renderers.render_on_display \u001b[38;5;129;01mand\u001b[39;00m pio.renderers.default:\n\u001b[32m--> \u001b[39m\u001b[32m850\u001b[39m     \u001b[43mpio\u001b[49m\u001b[43m.\u001b[49m\u001b[43mshow\u001b[49m\u001b[43m(\u001b[49m\u001b[38;5;28;43mself\u001b[39;49m\u001b[43m)\u001b[49m\n\u001b[32m    851\u001b[39m \u001b[38;5;28;01melse\u001b[39;00m:\n\u001b[32m    852\u001b[39m     \u001b[38;5;28mprint\u001b[39m(\u001b[38;5;28mrepr\u001b[39m(\u001b[38;5;28mself\u001b[39m))\n",
      "\u001b[36mFile \u001b[39m\u001b[32mc:\\Users\\Tabah\\AppData\\Local\\Programs\\Python\\Python313\\Lib\\site-packages\\plotly\\io\\_renderers.py:415\u001b[39m, in \u001b[36mshow\u001b[39m\u001b[34m(fig, renderer, validate, **kwargs)\u001b[39m\n\u001b[32m    410\u001b[39m     \u001b[38;5;28;01mraise\u001b[39;00m \u001b[38;5;167;01mValueError\u001b[39;00m(\n\u001b[32m    411\u001b[39m         \u001b[33m\"\u001b[39m\u001b[33mMime type rendering requires ipython but it is not installed\u001b[39m\u001b[33m\"\u001b[39m\n\u001b[32m    412\u001b[39m     )\n\u001b[32m    414\u001b[39m \u001b[38;5;28;01mif\u001b[39;00m \u001b[38;5;129;01mnot\u001b[39;00m nbformat \u001b[38;5;129;01mor\u001b[39;00m Version(nbformat.__version__) < Version(\u001b[33m\"\u001b[39m\u001b[33m4.2.0\u001b[39m\u001b[33m\"\u001b[39m):\n\u001b[32m--> \u001b[39m\u001b[32m415\u001b[39m     \u001b[38;5;28;01mraise\u001b[39;00m \u001b[38;5;167;01mValueError\u001b[39;00m(\n\u001b[32m    416\u001b[39m         \u001b[33m\"\u001b[39m\u001b[33mMime type rendering requires nbformat>=4.2.0 but it is not installed\u001b[39m\u001b[33m\"\u001b[39m\n\u001b[32m    417\u001b[39m     )\n\u001b[32m    419\u001b[39m display_jupyter_version_warnings()\n\u001b[32m    421\u001b[39m ipython_display.display(bundle, raw=\u001b[38;5;28;01mTrue\u001b[39;00m)\n",
      "\u001b[31mValueError\u001b[39m: Mime type rendering requires nbformat>=4.2.0 but it is not installed"
     ]
    },
    {
     "data": {
      "application/vnd.plotly.v1+json": {
       "config": {
        "plotlyServerURL": "https://plot.ly"
       },
       "data": [
        {
         "alignmentgroup": "True",
         "box": {
          "visible": false
         },
         "hovertemplate": "color=yes<br>x=%{x}<br>y=%{y}<extra></extra>",
         "legendgroup": "yes",
         "marker": {
          "color": "#636efa"
         },
         "name": "yes",
         "offsetgroup": "yes",
         "orientation": "v",
         "scalegroup": "True",
         "showlegend": true,
         "type": "violin",
         "x": [
          "female",
          "female",
          "male",
          "male",
          "female",
          "male",
          "male",
          "male",
          "male",
          "male",
          "male",
          "male",
          "male",
          "male",
          "male",
          "female",
          "female",
          "male",
          "female",
          "male",
          "female",
          "male",
          "female",
          "male",
          "female",
          "male",
          "male",
          "female",
          "male",
          "male",
          "female",
          "male",
          "female",
          "female",
          "male",
          "male",
          "male",
          "female",
          "male",
          "male",
          "male",
          "female",
          "female",
          "female",
          "male",
          "female",
          "male",
          "male",
          "male",
          "female",
          "male",
          "female",
          "female",
          "male",
          "female",
          "male",
          "male",
          "male",
          "male",
          "female",
          "male",
          "male",
          "male",
          "male",
          "male",
          "female",
          "male",
          "female",
          "male",
          "male",
          "male",
          "male",
          "female",
          "male",
          "female",
          "male",
          "male",
          "female",
          "female",
          "male",
          "male",
          "female",
          "male",
          "female",
          "female",
          "male",
          "female",
          "male",
          "female",
          "female",
          "female",
          "female",
          "male",
          "male",
          "male",
          "female",
          "male",
          "male",
          "female",
          "male",
          "male",
          "male",
          "female",
          "male",
          "male",
          "male",
          "male",
          "male",
          "male",
          "male",
          "female",
          "male",
          "female",
          "female",
          "male",
          "female",
          "female",
          "female",
          "female",
          "female",
          "male",
          "female",
          "male",
          "female",
          "male",
          "male",
          "female",
          "male",
          "male",
          "female",
          "female",
          "male",
          "female",
          "male",
          "female",
          "male",
          "male",
          "male",
          "male",
          "female",
          "female",
          "female",
          "male",
          "female",
          "male",
          "male",
          "male",
          "male",
          "female",
          "female",
          "male",
          "male",
          "female",
          "male",
          "female",
          "male",
          "male",
          "male",
          "female",
          "female",
          "female",
          "male",
          "male",
          "male",
          "female",
          "female",
          "female",
          "female",
          "female",
          "female",
          "female",
          "male",
          "female",
          "female",
          "male",
          "male",
          "female",
          "male",
          "female",
          "male",
          "female",
          "male",
          "female",
          "male",
          "male",
          "male",
          "male",
          "male",
          "male",
          "male",
          "male",
          "male",
          "male",
          "male",
          "female",
          "female",
          "male",
          "male",
          "male",
          "male",
          "female",
          "male",
          "male",
          "female",
          "female",
          "male",
          "male",
          "female",
          "female",
          "male",
          "female",
          "male",
          "male",
          "male",
          "male",
          "male",
          "male",
          "female",
          "male",
          "female",
          "female",
          "female",
          "male",
          "female",
          "male",
          "male",
          "female",
          "female",
          "female",
          "female",
          "male",
          "female",
          "male",
          "male",
          "female",
          "female",
          "male",
          "female",
          "male",
          "female",
          "female",
          "female",
          "male",
          "female",
          "female",
          "female",
          "male",
          "female",
          "male",
          "male",
          "male",
          "male",
          "male",
          "male",
          "male",
          "male",
          "male",
          "female",
          "female",
          "male",
          "male",
          "male",
          "male",
          "male",
          "male",
          "male",
          "female",
          "male",
          "female",
          "female",
          "female",
          "male",
          "female",
          "female"
         ],
         "x0": " ",
         "xaxis": "x",
         "y": {
          "bdata": "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",
          "dtype": "f8"
         },
         "y0": " ",
         "yaxis": "y"
        },
        {
         "alignmentgroup": "True",
         "box": {
          "visible": false
         },
         "hovertemplate": "color=no<br>x=%{x}<br>y=%{y}<extra></extra>",
         "legendgroup": "no",
         "marker": {
          "color": "#EF553B"
         },
         "name": "no",
         "offsetgroup": "no",
         "orientation": "v",
         "scalegroup": "True",
         "showlegend": true,
         "type": "violin",
         "x": [
          "male",
          "male",
          "male",
          "male",
          "female",
          "female",
          "female",
          "male",
          "female",
          "male",
          "male",
          "female",
          "male",
          "female",
          "male",
          "male",
          "female",
          "female",
          "male",
          "male",
          "female",
          "female",
          "female",
          "male",
          "female",
          "female",
          "male",
          "male",
          "female",
          "male",
          "female",
          "female",
          "male",
          "female",
          "male",
          "male",
          "female",
          "female",
          "female",
          "female",
          "female",
          "female",
          "female",
          "female",
          "male",
          "male",
          "male",
          "female",
          "female",
          "female",
          "male",
          "female",
          "male",
          "female",
          "male",
          "male",
          "male",
          "female",
          "male",
          "female",
          "female",
          "male",
          "female",
          "female",
          "female",
          "female",
          "female",
          "female",
          "female",
          "male",
          "female",
          "female",
          "male",
          "female",
          "male",
          "female",
          "female",
          "female",
          "male",
          "male",
          "male",
          "female",
          "male",
          "female",
          "male",
          "male",
          "male",
          "female",
          "female",
          "male",
          "male",
          "female",
          "female",
          "female",
          "female",
          "male",
          "female",
          "female",
          "female",
          "male",
          "female",
          "female",
          "male",
          "male",
          "female",
          "female",
          "male",
          "male",
          "male",
          "female",
          "female",
          "female",
          "male",
          "male",
          "male",
          "female",
          "female",
          "male",
          "female",
          "male",
          "female",
          "male",
          "male",
          "female",
          "female",
          "female",
          "male",
          "male",
          "male",
          "male",
          "female",
          "female",
          "male",
          "male",
          "female",
          "female",
          "male",
          "female",
          "male",
          "female",
          "male",
          "female",
          "female",
          "female",
          "female",
          "male",
          "female",
          "male",
          "female",
          "male",
          "male",
          "female",
          "female",
          "female",
          "female",
          "female",
          "female",
          "female",
          "male",
          "female",
          "male",
          "female",
          "male",
          "male",
          "male",
          "male",
          "female",
          "female",
          "female",
          "female",
          "male",
          "female",
          "female",
          "female",
          "female",
          "male",
          "male",
          "male",
          "female",
          "female",
          "male",
          "female",
          "female",
          "female",
          "male",
          "male",
          "female",
          "male",
          "male",
          "female",
          "female",
          "male",
          "male",
          "female",
          "male",
          "male",
          "male",
          "male",
          "female",
          "female",
          "male",
          "female",
          "female",
          "female",
          "male",
          "male",
          "male",
          "male",
          "male",
          "male",
          "female",
          "male",
          "female",
          "male",
          "female",
          "male",
          "female",
          "female",
          "male",
          "female",
          "female",
          "male",
          "female",
          "male",
          "female",
          "male",
          "male",
          "female",
          "male",
          "female",
          "female",
          "female",
          "male",
          "female",
          "female",
          "male",
          "female",
          "male",
          "female",
          "male",
          "male",
          "male",
          "male",
          "female",
          "male",
          "male",
          "female",
          "male",
          "male",
          "male",
          "female",
          "male",
          "female",
          "female",
          "female",
          "male",
          "male",
          "male",
          "female",
          "female",
          "male",
          "female",
          "male",
          "female",
          "female",
          "male",
          "male",
          "female",
          "male",
          "female",
          "female",
          "female",
          "male",
          "female",
          "male",
          "male",
          "male",
          "male",
          "female",
          "female",
          "male",
          "female",
          "female",
          "female",
          "female",
          "female",
          "male",
          "male",
          "female",
          "female",
          "female",
          "male",
          "female",
          "male",
          "male",
          "female",
          "male",
          "male",
          "female",
          "male",
          "female",
          "female",
          "male",
          "female",
          "male",
          "male",
          "female",
          "male",
          "female",
          "male",
          "male",
          "female",
          "female",
          "male",
          "female",
          "male",
          "male",
          "female",
          "female",
          "female",
          "male",
          "male",
          "male",
          "male",
          "female",
          "female",
          "male",
          "male",
          "male",
          "male",
          "male",
          "female",
          "female",
          "female",
          "female",
          "male",
          "female",
          "male",
          "female",
          "male",
          "male",
          "male",
          "male",
          "female",
          "male",
          "female",
          "male",
          "female",
          "female",
          "male",
          "female",
          "female",
          "male",
          "male",
          "male",
          "male",
          "male",
          "male",
          "male",
          "female",
          "female",
          "male",
          "female",
          "female",
          "female",
          "male",
          "male",
          "female",
          "female",
          "female",
          "female",
          "male",
          "female",
          "female",
          "female",
          "male",
          "male",
          "male",
          "male",
          "male",
          "female",
          "female",
          "male",
          "female",
          "female",
          "male",
          "male",
          "female",
          "female",
          "female",
          "male",
          "male",
          "female",
          "male",
          "female",
          "female",
          "male",
          "female",
          "male",
          "male",
          "male",
          "female",
          "female",
          "male",
          "male",
          "male",
          "male",
          "male",
          "male",
          "male",
          "female",
          "male",
          "female",
          "female",
          "female",
          "female",
          "female",
          "female",
          "female",
          "male",
          "male",
          "female",
          "male",
          "male",
          "male",
          "male",
          "female",
          "female",
          "female",
          "male",
          "female",
          "female",
          "female",
          "male",
          "male",
          "female",
          "female",
          "male",
          "female",
          "male",
          "female",
          "female",
          "male",
          "male",
          "male",
          "male",
          "female",
          "female",
          "male",
          "male",
          "female",
          "female",
          "female",
          "male",
          "female",
          "female",
          "female",
          "female",
          "female",
          "female",
          "female",
          "male",
          "male",
          "female",
          "male",
          "male",
          "male",
          "female",
          "male",
          "female",
          "male",
          "female",
          "female",
          "female",
          "male",
          "male",
          "male",
          "female",
          "female",
          "female",
          "male",
          "female",
          "female",
          "male",
          "female",
          "female",
          "female",
          "female",
          "male",
          "female",
          "female",
          "female",
          "female",
          "female",
          "female",
          "female",
          "male",
          "female",
          "male",
          "female",
          "male",
          "male",
          "male",
          "male",
          "male",
          "female",
          "male",
          "male",
          "male",
          "female",
          "female",
          "male",
          "male",
          "male",
          "female",
          "male",
          "male",
          "male",
          "female",
          "male",
          "female",
          "female",
          "female",
          "female",
          "female",
          "female",
          "female",
          "male",
          "female",
          "female",
          "male",
          "female",
          "female",
          "male",
          "male",
          "female",
          "male",
          "female",
          "male",
          "female",
          "male",
          "female",
          "male",
          "female",
          "female",
          "male",
          "male",
          "female",
          "male",
          "male",
          "male",
          "female",
          "male",
          "male",
          "male",
          "male",
          "female",
          "female",
          "female",
          "male",
          "female",
          "female",
          "female",
          "male",
          "female",
          "female",
          "female",
          "male",
          "female",
          "female",
          "male",
          "female",
          "female",
          "male",
          "female",
          "male",
          "female",
          "male",
          "female",
          "female",
          "female",
          "male",
          "male",
          "male",
          "female",
          "male",
          "female",
          "female",
          "male",
          "female",
          "female",
          "female",
          "female",
          "male",
          "male",
          "female",
          "male",
          "female",
          "male",
          "male",
          "female",
          "male",
          "male",
          "male",
          "female",
          "male",
          "male",
          "female",
          "male",
          "female",
          "male",
          "male",
          "female",
          "female",
          "male",
          "female",
          "female",
          "female",
          "male",
          "female",
          "female",
          "male",
          "male",
          "male",
          "male",
          "male",
          "male",
          "male",
          "male",
          "female",
          "female",
          "male",
          "male",
          "male",
          "female",
          "female",
          "male",
          "female",
          "female",
          "male",
          "female",
          "female",
          "female",
          "female",
          "male",
          "male",
          "female",
          "female",
          "female",
          "male",
          "male",
          "female",
          "female",
          "male",
          "male",
          "male",
          "female",
          "female",
          "male",
          "male",
          "male",
          "female",
          "female",
          "male",
          "female",
          "male",
          "male",
          "female",
          "female",
          "male",
          "male",
          "male",
          "male",
          "female",
          "female",
          "female",
          "male",
          "male",
          "male",
          "female",
          "male",
          "female",
          "male",
          "male",
          "female",
          "female",
          "female",
          "male",
          "female",
          "female",
          "female",
          "male",
          "male",
          "male",
          "male",
          "male",
          "female",
          "male",
          "female",
          "male",
          "male",
          "male",
          "female",
          "female",
          "male",
          "male",
          "female",
          "male",
          "male",
          "female",
          "male",
          "female",
          "male",
          "male",
          "female",
          "male",
          "male",
          "female",
          "male",
          "female",
          "female",
          "male",
          "male",
          "male",
          "female",
          "female",
          "male",
          "female",
          "male",
          "male",
          "female",
          "female",
          "male",
          "female",
          "female",
          "female",
          "female",
          "female",
          "male",
          "male",
          "male",
          "male",
          "female",
          "female",
          "female",
          "male",
          "male",
          "female",
          "male",
          "female",
          "male",
          "female",
          "male",
          "female",
          "male",
          "male",
          "male",
          "female",
          "female",
          "male",
          "male",
          "female",
          "male",
          "male",
          "male",
          "female",
          "male",
          "male",
          "male",
          "female",
          "female",
          "female",
          "male",
          "male",
          "male",
          "male",
          "male",
          "female",
          "female",
          "female",
          "female",
          "female",
          "male",
          "male",
          "male",
          "female",
          "female",
          "male",
          "male",
          "female",
          "male",
          "female",
          "male",
          "female",
          "male",
          "female",
          "female",
          "female",
          "male",
          "female",
          "female",
          "female",
          "female",
          "female",
          "male",
          "male",
          "male",
          "male",
          "male",
          "male",
          "male",
          "female",
          "female",
          "male",
          "female",
          "male",
          "female",
          "female",
          "female",
          "female",
          "male",
          "male",
          "female",
          "female",
          "male",
          "male",
          "female",
          "female",
          "male",
          "female",
          "male",
          "male",
          "male",
          "female",
          "male",
          "female",
          "female",
          "female",
          "male",
          "male",
          "female",
          "male",
          "female",
          "female",
          "female",
          "male",
          "male",
          "male",
          "male",
          "female",
          "female",
          "male",
          "male",
          "male",
          "female",
          "male",
          "male",
          "female",
          "female",
          "female",
          "female",
          "male",
          "male",
          "male",
          "male",
          "male",
          "male",
          "female",
          "male",
          "male",
          "male",
          "male",
          "female",
          "male",
          "female",
          "female",
          "male",
          "female",
          "female",
          "male",
          "male",
          "male",
          "male",
          "female",
          "female",
          "female",
          "male",
          "male",
          "female",
          "female",
          "male",
          "male",
          "male",
          "female",
          "male",
          "female",
          "female",
          "male",
          "female",
          "male",
          "female",
          "female",
          "male",
          "male",
          "female",
          "male",
          "female",
          "female",
          "female",
          "male",
          "male",
          "female",
          "female",
          "male",
          "male",
          "male",
          "female",
          "male",
          "male",
          "female",
          "female",
          "female",
          "female",
          "female",
          "female",
          "female",
          "female",
          "female",
          "male",
          "male",
          "female",
          "female",
          "female",
          "male",
          "female",
          "male",
          "female",
          "female",
          "male",
          "male",
          "female",
          "female",
          "female",
          "female",
          "female",
          "female",
          "female",
          "male",
          "female",
          "female",
          "female",
          "female",
          "female",
          "female",
          "female",
          "female",
          "male",
          "male",
          "female",
          "male",
          "male",
          "male",
          "male",
          "male",
          "female",
          "male",
          "male",
          "male",
          "male",
          "female",
          "female",
          "male",
          "male",
          "male",
          "female",
          "female",
          "male",
          "male",
          "male",
          "female",
          "male",
          "male",
          "male",
          "male",
          "female",
          "male",
          "female",
          "male",
          "female",
          "female",
          "male",
          "female",
          "female",
          "female",
          "male",
          "male",
          "female",
          "male",
          "female",
          "male",
          "female",
          "female",
          "female",
          "female",
          "female",
          "male",
          "female",
          "female",
          "male",
          "female",
          "female",
          "female",
          "female",
          "female",
          "male",
          "male",
          "female",
          "male",
          "male",
          "male",
          "female",
          "female",
          "female",
          "female",
          "male",
          "female",
          "female",
          "female",
          "male",
          "female",
          "male",
          "male",
          "male",
          "male",
          "male",
          "female",
          "male",
          "female",
          "female",
          "female",
          "male",
          "male",
          "female",
          "male",
          "male",
          "female",
          "male",
          "male",
          "female",
          "male",
          "male",
          "male",
          "male",
          "female",
          "male",
          "female",
          "male",
          "female",
          "female",
          "female",
          "male",
          "female",
          "female",
          "female"
         ],
         "x0": " ",
         "xaxis": "x",
         "y": {
          "bdata": "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",
          "dtype": "f8"
         },
         "y0": " ",
         "yaxis": "y"
        }
       ],
       "layout": {
        "legend": {
         "title": {
          "text": "color"
         },
         "tracegroupgap": 0
        },
        "margin": {
         "t": 60
        },
        "template": {
         "data": {
          "bar": [
           {
            "error_x": {
             "color": "#2a3f5f"
            },
            "error_y": {
             "color": "#2a3f5f"
            },
            "marker": {
             "line": {
              "color": "#E5ECF6",
              "width": 0.5
             },
             "pattern": {
              "fillmode": "overlay",
              "size": 10,
              "solidity": 0.2
             }
            },
            "type": "bar"
           }
          ],
          "barpolar": [
           {
            "marker": {
             "line": {
              "color": "#E5ECF6",
              "width": 0.5
             },
             "pattern": {
              "fillmode": "overlay",
              "size": 10,
              "solidity": 0.2
             }
            },
            "type": "barpolar"
           }
          ],
          "carpet": [
           {
            "aaxis": {
             "endlinecolor": "#2a3f5f",
             "gridcolor": "white",
             "linecolor": "white",
             "minorgridcolor": "white",
             "startlinecolor": "#2a3f5f"
            },
            "baxis": {
             "endlinecolor": "#2a3f5f",
             "gridcolor": "white",
             "linecolor": "white",
             "minorgridcolor": "white",
             "startlinecolor": "#2a3f5f"
            },
            "type": "carpet"
           }
          ],
          "choropleth": [
           {
            "colorbar": {
             "outlinewidth": 0,
             "ticks": ""
            },
            "type": "choropleth"
           }
          ],
          "contour": [
           {
            "colorbar": {
             "outlinewidth": 0,
             "ticks": ""
            },
            "colorscale": [
             [
              0,
              "#0d0887"
             ],
             [
              0.1111111111111111,
              "#46039f"
             ],
             [
              0.2222222222222222,
              "#7201a8"
             ],
             [
              0.3333333333333333,
              "#9c179e"
             ],
             [
              0.4444444444444444,
              "#bd3786"
             ],
             [
              0.5555555555555556,
              "#d8576b"
             ],
             [
              0.6666666666666666,
              "#ed7953"
             ],
             [
              0.7777777777777778,
              "#fb9f3a"
             ],
             [
              0.8888888888888888,
              "#fdca26"
             ],
             [
              1,
              "#f0f921"
             ]
            ],
            "type": "contour"
           }
          ],
          "contourcarpet": [
           {
            "colorbar": {
             "outlinewidth": 0,
             "ticks": ""
            },
            "type": "contourcarpet"
           }
          ],
          "heatmap": [
           {
            "colorbar": {
             "outlinewidth": 0,
             "ticks": ""
            },
            "colorscale": [
             [
              0,
              "#0d0887"
             ],
             [
              0.1111111111111111,
              "#46039f"
             ],
             [
              0.2222222222222222,
              "#7201a8"
             ],
             [
              0.3333333333333333,
              "#9c179e"
             ],
             [
              0.4444444444444444,
              "#bd3786"
             ],
             [
              0.5555555555555556,
              "#d8576b"
             ],
             [
              0.6666666666666666,
              "#ed7953"
             ],
             [
              0.7777777777777778,
              "#fb9f3a"
             ],
             [
              0.8888888888888888,
              "#fdca26"
             ],
             [
              1,
              "#f0f921"
             ]
            ],
            "type": "heatmap"
           }
          ],
          "histogram": [
           {
            "marker": {
             "pattern": {
              "fillmode": "overlay",
              "size": 10,
              "solidity": 0.2
             }
            },
            "type": "histogram"
           }
          ],
          "histogram2d": [
           {
            "colorbar": {
             "outlinewidth": 0,
             "ticks": ""
            },
            "colorscale": [
             [
              0,
              "#0d0887"
             ],
             [
              0.1111111111111111,
              "#46039f"
             ],
             [
              0.2222222222222222,
              "#7201a8"
             ],
             [
              0.3333333333333333,
              "#9c179e"
             ],
             [
              0.4444444444444444,
              "#bd3786"
             ],
             [
              0.5555555555555556,
              "#d8576b"
             ],
             [
              0.6666666666666666,
              "#ed7953"
             ],
             [
              0.7777777777777778,
              "#fb9f3a"
             ],
             [
              0.8888888888888888,
              "#fdca26"
             ],
             [
              1,
              "#f0f921"
             ]
            ],
            "type": "histogram2d"
           }
          ],
          "histogram2dcontour": [
           {
            "colorbar": {
             "outlinewidth": 0,
             "ticks": ""
            },
            "colorscale": [
             [
              0,
              "#0d0887"
             ],
             [
              0.1111111111111111,
              "#46039f"
             ],
             [
              0.2222222222222222,
              "#7201a8"
             ],
             [
              0.3333333333333333,
              "#9c179e"
             ],
             [
              0.4444444444444444,
              "#bd3786"
             ],
             [
              0.5555555555555556,
              "#d8576b"
             ],
             [
              0.6666666666666666,
              "#ed7953"
             ],
             [
              0.7777777777777778,
              "#fb9f3a"
             ],
             [
              0.8888888888888888,
              "#fdca26"
             ],
             [
              1,
              "#f0f921"
             ]
            ],
            "type": "histogram2dcontour"
           }
          ],
          "mesh3d": [
           {
            "colorbar": {
             "outlinewidth": 0,
             "ticks": ""
            },
            "type": "mesh3d"
           }
          ],
          "parcoords": [
           {
            "line": {
             "colorbar": {
              "outlinewidth": 0,
              "ticks": ""
             }
            },
            "type": "parcoords"
           }
          ],
          "pie": [
           {
            "automargin": true,
            "type": "pie"
           }
          ],
          "scatter": [
           {
            "fillpattern": {
             "fillmode": "overlay",
             "size": 10,
             "solidity": 0.2
            },
            "type": "scatter"
           }
          ],
          "scatter3d": [
           {
            "line": {
             "colorbar": {
              "outlinewidth": 0,
              "ticks": ""
             }
            },
            "marker": {
             "colorbar": {
              "outlinewidth": 0,
              "ticks": ""
             }
            },
            "type": "scatter3d"
           }
          ],
          "scattercarpet": [
           {
            "marker": {
             "colorbar": {
              "outlinewidth": 0,
              "ticks": ""
             }
            },
            "type": "scattercarpet"
           }
          ],
          "scattergeo": [
           {
            "marker": {
             "colorbar": {
              "outlinewidth": 0,
              "ticks": ""
             }
            },
            "type": "scattergeo"
           }
          ],
          "scattergl": [
           {
            "marker": {
             "colorbar": {
              "outlinewidth": 0,
              "ticks": ""
             }
            },
            "type": "scattergl"
           }
          ],
          "scattermap": [
           {
            "marker": {
             "colorbar": {
              "outlinewidth": 0,
              "ticks": ""
             }
            },
            "type": "scattermap"
           }
          ],
          "scattermapbox": [
           {
            "marker": {
             "colorbar": {
              "outlinewidth": 0,
              "ticks": ""
             }
            },
            "type": "scattermapbox"
           }
          ],
          "scatterpolar": [
           {
            "marker": {
             "colorbar": {
              "outlinewidth": 0,
              "ticks": ""
             }
            },
            "type": "scatterpolar"
           }
          ],
          "scatterpolargl": [
           {
            "marker": {
             "colorbar": {
              "outlinewidth": 0,
              "ticks": ""
             }
            },
            "type": "scatterpolargl"
           }
          ],
          "scatterternary": [
           {
            "marker": {
             "colorbar": {
              "outlinewidth": 0,
              "ticks": ""
             }
            },
            "type": "scatterternary"
           }
          ],
          "surface": [
           {
            "colorbar": {
             "outlinewidth": 0,
             "ticks": ""
            },
            "colorscale": [
             [
              0,
              "#0d0887"
             ],
             [
              0.1111111111111111,
              "#46039f"
             ],
             [
              0.2222222222222222,
              "#7201a8"
             ],
             [
              0.3333333333333333,
              "#9c179e"
             ],
             [
              0.4444444444444444,
              "#bd3786"
             ],
             [
              0.5555555555555556,
              "#d8576b"
             ],
             [
              0.6666666666666666,
              "#ed7953"
             ],
             [
              0.7777777777777778,
              "#fb9f3a"
             ],
             [
              0.8888888888888888,
              "#fdca26"
             ],
             [
              1,
              "#f0f921"
             ]
            ],
            "type": "surface"
           }
          ],
          "table": [
           {
            "cells": {
             "fill": {
              "color": "#EBF0F8"
             },
             "line": {
              "color": "white"
             }
            },
            "header": {
             "fill": {
              "color": "#C8D4E3"
             },
             "line": {
              "color": "white"
             }
            },
            "type": "table"
           }
          ]
         },
         "layout": {
          "annotationdefaults": {
           "arrowcolor": "#2a3f5f",
           "arrowhead": 0,
           "arrowwidth": 1
          },
          "autotypenumbers": "strict",
          "coloraxis": {
           "colorbar": {
            "outlinewidth": 0,
            "ticks": ""
           }
          },
          "colorscale": {
           "diverging": [
            [
             0,
             "#8e0152"
            ],
            [
             0.1,
             "#c51b7d"
            ],
            [
             0.2,
             "#de77ae"
            ],
            [
             0.3,
             "#f1b6da"
            ],
            [
             0.4,
             "#fde0ef"
            ],
            [
             0.5,
             "#f7f7f7"
            ],
            [
             0.6,
             "#e6f5d0"
            ],
            [
             0.7,
             "#b8e186"
            ],
            [
             0.8,
             "#7fbc41"
            ],
            [
             0.9,
             "#4d9221"
            ],
            [
             1,
             "#276419"
            ]
           ],
           "sequential": [
            [
             0,
             "#0d0887"
            ],
            [
             0.1111111111111111,
             "#46039f"
            ],
            [
             0.2222222222222222,
             "#7201a8"
            ],
            [
             0.3333333333333333,
             "#9c179e"
            ],
            [
             0.4444444444444444,
             "#bd3786"
            ],
            [
             0.5555555555555556,
             "#d8576b"
            ],
            [
             0.6666666666666666,
             "#ed7953"
            ],
            [
             0.7777777777777778,
             "#fb9f3a"
            ],
            [
             0.8888888888888888,
             "#fdca26"
            ],
            [
             1,
             "#f0f921"
            ]
           ],
           "sequentialminus": [
            [
             0,
             "#0d0887"
            ],
            [
             0.1111111111111111,
             "#46039f"
            ],
            [
             0.2222222222222222,
             "#7201a8"
            ],
            [
             0.3333333333333333,
             "#9c179e"
            ],
            [
             0.4444444444444444,
             "#bd3786"
            ],
            [
             0.5555555555555556,
             "#d8576b"
            ],
            [
             0.6666666666666666,
             "#ed7953"
            ],
            [
             0.7777777777777778,
             "#fb9f3a"
            ],
            [
             0.8888888888888888,
             "#fdca26"
            ],
            [
             1,
             "#f0f921"
            ]
           ]
          },
          "colorway": [
           "#636efa",
           "#EF553B",
           "#00cc96",
           "#ab63fa",
           "#FFA15A",
           "#19d3f3",
           "#FF6692",
           "#B6E880",
           "#FF97FF",
           "#FECB52"
          ],
          "font": {
           "color": "#2a3f5f"
          },
          "geo": {
           "bgcolor": "white",
           "lakecolor": "white",
           "landcolor": "#E5ECF6",
           "showlakes": true,
           "showland": true,
           "subunitcolor": "white"
          },
          "hoverlabel": {
           "align": "left"
          },
          "hovermode": "closest",
          "mapbox": {
           "style": "light"
          },
          "paper_bgcolor": "white",
          "plot_bgcolor": "#E5ECF6",
          "polar": {
           "angularaxis": {
            "gridcolor": "white",
            "linecolor": "white",
            "ticks": ""
           },
           "bgcolor": "#E5ECF6",
           "radialaxis": {
            "gridcolor": "white",
            "linecolor": "white",
            "ticks": ""
           }
          },
          "scene": {
           "xaxis": {
            "backgroundcolor": "#E5ECF6",
            "gridcolor": "white",
            "gridwidth": 2,
            "linecolor": "white",
            "showbackground": true,
            "ticks": "",
            "zerolinecolor": "white"
           },
           "yaxis": {
            "backgroundcolor": "#E5ECF6",
            "gridcolor": "white",
            "gridwidth": 2,
            "linecolor": "white",
            "showbackground": true,
            "ticks": "",
            "zerolinecolor": "white"
           },
           "zaxis": {
            "backgroundcolor": "#E5ECF6",
            "gridcolor": "white",
            "gridwidth": 2,
            "linecolor": "white",
            "showbackground": true,
            "ticks": "",
            "zerolinecolor": "white"
           }
          },
          "shapedefaults": {
           "line": {
            "color": "#2a3f5f"
           }
          },
          "ternary": {
           "aaxis": {
            "gridcolor": "white",
            "linecolor": "white",
            "ticks": ""
           },
           "baxis": {
            "gridcolor": "white",
            "linecolor": "white",
            "ticks": ""
           },
           "bgcolor": "#E5ECF6",
           "caxis": {
            "gridcolor": "white",
            "linecolor": "white",
            "ticks": ""
           }
          },
          "title": {
           "x": 0.05
          },
          "xaxis": {
           "automargin": true,
           "gridcolor": "white",
           "linecolor": "white",
           "ticks": "",
           "title": {
            "standoff": 15
           },
           "zerolinecolor": "white",
           "zerolinewidth": 2
          },
          "yaxis": {
           "automargin": true,
           "gridcolor": "white",
           "linecolor": "white",
           "ticks": "",
           "title": {
            "standoff": 15
           },
           "zerolinecolor": "white",
           "zerolinewidth": 2
          }
         }
        },
        "violinmode": "group",
        "xaxis": {
         "anchor": "y",
         "domain": [
          0,
          1
         ],
         "title": {
          "text": "x"
         }
        },
        "yaxis": {
         "anchor": "x",
         "domain": [
          0,
          1
         ],
         "title": {
          "text": "y"
         }
        }
       }
      },
      "text/html": [
       "<div>                        <script type=\"text/javascript\">window.PlotlyConfig = {MathJaxConfig: 'local'};</script>\n",
       "        <script charset=\"utf-8\" src=\"https://cdn.plot.ly/plotly-3.0.1.min.js\" integrity=\"sha256-oy6Be7Eh6eiQFs5M7oXuPxxm9qbJXEtTpfSI93dW16Q=\" crossorigin=\"anonymous\"></script>                <div id=\"711e1b7c-332b-4d17-8a5c-554286609f2a\" class=\"plotly-graph-div\" style=\"height:100%; width:100%;\"></div>            <script type=\"text/javascript\">                window.PLOTLYENV=window.PLOTLYENV || {};                                if (document.getElementById(\"711e1b7c-332b-4d17-8a5c-554286609f2a\")) {                    Plotly.newPlot(                        \"711e1b7c-332b-4d17-8a5c-554286609f2a\",                        [{\"alignmentgroup\":\"True\",\"box\":{\"visible\":false},\"hovertemplate\":\"color=yes\\u003cbr\\u003ex=%{x}\\u003cbr\\u003ey=%{y}\\u003cextra\\u003e\\u003c\\u002fextra\\u003e\",\"legendgroup\":\"yes\",\"marker\":{\"color\":\"#636efa\"},\"name\":\"yes\",\"offsetgroup\":\"yes\",\"orientation\":\"v\",\"scalegroup\":\"True\",\"showlegend\":true,\"x\":[\"female\",\"female\",\"male\",\"male\",\"female\",\"male\",\"male\",\"male\",\"male\",\"male\",\"male\",\"male\",\"male\",\"male\",\"male\",\"female\",\"female\",\"male\",\"female\",\"male\",\"female\",\"male\",\"female\",\"male\",\"female\",\"male\",\"male\",\"female\",\"male\",\"male\",\"female\",\"male\",\"female\",\"female\",\"male\",\"male\",\"male\",\"female\",\"male\",\"male\",\"male\",\"female\",\"female\",\"female\",\"male\",\"female\",\"male\",\"male\",\"male\",\"female\",\"male\",\"female\",\"female\",\"male\",\"female\",\"male\",\"male\",\"male\",\"male\",\"female\",\"male\",\"male\",\"male\",\"male\",\"male\",\"female\",\"male\",\"female\",\"male\",\"male\",\"male\",\"male\",\"female\",\"male\",\"female\",\"male\",\"male\",\"female\",\"female\",\"male\",\"male\",\"female\",\"male\",\"female\",\"female\",\"male\",\"female\",\"male\",\"female\",\"female\",\"female\",\"female\",\"male\",\"male\",\"male\",\"female\",\"male\",\"male\",\"female\",\"male\",\"male\",\"male\",\"female\",\"male\",\"male\",\"male\",\"male\",\"male\",\"male\",\"male\",\"female\",\"male\",\"female\",\"female\",\"male\",\"female\",\"female\",\"female\",\"female\",\"female\",\"male\",\"female\",\"male\",\"female\",\"male\",\"male\",\"female\",\"male\",\"male\",\"female\",\"female\",\"male\",\"female\",\"male\",\"female\",\"male\",\"male\",\"male\",\"male\",\"female\",\"female\",\"female\",\"male\",\"female\",\"male\",\"male\",\"male\",\"male\",\"female\",\"female\",\"male\",\"male\",\"female\",\"male\",\"female\",\"male\",\"male\",\"male\",\"female\",\"female\",\"female\",\"male\",\"male\",\"male\",\"female\",\"female\",\"female\",\"female\",\"female\",\"female\",\"female\",\"male\",\"female\",\"female\",\"male\",\"male\",\"female\",\"male\",\"female\",\"male\",\"female\",\"male\",\"female\",\"male\",\"male\",\"male\",\"male\",\"male\",\"male\",\"male\",\"male\",\"male\",\"male\",\"male\",\"female\",\"female\",\"male\",\"male\",\"male\",\"male\",\"female\",\"male\",\"male\",\"female\",\"female\",\"male\",\"male\",\"female\",\"female\",\"male\",\"female\",\"male\",\"male\",\"male\",\"male\",\"male\",\"male\",\"female\",\"male\",\"female\",\"female\",\"female\",\"male\",\"female\",\"male\",\"male\",\"female\",\"female\",\"female\",\"female\",\"male\",\"female\",\"male\",\"male\",\"female\",\"female\",\"male\",\"female\",\"male\",\"female\",\"female\",\"female\",\"male\",\"female\",\"female\",\"female\",\"male\",\"female\",\"male\",\"male\",\"male\",\"male\",\"male\",\"male\",\"male\",\"male\",\"male\",\"female\",\"female\",\"male\",\"male\",\"male\",\"male\",\"male\",\"male\",\"male\",\"female\",\"male\",\"female\",\"female\",\"female\",\"male\",\"female\",\"female\"],\"x0\":\" \",\"xaxis\":\"x\",\"y\":{\"dtype\":\"f8\",\"bdata\":\"YOXQIjt90ECV1AloLijbQAYSFD94V+NA5\\u002fup8a784UCk374OvGjiQAAAAADg5uJAUI2XbjJg4UC8kXnkUf\\u002foQPwYc9fIa+NAO99PjauF50CDwMqhpebiQCGwcmgRBNdACmgibNJt4kBwzojSDzHnQH3Qs1nlv+BAUwWjkjKz1kBiodY037vMQAWjkjrJP9FAz\\u002fdT43Ew0EBjf9k9pSXiQFTjpZuQc+NAliGOdaOa1EC8lpAPXkflQIqO5PI7et1AKVyPwmEX50DdJAaBKePVQPT91HhZ5s5A2IFzRow33kCq8dJNGCbRQEaU9gbx+eZA\\u002fmX35PGo0kD8qfHSj1DjQOxRuB5FrtBA0NVW7Iv330DhehSuH4fSQB4Wak1\\u002fQtRAD5wzohHi40BAE2HDL3\\u002fTQKmkTkDrudRAjZduEhdPzkAc6+I2yAriQL6fGi8t2dRA9P3UeK+m4UBmZmZmDtfnQOQUHckqXeVAKe0Nvrwh4kC62or9BX7UQOF6FK5z++BA4QuTqeIO00DSAN4CEf3SQN4CCYor8tBAApoIG\\u002fTN4kAOvjCZytTcQDSAt0C6DslAKVyPwikZ50DpSC7\\u002fl5zlQARWDi0lEeRAidLe4CVy5UAf9GxWyXrgQBrAWyBRr9BAU5YhjnVJ2EBFR3L5bK\\u002fhQIts5\\u002fvjiOZAIbByaOHG0EBCYOXQGu3kQNiBc0bkztVAKA8LtaW050A2PL1SGWPnQN4CCYoHkORANV66SezUz0CqYFRSq3bVQNqs+lxL6+JAD5wzolhK2ED0bFZ9kJHkQC2yne\\u002fbAuFArkfhenRU4UACvAUSEOHkQFyPwvUAZ+dAGCZTBbKw50BCz2bVZ9LXQHe+nxrjd+RA46WbxEAKy0C6SQwCp57hQHPXEvJ9nNFAgSbChvsm1UDP91Pjx53iQNXnaitKT81AvsEXJvan5EDNO07RsyLTQH\\u002f7OnDSO8xA46WbxBAs0kDSb18HnkXcQDcawFso5eZA3EYDeOPA5kCDwMqhqhrjQESLbOfrGuJAMLsnD1V\\u002f2UBeukkMAqDVQP8h\\u002ffZ9ENNAukkMApPJ2ED0bFZ9KjHcQJPjTulwKeFAYMjqVqTe50BYObTIhoXRQH0\\u002fNV62rOFAlIeFWoey1UASg8DKFcnfQNejcD2KltRA9l0R\\u002fLKs4kAkl\\u002f+QcMTnQAwHQrJNI+9A24r9Zc8\\u002f10D2KFyP5mTmQPfkYaHtheNA4lgXt8BQ5kCH4SNiYpnsQAHeAgn8dOVAN4lBYI3\\u002fzUCitDf4Pg\\u002fRQOXyH9KxE9lAGy\\u002fdJC4p40CqglFJO\\u002fvkQLpJDAKjwtZAlWWIY\\u002fvQ4EBaZDvfx57jQCzUmuY65+BAJzEIrO785ED4wmSqVK3TQInvxKxuAuBAQmDl0NoW2EBSSZ2AemfaQIY41sUNyORAg8DKoWqI40APC7WmxlHmQGlv8IUfj+ZAK4cW2VCG5kCuR+F6\\u002fJTjQIv9ZffO\\u002fuBAsp3vpzSq40CjkjoBDa7lQLTIdr6N\\u002fONAoWez6m1E0EDQ1Vbsf+jSQGuad5xgvONAwFsgQaOr4UCnrnyWLsXlQMuhRbaf0dFArK3YX80e5UA730+NzxTTQFuxv+xahtZADXGsi3m64UDTTWIQOJjSQE+vlGUgVdFA\\u002fKnx0s3U0UCJQWDlEPLXQAisHFr0stRAaJHtfK\\u002fh0UBX7C+7IXzRQERpb\\u002fAV8eJAsHJokVPa1kAC2evd7OvqQOJYF7e7ZOVABFYOLWhJ1EBeS8gHrVXjQDcawFugluFAIR\\u002f0bHrj2kBqvHSTHvrlQOVhodbEMuJANe84RfWP5EB+HThnuorXQGRd3EbFAeRA1edqK\\u002f7kzkAIrBxaMITmQJqZmZnjleZAIv32dexB00CLbOf7m5TaQET67eu+pNxAFYxK6lSV5UCASL99g1XTQKCJsOExxOdAJQaBlRMW0UBFR3L5lXjgQJoIG56UQ9VA9l0R\\u002fKsf4UDsUbge6RDjQGQ7309dd9NAVOOlm9ws50D0\\u002fdR40QrjQMe6uI1oitNAPQrXo\\u002fCB5EDrc7UVRwnkQK8l5IPYZ9dA9bnaimGFz0Db+X5q\\u002fL\\u002fSQKMBvAXydcxADwu1ph8J0EBeS8gHcfTQQP7UeOka1eBA1QloIs5U2ECRD3o271PSQOY\\u002fpN9yYeFACmgibGSc5EDvycNCuRDQQAN4CyRSK9VAVg4tsvmw5UBVMCqp79nKQMNkqmCOTeJA9pfdk7Bl40AQWDm0tsLTQL7BFyZ6WOBArkfhejRe1UAp7Q2+rLrlQPhT46XzZeNA8KfGS1+32EDQ1VbsR+nnQFInoIn2d+NAP8bctQTu4EA9Ctej0JPSQPcGX5iCWeRAx0s3iXGO4EAHzhlRJszlQJYhjnUTYtBAn82qz6d75EC0yHa+O53XQDcawFuSo+FAi2zn+1ex4kD6fmq8yK7gQHgLJCiuyOZA8tJNYgb540ArMGR1VwTiQLTlXIrarelASS7\\u002fIan940CJ0t7gV2XjQLMMcayrxtBAZmZmZqbz1UDEQq1p6lPXQOC+DpyX5dJAS8gHPQ\\u002fm0UAAAAAAK0viQFtCPujVQtVAVFInoHFD4ED99nXg3MvRQEoMAivvweJA78nDQjfS00AGgZVDs1fkQJWCbi9rg9lAw7tcxKxO7UAe+YOB1bHTQNnO91O7FOdAHHxhMjU16EBDHOvi8FziQC7\\u002fIf0aNtJA2\\u002fl+amy0z0BE+u3roEvaQCgPC7XBueBAt2J\\u002f2dWk0EDNzMzMgu\\u002fVQCgPC7Xs9ddA5IOezbrly0CPwvUofCXnQDEIrBwSueJAc2iR7ZQB4UCPcFrwG5DuQGIQWDnFz+ZAeHqlLLd44kBhMlUw2MLUQNEi2\\u002fmmec9AVcGopB741ECJQWDllI3gQFCNl26yxeFA0m9fB3hT0kB88rBQVXHbQDBMpgoMb+VAMLsnD1d13EA=\"},\"y0\":\" \",\"yaxis\":\"y\",\"type\":\"violin\"},{\"alignmentgroup\":\"True\",\"box\":{\"visible\":false},\"hovertemplate\":\"color=no\\u003cbr\\u003ex=%{x}\\u003cbr\\u003ey=%{y}\\u003cextra\\u003e\\u003c\\u002fextra\\u003e\",\"legendgroup\":\"no\",\"marker\":{\"color\":\"#EF553B\"},\"name\":\"no\",\"offsetgroup\":\"no\",\"orientation\":\"v\",\"scalegroup\":\"True\",\"showlegend\":true,\"x\":[\"male\",\"male\",\"male\",\"male\",\"female\",\"female\",\"female\",\"male\",\"female\",\"male\",\"male\",\"female\",\"male\",\"female\",\"male\",\"male\",\"female\",\"female\",\"male\",\"male\",\"female\",\"female\",\"female\",\"male\",\"female\",\"female\",\"male\",\"male\",\"female\",\"male\",\"female\",\"female\",\"male\",\"female\",\"male\",\"male\",\"female\",\"female\",\"female\",\"female\",\"female\",\"female\",\"female\",\"female\",\"male\",\"male\",\"male\",\"female\",\"female\",\"female\",\"male\",\"female\",\"male\",\"female\",\"male\",\"male\",\"male\",\"female\",\"male\",\"female\",\"female\",\"male\",\"female\",\"female\",\"female\",\"female\",\"female\",\"female\",\"female\",\"male\",\"female\",\"female\",\"male\",\"female\",\"male\",\"female\",\"female\",\"female\",\"male\",\"male\",\"male\",\"female\",\"male\",\"female\",\"male\",\"male\",\"male\",\"female\",\"female\",\"male\",\"male\",\"female\",\"female\",\"female\",\"female\",\"male\",\"female\",\"female\",\"female\",\"male\",\"female\",\"female\",\"male\",\"male\",\"female\",\"female\",\"male\",\"male\",\"male\",\"female\",\"female\",\"female\",\"male\",\"male\",\"male\",\"female\",\"female\",\"male\",\"female\",\"male\",\"female\",\"male\",\"male\",\"female\",\"female\",\"female\",\"male\",\"male\",\"male\",\"male\",\"female\",\"female\",\"male\",\"male\",\"female\",\"female\",\"male\",\"female\",\"male\",\"female\",\"male\",\"female\",\"female\",\"female\",\"female\",\"male\",\"female\",\"male\",\"female\",\"male\",\"male\",\"female\",\"female\",\"female\",\"female\",\"female\",\"female\",\"female\",\"male\",\"female\",\"male\",\"female\",\"male\",\"male\",\"male\",\"male\",\"female\",\"female\",\"female\",\"female\",\"male\",\"female\",\"female\",\"female\",\"female\",\"male\",\"male\",\"male\",\"female\",\"female\",\"male\",\"female\",\"female\",\"female\",\"male\",\"male\",\"female\",\"male\",\"male\",\"female\",\"female\",\"male\",\"male\",\"female\",\"male\",\"male\",\"male\",\"male\",\"female\",\"female\",\"male\",\"female\",\"female\",\"female\",\"male\",\"male\",\"male\",\"male\",\"male\",\"male\",\"female\",\"male\",\"female\",\"male\",\"female\",\"male\",\"female\",\"female\",\"male\",\"female\",\"female\",\"male\",\"female\",\"male\",\"female\",\"male\",\"male\",\"female\",\"male\",\"female\",\"female\",\"female\",\"male\",\"female\",\"female\",\"male\",\"female\",\"male\",\"female\",\"male\",\"male\",\"male\",\"male\",\"female\",\"male\",\"male\",\"female\",\"male\",\"male\",\"male\",\"female\",\"male\",\"female\",\"female\",\"female\",\"male\",\"male\",\"male\",\"female\",\"female\",\"male\",\"female\",\"male\",\"female\",\"female\",\"male\",\"male\",\"female\",\"male\",\"female\",\"female\",\"female\",\"male\",\"female\",\"male\",\"male\",\"male\",\"male\",\"female\",\"female\",\"male\",\"female\",\"female\",\"female\",\"female\",\"female\",\"male\",\"male\",\"female\",\"female\",\"female\",\"male\",\"female\",\"male\",\"male\",\"female\",\"male\",\"male\",\"female\",\"male\",\"female\",\"female\",\"male\",\"female\",\"male\",\"male\",\"female\",\"male\",\"female\",\"male\",\"male\",\"female\",\"female\",\"male\",\"female\",\"male\",\"male\",\"female\",\"female\",\"female\",\"male\",\"male\",\"male\",\"male\",\"female\",\"female\",\"male\",\"male\",\"male\",\"male\",\"male\",\"female\",\"female\",\"female\",\"female\",\"male\",\"female\",\"male\",\"female\",\"male\",\"male\",\"male\",\"male\",\"female\",\"male\",\"female\",\"male\",\"female\",\"female\",\"male\",\"female\",\"female\",\"male\",\"male\",\"male\",\"male\",\"male\",\"male\",\"male\",\"female\",\"female\",\"male\",\"female\",\"female\",\"female\",\"male\",\"male\",\"female\",\"female\",\"female\",\"female\",\"male\",\"female\",\"female\",\"female\",\"male\",\"male\",\"male\",\"male\",\"male\",\"female\",\"female\",\"male\",\"female\",\"female\",\"male\",\"male\",\"female\",\"female\",\"female\",\"male\",\"male\",\"female\",\"male\",\"female\",\"female\",\"male\",\"female\",\"male\",\"male\",\"male\",\"female\",\"female\",\"male\",\"male\",\"male\",\"male\",\"male\",\"male\",\"male\",\"female\",\"male\",\"female\",\"female\",\"female\",\"female\",\"female\",\"female\",\"female\",\"male\",\"male\",\"female\",\"male\",\"male\",\"male\",\"male\",\"female\",\"female\",\"female\",\"male\",\"female\",\"female\",\"female\",\"male\",\"male\",\"female\",\"female\",\"male\",\"female\",\"male\",\"female\",\"female\",\"male\",\"male\",\"male\",\"male\",\"female\",\"female\",\"male\",\"male\",\"female\",\"female\",\"female\",\"male\",\"female\",\"female\",\"female\",\"female\",\"female\",\"female\",\"female\",\"male\",\"male\",\"female\",\"male\",\"male\",\"male\",\"female\",\"male\",\"female\",\"male\",\"female\",\"female\",\"female\",\"male\",\"male\",\"male\",\"female\",\"female\",\"female\",\"male\",\"female\",\"female\",\"male\",\"female\",\"female\",\"female\",\"female\",\"male\",\"female\",\"female\",\"female\",\"female\",\"female\",\"female\",\"female\",\"male\",\"female\",\"male\",\"female\",\"male\",\"male\",\"male\",\"male\",\"male\",\"female\",\"male\",\"male\",\"male\",\"female\",\"female\",\"male\",\"male\",\"male\",\"female\",\"male\",\"male\",\"male\",\"female\",\"male\",\"female\",\"female\",\"female\",\"female\",\"female\",\"female\",\"female\",\"male\",\"female\",\"female\",\"male\",\"female\",\"female\",\"male\",\"male\",\"female\",\"male\",\"female\",\"male\",\"female\",\"male\",\"female\",\"male\",\"female\",\"female\",\"male\",\"male\",\"female\",\"male\",\"male\",\"male\",\"female\",\"male\",\"male\",\"male\",\"male\",\"female\",\"female\",\"female\",\"male\",\"female\",\"female\",\"female\",\"male\",\"female\",\"female\",\"female\",\"male\",\"female\",\"female\",\"male\",\"female\",\"female\",\"male\",\"female\",\"male\",\"female\",\"male\",\"female\",\"female\",\"female\",\"male\",\"male\",\"male\",\"female\",\"male\",\"female\",\"female\",\"male\",\"female\",\"female\",\"female\",\"female\",\"male\",\"male\",\"female\",\"male\",\"female\",\"male\",\"male\",\"female\",\"male\",\"male\",\"male\",\"female\",\"male\",\"male\",\"female\",\"male\",\"female\",\"male\",\"male\",\"female\",\"female\",\"male\",\"female\",\"female\",\"female\",\"male\",\"female\",\"female\",\"male\",\"male\",\"male\",\"male\",\"male\",\"male\",\"male\",\"male\",\"female\",\"female\",\"male\",\"male\",\"male\",\"female\",\"female\",\"male\",\"female\",\"female\",\"male\",\"female\",\"female\",\"female\",\"female\",\"male\",\"male\",\"female\",\"female\",\"female\",\"male\",\"male\",\"female\",\"female\",\"male\",\"male\",\"male\",\"female\",\"female\",\"male\",\"male\",\"male\",\"female\",\"female\",\"male\",\"female\",\"male\",\"male\",\"female\",\"female\",\"male\",\"male\",\"male\",\"male\",\"female\",\"female\",\"female\",\"male\",\"male\",\"male\",\"female\",\"male\",\"female\",\"male\",\"male\",\"female\",\"female\",\"female\",\"male\",\"female\",\"female\",\"female\",\"male\",\"male\",\"male\",\"male\",\"male\",\"female\",\"male\",\"female\",\"male\",\"male\",\"male\",\"female\",\"female\",\"male\",\"male\",\"female\",\"male\",\"male\",\"female\",\"male\",\"female\",\"male\",\"male\",\"female\",\"male\",\"male\",\"female\",\"male\",\"female\",\"female\",\"male\",\"male\",\"male\",\"female\",\"female\",\"male\",\"female\",\"male\",\"male\",\"female\",\"female\",\"male\",\"female\",\"female\",\"female\",\"female\",\"female\",\"male\",\"male\",\"male\",\"male\",\"female\",\"female\",\"female\",\"male\",\"male\",\"female\",\"male\",\"female\",\"male\",\"female\",\"male\",\"female\",\"male\",\"male\",\"male\",\"female\",\"female\",\"male\",\"male\",\"female\",\"male\",\"male\",\"male\",\"female\",\"male\",\"male\",\"male\",\"female\",\"female\",\"female\",\"male\",\"male\",\"male\",\"male\",\"male\",\"female\",\"female\",\"female\",\"female\",\"female\",\"male\",\"male\",\"male\",\"female\",\"female\",\"male\",\"male\",\"female\",\"male\",\"female\",\"male\",\"female\",\"male\",\"female\",\"female\",\"female\",\"male\",\"female\",\"female\",\"female\",\"female\",\"female\",\"male\",\"male\",\"male\",\"male\",\"male\",\"male\",\"male\",\"female\",\"female\",\"male\",\"female\",\"male\",\"female\",\"female\",\"female\",\"female\",\"male\",\"male\",\"female\",\"female\",\"male\",\"male\",\"female\",\"female\",\"male\",\"female\",\"male\",\"male\",\"male\",\"female\",\"male\",\"female\",\"female\",\"female\",\"male\",\"male\",\"female\",\"male\",\"female\",\"female\",\"female\",\"male\",\"male\",\"male\",\"male\",\"female\",\"female\",\"male\",\"male\",\"male\",\"female\",\"male\",\"male\",\"female\",\"female\",\"female\",\"female\",\"male\",\"male\",\"male\",\"male\",\"male\",\"male\",\"female\",\"male\",\"male\",\"male\",\"male\",\"female\",\"male\",\"female\",\"female\",\"male\",\"female\",\"female\",\"male\",\"male\",\"male\",\"male\",\"female\",\"female\",\"female\",\"male\",\"male\",\"female\",\"female\",\"male\",\"male\",\"male\",\"female\",\"male\",\"female\",\"female\",\"male\",\"female\",\"male\",\"female\",\"female\",\"male\",\"male\",\"female\",\"male\",\"female\",\"female\",\"female\",\"male\",\"male\",\"female\",\"female\",\"male\",\"male\",\"male\",\"female\",\"male\",\"male\",\"female\",\"female\",\"female\",\"female\",\"female\",\"female\",\"female\",\"female\",\"female\",\"male\",\"male\",\"female\",\"female\",\"female\",\"male\",\"female\",\"male\",\"female\",\"female\",\"male\",\"male\",\"female\",\"female\",\"female\",\"female\",\"female\",\"female\",\"female\",\"male\",\"female\",\"female\",\"female\",\"female\",\"female\",\"female\",\"female\",\"female\",\"male\",\"male\",\"female\",\"male\",\"male\",\"male\",\"male\",\"male\",\"female\",\"male\",\"male\",\"male\",\"male\",\"female\",\"female\",\"male\",\"male\",\"male\",\"female\",\"female\",\"male\",\"male\",\"male\",\"female\",\"male\",\"male\",\"male\",\"male\",\"female\",\"male\",\"female\",\"male\",\"female\",\"female\",\"male\",\"female\",\"female\",\"female\",\"male\",\"male\",\"female\",\"male\",\"female\",\"male\",\"female\",\"female\",\"female\",\"female\",\"female\",\"male\",\"female\",\"female\",\"male\",\"female\",\"female\",\"female\",\"female\",\"female\",\"male\",\"male\",\"female\",\"male\",\"male\",\"male\",\"female\",\"female\",\"female\",\"female\",\"male\",\"female\",\"female\",\"female\",\"male\",\"female\",\"male\",\"male\",\"male\",\"male\",\"male\",\"female\",\"male\",\"female\",\"female\",\"female\",\"male\",\"male\",\"female\",\"male\",\"male\",\"female\",\"male\",\"male\",\"female\",\"male\",\"male\",\"male\",\"male\",\"female\",\"male\",\"female\",\"male\",\"female\",\"female\",\"female\",\"male\",\"female\",\"female\",\"female\"],\"x0\":\" \",\"xaxis\":\"x\",\"y\":{\"dtype\":\"f8\",\"bdata\":\"U5YhjjX2mkDByqFFdmGxQMtneR4eeNVAFD\\u002fG3LU1rkBj7lpCPlmtQNxGA3hLGMBA3GgAb4FxvEB4nKIjaQa5QIsaTMPIPtxAHcnlP6RCpUAdWmQ7X4ucQInS3uBbqcVAnMQgsPK0nEB1ApoIqxbFQELPZtVXtqJAexSuRzG1xECsi9tobNbJQNv5fmq8NbBABoGVQwvEkUArhxbZ5ju4QBrAWyCRWMtAofgx5uo5zEBzaJHtUPbHQNobfGFirqVAS+oENGEsoUDpJjEIzE+yQCS5\\u002fIcM5cpAj8L1KLxlmUBXW7G\\u002fGH7OQJqZmZmZ\\u002fKFAtMh2vh\\u002fMp0B6xyk6wlWzQKd5xyl6gLhAqvHSTcKpuEBEi2znq7+3QIYgByWSJdRA3NeBc7aCqkA0orQ32MmrQCnLEMfyqshA5\\u002fup8UJGoUBkzF1LqPerQLdif9mte79AMzMzM6+TykCNKO0NhmW3QBNhw9Mbz8BA3+ALk6mYsUBY5xiQp3XdQHqlLEOkJbBAYOXQIts8m0Coxks3ic3LQMsQx7pg9bhAgy9Mphogt0CR7Xw\\u002fdY+6QHNoke3c7sZASL99HVBVx0DJdr6f2i6+QPcGX5hULsZA9dvXgdPWrkC6awn54PGXQLRZ9bkKhqVAqDXNOwaruUAkl\\u002f+QNlmxQDtwzohK\\u002f75A4umVstSMxUAMAiuHlqDFQIMvTKaqWr9AoImw4UmlxUAibHh65aufQLivA+cQX8VAqz5XWwFhtkBpAG+BxG2tQFyPwvWopMdAw2SqYCT5w0CYbhKDICq4QIY41sUteqxAYTJVMDbY1EB9PzVe2ouzQD81XroJN6JAnu+nxptKrkA0ETY8PWamQH\\u002fZPXmgJMVA\\u002fKnx0q00x0Cq8dJNwiayQJwzorR3yaJAPE7RkShwxkBNSkG3\\u002f4zdQA8LtaapOsZASZ2AJqrMwEDEQq1pbh66QMHKoUVWPL5AaJHtfH+mmkDZzvdT86KhQEku\\u002fyGBwcNAZohjXcxyqkCgGi\\u002fdRNHCQOF6FK5nwrdALSEf9LgHyUAs1JrmLZjKQBBYObTIzcVA6Ugu\\u002f0GCmUAaUdobbDKjQHNoke1c16BAVOOlm8S1k0BWDi2yvfafQPbuj\\u002feurtpAWDm0yHbtoECFX+rn+bvaQHicoiMZRatA001iEHi70UDiWBe3QRK0QOQUHcnNSsNARPrt69hnxUB\\u002farx0E8qcQL99HTg3BbRA9ihcj6JtvkCKjuTyV764QN21hHwwpbtACfmgZ7Mku0B8REyJWEnTQLKd76dGacRAqvHSTSIgtECY3ZOHJaSzQC7\\u002fIf2KU8RAexSuR6HeskAy5q4lzPC3QB1aZDuPPqVAhJ7NqufbskDQs1n1sS7KQEjhehSutL9AI0p7gy97mkDpJjEIDH60QLu4jQbgTqZA5WGh1tw3uUA1XrpJDGLEQMuhRbajO8FARPrt6yStwEDG3LWE8OvGQOcdp+hIf5lAH4XrUdhKr0DChqdXevu8QB\\u002f0bFZtM75Ady0hH\\u002fQbr0Cyne+nps20QHWTGAT2d7pAaCJseOo6s0AibHh6zYbIQFYOLbLdE7NAVcGopE6zoECe76fGK4bHQLprCfngxZFAg1FJnUCemUCkcD0KtxG2QDEIrBxqosBAH4XrUSDWwkDswDkjwhrNQLyWkA9apaBAZ9XnapNTwUAoDwu1GmrJQBSuR+Ea67tABTQRNrzxsEDByqFFpu\\u002fGQPT91Hh5HMtAX5hMFRzSuUDhehSuR\\u002fCeQMP1KFy34r9ALbKd72ejq0CU9gZfyIqzQNnO91MDpMBAg8DKocXLvEBeukkM0jnEQLbz\\u002fdR4Z6NAdy0hH\\u002fSBqkAkYkokcX7YQGq8dJN4lLNAqMZLN3GixEAbL90khoW0QJjdk4eVacdA4JwRpf0CpUC6FFeV1ajXQIv9ZfcsvrxAWRe30aAEwkCxv+yepBO9QOLplbKkWMtAcT0K1yP\\u002fmkCLbOf76RbIQBrAWyAxNrpAXwfOGRE\\u002fmUBpAG+BNG+xQInS3uCr8LtApSxDHBPqtEChvmVOBCvhQKJFtvPdHLxANGjonx7n10AB3gIJWrTIQFioNc27C59ATDeJQWCgnED8qfHSHZGvQDm0yHa+pLBAat5xiqp7yUC6SQwC+xi1QEGC4scMgMZArkfhepQex0AiVKnZv\\u002fvTQLivA+dQf8xAsHJokQ0RvUA7AU2EPSHCQPtcbcW+3ZpAcT0K17NhvECeXinL1MjCQFg5tMhWtqNA+FPjpev5wkAHX5hMZeelQKabxCDwzKBA78nDQmVAyUBZF7fRkD\\u002fDQE+vlGUgjbBAk6mCUY0zx0ApXI\\u002fC9czCQBpR2hscPr5Af\\u002fs6cHZswkBWn6utGNjLQC1b64s0YtlAqMZLNwnIqEBMbD6uc83TQET67euA2aBAL90kBkGErkBuowG8RaKaQH2utmK\\u002fEMJASOF6FL5aukAsZRniwPTHQMHKoUV2\\u002fbBAI9v5fhqzyEDJdr6flvzSQFc+y\\u002fNqtNNAZRniWAc3sEAwKqkTTFTHQBiV1AkoRb5AJzEIrDx+wEAv3SQGgSWbQLAD54xovL9AI9v5fmL9wkCKsOHpoUHBQAisHFqIYcRAcF8HzjH9vEBqTfOOmzuyQBTQRNjAHrNAiJ0pdOoX2EBoImx4JpfGQN9PjZcuZKZAnKIjuTTIuUDUmuYdx9OrQB+F61FI3MFAJLn8h4Q6ykAkufyHMMXGQF8ktOUkstJAWDm0yGb\\u002fykC8lpAPSrfHQGQ730\\u002fVOMtAWMoyxFEUwEBk6UMXzoLSQBIUP8YMFMpAvHSTGIzQyUAU0ETY7E7LQJXUCWiacMVAbHh6pUwouEBaZDvf\\u002fxmzQCSX\\u002f5A6R8BAfoy5awlmtUDXEvJB746ZQBHHurhNG8dAbxKDwApywUAtsp3vZ8SrQPVKWYZwOshAtvP91ISay0AHfH4YwwbYQOPHmLsOeMFAZapgVCrKwkD4wmSqILWcQMKGp1cKHplAWmQ735+dw0C4HoXrEY+yQCuHFtmOS6RAYcPTKwXZqECWsgxxLBnDQLgeheshO8pAJ8KGpw9Rv0CIhVrTRLS\\u002fQNv5fmq8M6tA\\u002ffZ14IQzykDi6ZWypH7HQLfRAN5q171AlWWIYx2+lUAeFmpN7RHQQFn60AU\\u002fXtpAlxx3Sl9L1EDPZtXn6ta2QA3gLZBEN8BADi2ynW+3k0AnMQisNCjHQFPQ7SUpk91AnRGlvaHRqEDzjlN0FAqyQH9qvHRv+MRAqFfKMiS0oEDjNhrAB4LBQOXQItsRJcJAPQrXo4BhwkBCPujZtGa9QPLSTWIApcBAOQt72p8y0EDwp8ZLN0bNQKvP1VasfplAdZMYBGYYwkDcRgN465O\\u002fQMrDQq1VssxAFK5H4boOxEDP91PjZXipQO7rwDlzQsZAR3L5DxlZsEDP91Pj1a3AQCDSb1+H\\u002fLlAZMxdS+jUr0BmiGNdXFWZQGq8dJMY2LNAsHJokc2toEBGJXUCurG8QD81Xrp52sFA5q4l5CMpzEBNFYxKyk6lQNejcD0qhMFAzqrP1W4ew0BGJXUCEpu5QHsVGR28m7xAw9MrZem+qEBhVFInMF3SQLlwICS9itZAzojS3mgqs0ACK4cWuVG3QFyPwvUYr8hAAU2EDZeTsEDwhclU6S\\u002fLQHL5D+mXnaFAarx0k9gmt0Db+X5qRJjIQIPAyqGloqZAylTBqESCskDyQc9mlfWRQLvtQnP5n9tA3SQGgRWxvECKjuTyf93IQG8Sg8ACX8ZAbef7qfEWt0BiEFg5VJqyQAisHFpEWL1AS8gHPXuAr0D6fmq8dMaeQKyL22ggpptA9dvXgWNOskC7uI0GQEnVQBpR2hv8NMdAYqHWNGMgx0D6fmq8tLTEQFK4HoWrAr5ATKYKRr1GxEAibHh6Kb\\u002fNQJYhjnW1zsVA7FG4HiWAmUAQWDm0WNTJQDcawFuwschAZ9Xnaju+1kDiWBe3MTKhQOC+DpwTgqNAPL1SlvE2oUCPwvUo3EGbQADjGTSyY9RAmpmZmcnMo0CHFtnON\\u002fmXQB3J5T8kgZxAj8L1KJhhzkCI9NvXWSzCQC\\u002fdJAbBWJlAEFg5tAhMw0DLoUW2g63CQF3+Q\\u002foF+7BAi\\u002f1l96xdyEA5tMh2vpeTQNqs+lz9bsRAarx0kxhTm0DcLjTXRfDXQO84RUfyKKFAwcqhRQaPyEB6Nqs+F7yeQIPAyqGlQ7NAhxbZzvdbv0CIhVrTjAnAQEjhehRuT8pACYofY161ukDF\\u002frJ7Yla3QEa28\\u002f3cjLpA9P3UeImmpECJQWDlMAqoQHlYqDVtyKdAcT0K16NfxkBIv30dgPnGQO2ePCzUhKNAKxiV1KlIwkAEVg4tMqGTQD0K16NgMcZArkfhehIT20A17zhFu27AQHE9CtfDeLRA+n5qvIQjrkCtUQ\\u002fRJA7ZQHUCmghbNK9AGCZTBSdFw0BxGw3gnRW1QO\\u002fJw0JRbcZARKM7iOt+10AzMzMzg0LDQB+F61F0S8BA3GgAbwGwmkAAb4EEvW3LQCGwcmjxPslAFk1nJ63D0kBApN++jgPLQMUgsHIgs7dA46WbxGBUt0C6SQwCizzBQK5H4XqMFMBAiV5GsYK02kCcxCCwcjS4QCgPC7XG4KdAMQisHJofy0CjI7n8v\\u002fvDQFHaG3yxialAz\\u002fdT4zWJxkD0bFZ9PhupQDvfT41HJ8pAOUVHctkJr0B3vp8aj07JQKTfvg7U2cVACrq9pLl10UACK4cWWQ+uQNxGA3hLR8BAGlHaG1y+rkBd3EYDuLmZQNnO91Pr9MFAUPwYc\\u002fdVxUAGgZVDC3yjQCJseHpdscFAaQBvgYTipUDi6ZWy3KCgQG1Wfa6O5bhAveMUHblYvEDLoUW2c5DGQN0kBoGVYq1A5q4l5ONWoUAYJlMFo5GyQFX2XREA4d5AHhZqTQfUyUAAkX77ct\\u002fHQFR0JJf\\u002fA5pAcT0K10P+wkDHKTqS+wypQEaU9gb\\u002fOMlAg1FJnUCemUAHX5hMRdS4QETAIVSPNtFAJQaBlUNrk0BhMlUwmquyQDarPldrKq5ADwu1ptGhykC1N\\u002fjC1Fi3QGq8dJM4IcdAzojS3gh2wEB0JJf\\u002f8AykQHZPHhYqTbZABFYOLf47wUDsL7snT9i9QMUgsHLY2rVATDeJQYARvUCqDrkZ\\u002f1fgQMWPMXcthJlA2qz6XBHrwUCuR+F6RJ\\u002fFQB+F61GQas9ALbKd78chwkCwcmiRPc2rQEi\\u002ffR0YU7FA3bWEfNixwEAGgZVDi6u5QDGZKhhlP6FAPzVeuglhukDhehSuR2CdQLRZ9bkOxcZAUI2XbtLsxEDVeOkmsZasQClcj8IV78FAa5p3nM6wx0DnjCjt7TCtQGUZ4liXXLpAcjPcgFsfxkDl0CLb+TLGQDVeuknsssNA9ihcj0LnnkBDHOviVk2qQDLmriVcBbxANV66SaxXwkBNhA1PdyXMQNjw9Eo5KqVAx4Ds9cJU2EDmriXkk0rJQO58PzU+CrpA+aBns+6ryUC8BRIUn3KxQCNnYU+JXdJA3GgAb5HOw0D3deCckeu3QCBB8WMkHsBAxSCwcujAmkDSb18HekfIQCegibBxJMNAukkMAtupxECcM6K0TyzAQLx0kxjEp8BAF9nO90Pqx0DP91PjpaSqQBIUP8Zsta9AXmOXqBDG2UB0RpT2Mh3MQISezaqfI7lAsDic+Rus1UDFjzF3jRy0QBdIUPyYwZFAfT81Xrr\\u002fwEAgQfFjPGS5QHbgnBGV5bJAFNBE2DDPrkBg5dAiuy+xQI\\u002fk8h9SKbhAexSuR8k2vECvJeSD5mLIQHWTGATGJchAHcnlP2TWw0A\\u002fNV66iTKkQNejcD0KaZNAIEHxY7xDw0CDwMqhBZ6yQO5aQj4w9sVAZDvfT6UxvkBvgQTFvz61QKp9Oh4ln9lAvJaQDzpwoEDD9ShcL4S\\u002fQEymCkZ1dKJAn6ut2O9hokBoke18\\u002f\\u002fOrQDsBTYR9AqlAOnr83p6A3EB\\u002farx0H3DFQK62Yn85WatAU5YhjjWSn0BeS8gH2aLCQPkP6bcnkMJAUkmdgFYJtUA9m1Wfd3HBQD81XroJ\\u002f7RAyJi7ljgMxEC+wRcmO+G3QCegibABXbVAXI\\u002fC9Sj+mkDA7J48nL3DQDhnRGlrO8BAGw3gLdABn0Av3SQGATOjQDVeukl8ucdAzqrP1X6vwkBPHhZqTZzJQO0NvjARMMVAat5xis7jx0AZ4lgX10nDQJHtfD9FAMZA\\u002fKnx0q1ZyUDRItv5\\u002fryTQL6fGi8RvcNAsVBrmq8IukC2hHzQM1OhQD7o2axafbpAoBov3bSow0BkO99P7YqwQEcDeAugc8JA2\\u002fl+apxby0DChqdX8rfCQPT91HipOKtAW0I+6D3OwEBSJ6CJsFutQLfRAN6aPcFAvJaQDy5bw0DFA8qm7OzGQAWjkjohbZlAvHSTGHS2wEBiEFg5BO2nQCuHFtluyZ1AJXUCmkTBy0DVCWgi5BzHQF8M5UQbutBAo5I6AUWns0A9Ctej0DG\\u002fQE0VjEq6NLVAqFfKMoSrrkBcj8L16OGiQI0o7Q2e\\u002fadA+n5qvIjDwUBxPQrXTyHHQCUGgZXDfr9ACKwcWqSKu0AX2c73g\\u002ffLQHWTGAQ+FbtAv\\u002fG1Z1JJ20BxPQrXY8fFQEsC1NSa\\u002fshAVg4tsr1dvEC5jQbwPqDEQFCNl26ySrtAOGdEaWcYvUAFo5I6YS63QJwzorTnRsNA+Q\\u002fpty\\u002frkUBseHqlFFXCQBDpt6+D\\u002frBAsHJokS0OuUDcaABvleLIQDBMpgpG9Z1ASnuDL5RZtEAAkX77+kjKQJqZmZk5HrZA46WbxKCRk0DT3uAL01elQCzUmuZ9KbxArWnecSqqsEB4CyQohm+yQF66SQwSJMdALGUZ4riGu0BN845T7PTLQFyPwvUobqBARPrt64BfnEDgvg6c2zO+QDl\\u002fEwovz9tAy6FFtsOxoECdgCbCBq6RQJ\\u002fNqs+V26lAKVyPwnVjwkBO0ZFc\\u002fti4QAMJih\\u002fbgsVAwTkjSuNMsUBj7lpCTtC1QJwzorS3V51A3SQGgYU1pkDVeOkmMRusQLpJDALrFb1AMEymCubxpEC4QILih1eZQNQrZRmaDcBATx4Was11yEArhxbZimLPQN9PjZd+5bdA46WbxOAoykBrK\\u002faXXZK0QN5xio68b7JAmbuWkPfvxkAcfGEydQG1QN5xio5U+LtA+FPjpTsysUCMSuoE3MTGQLHh6ZVKArlA0SLb+RanyEBoke18P9mXQIcW2c73EchA097gCwesw0A\\u002fNV66WUjDQHqlLEMcDKNAmG4Sg0A8p0BzaJHt0LTEQMP1KFzPk8tA0SLb+dboxkBMN4lBYE2dQPq4NlSKytFAAiuHFrlqxUA730+NF++7QDLmriXY9sdA5q4l5AtStUDpJjEIPCfBQNv5fmpcyLlAzF1LyMfVkUA9CtejEJzGQGN\\u002f2T3NpMlA\\u002ftR46aYnsUAQWDm06ITAQACRfvu6gKpAeHqlLONOt0Cyne+nBsG6QOXQItuRXcFAklz+QzoEpUAwuycPF4fZQKCJsOHJ\\u002fblAj8L1KDyKuEDLoUW286e4QOOlm8Qg5qpAlWWIYx3KpUCvlGWIszOkQL7BFyb7DbNAo5I6AS2YtEDZzvdTY0qaQBdIUPyQVMdAB\\u002fAWSNBLvEDwhclUdVvEQOAtkKCAecpAL90kBvGDyUB0JJf\\u002fIFuhQBueXilLiplAgEi\\u002ffa2KoEAW+8vubfjAQDbNO05JNbJAtvP91Mi9v0CsHFpkS7LIQNIA3gIx1LFAak3zjuvuskB\\u002f2T15uNG9QLbz\\u002fdQIoc1A\\u002fyH99hWepECdgCbCWhfMQO58PzX+yr1AAd4CCYKJtEAwuycPq1KjQM\\u002f3U+P1eMlAdk8eFjp9tEAOLbKdj0XKQPYoXI9CS8pAjZduEkNwtUCQMXctaeCwQMP1KFxvarhAsyRATVW92EDZzvdTI8OmQD81XropgMdAdEaU9mZPykDAWyBBwZG4QBrAWyAh3qZANV66SUxeuECPwvUofLjDQAisHFoktLxAfh04Z2RBskCLbOf76eTHQMmTpGsqW99A5dAi2+WCwUAawFsgAQCiQAtGJXXSh8JA5j+k336HkUB8YTJVyKbCQNbFbTTwUqFAvw6cM+JxmUDoaiv2b1vJQD0K16MQzcZA001iEBj4u0D7XG3Fxta4QG3F\\u002frJvh8ZAzqrP1S6vsUD9h\\u002fTbd0euQHMR34nxoMhArVEP0TrN20C\\u002ffR04N1SlQCGwcmiRMqpAZmZmZlZFzEB90LNZSY7CQGdhTzvG2NlA001iEFiKskD0bFZ9Bl69QOLplbK8n6lA0LNZ9WnKwEB6xyk6UufEQDcawFtggLNAvsEXJqO\\u002fo0AxCKwcWn2bQE7RkVw+JaJAAiuHFil8vkCmm8Qg0K2mQAyTqYJV9MJAfoy5awkZs0B2w7ZFR+vYQCuHFtlWlLFA+5Y5XRpn0ECqYFRSDzOzQHsUrkehyL1A6Ugu\\u002fwVtwEB2Tx4WDK3bQFK4HoXTprFAuB6F69FlqkDlYaHW3Oi7QMHKoUU2w8NAbAn5oHdstUBt5\\u002fupeTK\\u002fQIPAyqGF+rxAF9nO9\\u002fsfy0C7uI0GwJe5QDlFR3LRk7RAzczMzMzTnkDY2CWqC7zUQO\\u002fJw0LF2cBAqaROQGNRsUDEsS5uQ1axQL4Ts15estZAZohjXdxyw0CDwMqhhSbAQIhodAeJ3OFAWmQ7358ewUCoxks3iQe1QEaU9gZ\\u002frsdAuK8D53wqpUAxCKwc2ievQAWjkjqlZ8hAjNZR1bxo2UBEi2znSy\\u002fBQCKOdXEbvJpA2V92T+68wECR7Xw\\u002ftZCfQOZ5cHfYFtVA8KfGSzc9w0DPZtXn+t26QJ\\u002fNqs+FKbBAveMUHQlLyUC+nxovPZ\\u002fHQD2bVZ+rlaFAybCKN2r31UAtIR\\u002f0zKKaQMUgsHLosqhAIEHxYwhBxkCrz9VWDJ28QAu1pnlXFKxAPujZrCJXv0A4Z0RpRx3MQGfV52oDJMJAnl4py\\u002fAyqkCoV8oyQLHEQOf7qfHCKsBAJgFqalOC0UAHX5hM9WGjQEGC4se4brFAK\\u002faX3VP2nkCxv+yeHJHGQBb7y+4xlLlAokW2891MtkC0yHa+f4W7QD9XW7EXicFAiPTb12l9tkDarPpc7QbMQCcxCKxsWMVA2V92TzpLy0AaUdobHNadQJSHhVpToMdADeAtkCTKyUD2l92T19KxQNv5fmqss8BAgSbChodsoEB+HThnxJzNQJ+T3jcGNsdAvAUSFGdmsUCkcD0K59+2QDm0yHb+2K9AqoJRSeFVzUC28\\u002f3ULBbFQEku\\u002fyGdLMZA3nGKjnQKw0Bg5dAii6jEQC0hH\\u002fREC8ZAKVyPwvUOrEBEi2znqxHGQEw3iUEw0bFAC7WmeYcqmkATJ\\u002fc7ZIHWQBe30QA+NqlAz\\u002fdT47X6xUDiWBe30R6rQB3J5T+kMcZA4umVsibx00B6Nqs+dzHEQB+F61EUjsFAR3L5D\\u002fl+xEAZBFYOLbCmQMHKoUWuzsBAcT0K1zN8xkA6I0p7K8C0QF8HzhkxuKJABhIUP74bxUCvlGWIMwPCQO58PzVuPbZAXkvIB5VNwEC77UJz33XSQLdif9lN18tAIbByaFHzw0DXNO84hcy2QNIYraMuC8xADAIrh5YDm0DKMsSxJsPAQGDl0CLb2qxAsyRATUE51EBZF7fRhIPDQJKumXxVNtNApSxDHMumxUBU46WbhMe9QB4Wak2T0KhA3SQGgbXwrECX\\u002f5B+A6zBQAisHFqEEr9A220Xmn972kCUh4VaE8K4QEJg5dAyz8JAi2zn+40MxkDu68A5I6uhQBSuR+H6E8VAYOXQIrtbt0D7OnDOeDehQGfV52rr5cdAeVioNXX+tUBO0ZFcloPFQGKh1jQ3PLxAaLPqcwktzECze\\u002fKwcDejQN9PjZeuK69AWRe30UAvvkDBqKROMAS0QGK+vADLhNJAw9MrZakxoUBB8WPMjfG7QOxRuB79a7RAvjCZKkBzxUAxCKwcerGxQHE9CtejPrJAIGPuWlrgt0BX7C+7z6rFQHL5D+nXOblAaCJseOpRsUC28\\u002f3UuNSgQEJg5dDiYLlAmEwVjPqmpkBI4XoUxuK9QEjhehReRaZARIts5\\u002fuRpED\\u002fsnvysHPCQMPTK2XpzcBAMEymCmYKy0BWfa62VqPJQDm0yHZmz7RAecxAZbzOykCDUUmdlG3JQK5H4XqY78BAjnVxGxUmsEDg88MIrWXSQGZmZmbWQ7ZAxf6ye5r5uECuR+F6tEazQCL99nXANrhATmIQWJ0OwUDx9EpZpg6gQOF6FK4HdsNA6+I2GoD8s0CgVPt00wXiQHWTGASWHchAke18P139tEC21hcJwQLXQHrHKTrSmZpArBxaZGsbxUCZKhiVJOiuQE9AE2EHLclAHThnRKkntUAijnVxO7SvQNCzWfUpcb1AGlHaGzRuskCP5PIfgsG5QDeJQWBVfcBAKcsQx3rKukADeAskqLuyQDojSnuL8LlAAwmKHwP6u0Bb07zjHLHEQLU3+MIgUcdAQKTfvtpfyEBQjZduwijGQL3jFB3hocBAXW3F\\u002fiIXpUDarPpc7TjMQOcdp+gs4MdAtaZ5x4FJu0C8BRIU30ypQK36XG1FyLBAnzws1DrHqEBkXdxGw7+RQDm0yHZe77VAGy\\u002fdJObGwUA1XrpJLKu3QCxlGeLYh5lA9ihcj0Jmk0AS2nIuaerOQJvmHacoP7FA2c73UwNKuUDF\\u002frJ7XlbGQD2bVZ\\u002f3FMZA7C+7J+Vb3UD8GHPX4urDQBpR2hs8wLFAUI2XblKaqUB7FK5HMXK6QGiR7Xy\\u002fqbxA+zpwznRBxECPwvUoPOjEQJzEILDyYZ1AZmZmZqbTwECSy39ID7mpQB6n6Eiem6dAY+5aQipHzED1udqKDYuyQNejcD2qZ8VAN4lBYOVrpUB4eqUsCwWxQC0hH\\u002fQcXbBAMnctIdctwEBhMlUwauGaQLraiv1Vq8BAdnEbDUAprUDn+6nxcmC1QIy5awl567tApHA9Cufdu0CQMXctYa2XQKyt2F\\u002fyKsJA6SYxCJBNx0CF61G4HrOeQBfZzvezs5pAzojS3nD0sEAbDeAteI20QDSitDeoLaVA5\\u002fup8ZIRqUCIhVrTPEGjQHWTGAT227pARPrt6+gcu0CdEaW9aduxQKrx0k1CuLFAHM78aioExkCR7Xw\\u002ftQ6bQHBfB87ZLZJAkZvhBi4K00Bn1edqsyG8QF3+Q\\u002foFMbVAHcnlP6xayUDG3LWE5I+wQBniWBerq8lAaLPqcwWKu0BYqDXN81DCQBjPoKHv3tVAfT81XpoqxEAcfGEylarIQMjvbfr3FcVA4XoUrtdJxkAzxLEuRrTEQNXnaiv2O6FA3SQGgVV3mUDhehSux1+fQA==\"},\"y0\":\" \",\"yaxis\":\"y\",\"type\":\"violin\"}],                        {\"template\":{\"data\":{\"histogram2dcontour\":[{\"type\":\"histogram2dcontour\",\"colorbar\":{\"outlinewidth\":0,\"ticks\":\"\"},\"colorscale\":[[0.0,\"#0d0887\"],[0.1111111111111111,\"#46039f\"],[0.2222222222222222,\"#7201a8\"],[0.3333333333333333,\"#9c179e\"],[0.4444444444444444,\"#bd3786\"],[0.5555555555555556,\"#d8576b\"],[0.6666666666666666,\"#ed7953\"],[0.7777777777777778,\"#fb9f3a\"],[0.8888888888888888,\"#fdca26\"],[1.0,\"#f0f921\"]]}],\"choropleth\":[{\"type\":\"choropleth\",\"colorbar\":{\"outlinewidth\":0,\"ticks\":\"\"}}],\"histogram2d\":[{\"type\":\"histogram2d\",\"colorbar\":{\"outlinewidth\":0,\"ticks\":\"\"},\"colorscale\":[[0.0,\"#0d0887\"],[0.1111111111111111,\"#46039f\"],[0.2222222222222222,\"#7201a8\"],[0.3333333333333333,\"#9c179e\"],[0.4444444444444444,\"#bd3786\"],[0.5555555555555556,\"#d8576b\"],[0.6666666666666666,\"#ed7953\"],[0.7777777777777778,\"#fb9f3a\"],[0.8888888888888888,\"#fdca26\"],[1.0,\"#f0f921\"]]}],\"heatmap\":[{\"type\":\"heatmap\",\"colorbar\":{\"outlinewidth\":0,\"ticks\":\"\"},\"colorscale\":[[0.0,\"#0d0887\"],[0.1111111111111111,\"#46039f\"],[0.2222222222222222,\"#7201a8\"],[0.3333333333333333,\"#9c179e\"],[0.4444444444444444,\"#bd3786\"],[0.5555555555555556,\"#d8576b\"],[0.6666666666666666,\"#ed7953\"],[0.7777777777777778,\"#fb9f3a\"],[0.8888888888888888,\"#fdca26\"],[1.0,\"#f0f921\"]]}],\"contourcarpet\":[{\"type\":\"contourcarpet\",\"colorbar\":{\"outlinewidth\":0,\"ticks\":\"\"}}],\"contour\":[{\"type\":\"contour\",\"colorbar\":{\"outlinewidth\":0,\"ticks\":\"\"},\"colorscale\":[[0.0,\"#0d0887\"],[0.1111111111111111,\"#46039f\"],[0.2222222222222222,\"#7201a8\"],[0.3333333333333333,\"#9c179e\"],[0.4444444444444444,\"#bd3786\"],[0.5555555555555556,\"#d8576b\"],[0.6666666666666666,\"#ed7953\"],[0.7777777777777778,\"#fb9f3a\"],[0.8888888888888888,\"#fdca26\"],[1.0,\"#f0f921\"]]}],\"surface\":[{\"type\":\"surface\",\"colorbar\":{\"outlinewidth\":0,\"ticks\":\"\"},\"colorscale\":[[0.0,\"#0d0887\"],[0.1111111111111111,\"#46039f\"],[0.2222222222222222,\"#7201a8\"],[0.3333333333333333,\"#9c179e\"],[0.4444444444444444,\"#bd3786\"],[0.5555555555555556,\"#d8576b\"],[0.6666666666666666,\"#ed7953\"],[0.7777777777777778,\"#fb9f3a\"],[0.8888888888888888,\"#fdca26\"],[1.0,\"#f0f921\"]]}],\"mesh3d\":[{\"type\":\"mesh3d\",\"colorbar\":{\"outlinewidth\":0,\"ticks\":\"\"}}],\"scatter\":[{\"fillpattern\":{\"fillmode\":\"overlay\",\"size\":10,\"solidity\":0.2},\"type\":\"scatter\"}],\"parcoords\":[{\"type\":\"parcoords\",\"line\":{\"colorbar\":{\"outlinewidth\":0,\"ticks\":\"\"}}}],\"scatterpolargl\":[{\"type\":\"scatterpolargl\",\"marker\":{\"colorbar\":{\"outlinewidth\":0,\"ticks\":\"\"}}}],\"bar\":[{\"error_x\":{\"color\":\"#2a3f5f\"},\"error_y\":{\"color\":\"#2a3f5f\"},\"marker\":{\"line\":{\"color\":\"#E5ECF6\",\"width\":0.5},\"pattern\":{\"fillmode\":\"overlay\",\"size\":10,\"solidity\":0.2}},\"type\":\"bar\"}],\"scattergeo\":[{\"type\":\"scattergeo\",\"marker\":{\"colorbar\":{\"outlinewidth\":0,\"ticks\":\"\"}}}],\"scatterpolar\":[{\"type\":\"scatterpolar\",\"marker\":{\"colorbar\":{\"outlinewidth\":0,\"ticks\":\"\"}}}],\"histogram\":[{\"marker\":{\"pattern\":{\"fillmode\":\"overlay\",\"size\":10,\"solidity\":0.2}},\"type\":\"histogram\"}],\"scattergl\":[{\"type\":\"scattergl\",\"marker\":{\"colorbar\":{\"outlinewidth\":0,\"ticks\":\"\"}}}],\"scatter3d\":[{\"type\":\"scatter3d\",\"line\":{\"colorbar\":{\"outlinewidth\":0,\"ticks\":\"\"}},\"marker\":{\"colorbar\":{\"outlinewidth\":0,\"ticks\":\"\"}}}],\"scattermap\":[{\"type\":\"scattermap\",\"marker\":{\"colorbar\":{\"outlinewidth\":0,\"ticks\":\"\"}}}],\"scattermapbox\":[{\"type\":\"scattermapbox\",\"marker\":{\"colorbar\":{\"outlinewidth\":0,\"ticks\":\"\"}}}],\"scatterternary\":[{\"type\":\"scatterternary\",\"marker\":{\"colorbar\":{\"outlinewidth\":0,\"ticks\":\"\"}}}],\"scattercarpet\":[{\"type\":\"scattercarpet\",\"marker\":{\"colorbar\":{\"outlinewidth\":0,\"ticks\":\"\"}}}],\"carpet\":[{\"aaxis\":{\"endlinecolor\":\"#2a3f5f\",\"gridcolor\":\"white\",\"linecolor\":\"white\",\"minorgridcolor\":\"white\",\"startlinecolor\":\"#2a3f5f\"},\"baxis\":{\"endlinecolor\":\"#2a3f5f\",\"gridcolor\":\"white\",\"linecolor\":\"white\",\"minorgridcolor\":\"white\",\"startlinecolor\":\"#2a3f5f\"},\"type\":\"carpet\"}],\"table\":[{\"cells\":{\"fill\":{\"color\":\"#EBF0F8\"},\"line\":{\"color\":\"white\"}},\"header\":{\"fill\":{\"color\":\"#C8D4E3\"},\"line\":{\"color\":\"white\"}},\"type\":\"table\"}],\"barpolar\":[{\"marker\":{\"line\":{\"color\":\"#E5ECF6\",\"width\":0.5},\"pattern\":{\"fillmode\":\"overlay\",\"size\":10,\"solidity\":0.2}},\"type\":\"barpolar\"}],\"pie\":[{\"automargin\":true,\"type\":\"pie\"}]},\"layout\":{\"autotypenumbers\":\"strict\",\"colorway\":[\"#636efa\",\"#EF553B\",\"#00cc96\",\"#ab63fa\",\"#FFA15A\",\"#19d3f3\",\"#FF6692\",\"#B6E880\",\"#FF97FF\",\"#FECB52\"],\"font\":{\"color\":\"#2a3f5f\"},\"hovermode\":\"closest\",\"hoverlabel\":{\"align\":\"left\"},\"paper_bgcolor\":\"white\",\"plot_bgcolor\":\"#E5ECF6\",\"polar\":{\"bgcolor\":\"#E5ECF6\",\"angularaxis\":{\"gridcolor\":\"white\",\"linecolor\":\"white\",\"ticks\":\"\"},\"radialaxis\":{\"gridcolor\":\"white\",\"linecolor\":\"white\",\"ticks\":\"\"}},\"ternary\":{\"bgcolor\":\"#E5ECF6\",\"aaxis\":{\"gridcolor\":\"white\",\"linecolor\":\"white\",\"ticks\":\"\"},\"baxis\":{\"gridcolor\":\"white\",\"linecolor\":\"white\",\"ticks\":\"\"},\"caxis\":{\"gridcolor\":\"white\",\"linecolor\":\"white\",\"ticks\":\"\"}},\"coloraxis\":{\"colorbar\":{\"outlinewidth\":0,\"ticks\":\"\"}},\"colorscale\":{\"sequential\":[[0.0,\"#0d0887\"],[0.1111111111111111,\"#46039f\"],[0.2222222222222222,\"#7201a8\"],[0.3333333333333333,\"#9c179e\"],[0.4444444444444444,\"#bd3786\"],[0.5555555555555556,\"#d8576b\"],[0.6666666666666666,\"#ed7953\"],[0.7777777777777778,\"#fb9f3a\"],[0.8888888888888888,\"#fdca26\"],[1.0,\"#f0f921\"]],\"sequentialminus\":[[0.0,\"#0d0887\"],[0.1111111111111111,\"#46039f\"],[0.2222222222222222,\"#7201a8\"],[0.3333333333333333,\"#9c179e\"],[0.4444444444444444,\"#bd3786\"],[0.5555555555555556,\"#d8576b\"],[0.6666666666666666,\"#ed7953\"],[0.7777777777777778,\"#fb9f3a\"],[0.8888888888888888,\"#fdca26\"],[1.0,\"#f0f921\"]],\"diverging\":[[0,\"#8e0152\"],[0.1,\"#c51b7d\"],[0.2,\"#de77ae\"],[0.3,\"#f1b6da\"],[0.4,\"#fde0ef\"],[0.5,\"#f7f7f7\"],[0.6,\"#e6f5d0\"],[0.7,\"#b8e186\"],[0.8,\"#7fbc41\"],[0.9,\"#4d9221\"],[1,\"#276419\"]]},\"xaxis\":{\"gridcolor\":\"white\",\"linecolor\":\"white\",\"ticks\":\"\",\"title\":{\"standoff\":15},\"zerolinecolor\":\"white\",\"automargin\":true,\"zerolinewidth\":2},\"yaxis\":{\"gridcolor\":\"white\",\"linecolor\":\"white\",\"ticks\":\"\",\"title\":{\"standoff\":15},\"zerolinecolor\":\"white\",\"automargin\":true,\"zerolinewidth\":2},\"scene\":{\"xaxis\":{\"backgroundcolor\":\"#E5ECF6\",\"gridcolor\":\"white\",\"linecolor\":\"white\",\"showbackground\":true,\"ticks\":\"\",\"zerolinecolor\":\"white\",\"gridwidth\":2},\"yaxis\":{\"backgroundcolor\":\"#E5ECF6\",\"gridcolor\":\"white\",\"linecolor\":\"white\",\"showbackground\":true,\"ticks\":\"\",\"zerolinecolor\":\"white\",\"gridwidth\":2},\"zaxis\":{\"backgroundcolor\":\"#E5ECF6\",\"gridcolor\":\"white\",\"linecolor\":\"white\",\"showbackground\":true,\"ticks\":\"\",\"zerolinecolor\":\"white\",\"gridwidth\":2}},\"shapedefaults\":{\"line\":{\"color\":\"#2a3f5f\"}},\"annotationdefaults\":{\"arrowcolor\":\"#2a3f5f\",\"arrowhead\":0,\"arrowwidth\":1},\"geo\":{\"bgcolor\":\"white\",\"landcolor\":\"#E5ECF6\",\"subunitcolor\":\"white\",\"showland\":true,\"showlakes\":true,\"lakecolor\":\"white\"},\"title\":{\"x\":0.05},\"mapbox\":{\"style\":\"light\"}}},\"xaxis\":{\"anchor\":\"y\",\"domain\":[0.0,1.0],\"title\":{\"text\":\"x\"}},\"yaxis\":{\"anchor\":\"x\",\"domain\":[0.0,1.0],\"title\":{\"text\":\"y\"}},\"legend\":{\"title\":{\"text\":\"color\"},\"tracegroupgap\":0},\"margin\":{\"t\":60},\"violinmode\":\"group\"},                        {\"responsive\": true}                    )                };            </script>        </div>"
      ],
      "text/plain": [
       "Figure({\n",
       "    'data': [{'alignmentgroup': 'True',\n",
       "              'box': {'visible': False},\n",
       "              'hovertemplate': 'color=yes<br>x=%{x}<br>y=%{y}<extra></extra>',\n",
       "              'legendgroup': 'yes',\n",
       "              'marker': {'color': '#636efa'},\n",
       "              'name': 'yes',\n",
       "              'offsetgroup': 'yes',\n",
       "              'orientation': 'v',\n",
       "              'scalegroup': 'True',\n",
       "              'showlegend': True,\n",
       "              'type': 'violin',\n",
       "              'x': array(['female', 'female', 'male', ..., 'male', 'female', 'female'],\n",
       "                         shape=(274,), dtype=object),\n",
       "              'x0': ' ',\n",
       "              'xaxis': 'x',\n",
       "              'y': {'bdata': ('YOXQIjt90ECV1AloLijbQAYSFD94V+' ... 'BQVXHbQDBMpgoMb+VAMLsnD1d13EA='),\n",
       "                    'dtype': 'f8'},\n",
       "              'y0': ' ',\n",
       "              'yaxis': 'y'},\n",
       "             {'alignmentgroup': 'True',\n",
       "              'box': {'visible': False},\n",
       "              'hovertemplate': 'color=no<br>x=%{x}<br>y=%{y}<extra></extra>',\n",
       "              'legendgroup': 'no',\n",
       "              'marker': {'color': '#EF553B'},\n",
       "              'name': 'no',\n",
       "              'offsetgroup': 'no',\n",
       "              'orientation': 'v',\n",
       "              'scalegroup': 'True',\n",
       "              'showlegend': True,\n",
       "              'type': 'violin',\n",
       "              'x': array(['male', 'male', 'male', ..., 'female', 'female', 'female'],\n",
       "                         shape=(1064,), dtype=object),\n",
       "              'x0': ' ',\n",
       "              'xaxis': 'x',\n",
       "              'y': {'bdata': ('U5YhjjX2mkDByqFFdmGxQMtneR4eeN' ... 'v2O6FA3SQGgVV3mUDhehSux1+fQA=='),\n",
       "                    'dtype': 'f8'},\n",
       "              'y0': ' ',\n",
       "              'yaxis': 'y'}],\n",
       "    'layout': {'legend': {'title': {'text': 'color'}, 'tracegroupgap': 0},\n",
       "               'margin': {'t': 60},\n",
       "               'template': '...',\n",
       "               'violinmode': 'group',\n",
       "               'xaxis': {'anchor': 'y', 'domain': [0.0, 1.0], 'title': {'text': 'x'}},\n",
       "               'yaxis': {'anchor': 'x', 'domain': [0.0, 1.0], 'title': {'text': 'y'}}}\n",
       "})"
      ]
     },
     "execution_count": 5,
     "metadata": {},
     "output_type": "execute_result"
    }
   ],
   "source": [
    "px.violin(x=data['sex'],y=data['charges'],color=data['smoker'])"
   ]
  },
  {
   "cell_type": "code",
   "execution_count": 6,
   "metadata": {
    "colab": {
     "base_uri": "https://localhost:8080/",
     "height": 0
    },
    "executionInfo": {
     "elapsed": 22,
     "status": "ok",
     "timestamp": 1751016032356,
     "user": {
      "displayName": "Supreme Hindutvawadi",
      "userId": "06788822703983184258"
     },
     "user_tz": -330
    },
    "id": "NNE-IzFj9s-N",
    "outputId": "f8792151-9954-4354-d665-05ac105ae0bc"
   },
   "outputs": [
    {
     "data": {
      "text/html": [
       "<div>\n",
       "<style scoped>\n",
       "    .dataframe tbody tr th:only-of-type {\n",
       "        vertical-align: middle;\n",
       "    }\n",
       "\n",
       "    .dataframe tbody tr th {\n",
       "        vertical-align: top;\n",
       "    }\n",
       "\n",
       "    .dataframe thead th {\n",
       "        text-align: right;\n",
       "    }\n",
       "</style>\n",
       "<table border=\"1\" class=\"dataframe\">\n",
       "  <thead>\n",
       "    <tr style=\"text-align: right;\">\n",
       "      <th></th>\n",
       "      <th>age</th>\n",
       "      <th>sex</th>\n",
       "      <th>bmi</th>\n",
       "      <th>children</th>\n",
       "      <th>smoker</th>\n",
       "      <th>region</th>\n",
       "      <th>charges</th>\n",
       "    </tr>\n",
       "  </thead>\n",
       "  <tbody>\n",
       "    <tr>\n",
       "      <th>0</th>\n",
       "      <td>19</td>\n",
       "      <td>0</td>\n",
       "      <td>27.900</td>\n",
       "      <td>0</td>\n",
       "      <td>1</td>\n",
       "      <td>3.0</td>\n",
       "      <td>16884.92400</td>\n",
       "    </tr>\n",
       "    <tr>\n",
       "      <th>1</th>\n",
       "      <td>18</td>\n",
       "      <td>1</td>\n",
       "      <td>33.770</td>\n",
       "      <td>1</td>\n",
       "      <td>0</td>\n",
       "      <td>2.0</td>\n",
       "      <td>1725.55230</td>\n",
       "    </tr>\n",
       "    <tr>\n",
       "      <th>2</th>\n",
       "      <td>28</td>\n",
       "      <td>1</td>\n",
       "      <td>33.000</td>\n",
       "      <td>3</td>\n",
       "      <td>0</td>\n",
       "      <td>2.0</td>\n",
       "      <td>4449.46200</td>\n",
       "    </tr>\n",
       "    <tr>\n",
       "      <th>3</th>\n",
       "      <td>33</td>\n",
       "      <td>1</td>\n",
       "      <td>22.705</td>\n",
       "      <td>0</td>\n",
       "      <td>0</td>\n",
       "      <td>1.0</td>\n",
       "      <td>21984.47061</td>\n",
       "    </tr>\n",
       "    <tr>\n",
       "      <th>4</th>\n",
       "      <td>32</td>\n",
       "      <td>1</td>\n",
       "      <td>28.880</td>\n",
       "      <td>0</td>\n",
       "      <td>0</td>\n",
       "      <td>1.0</td>\n",
       "      <td>3866.85520</td>\n",
       "    </tr>\n",
       "    <tr>\n",
       "      <th>...</th>\n",
       "      <td>...</td>\n",
       "      <td>...</td>\n",
       "      <td>...</td>\n",
       "      <td>...</td>\n",
       "      <td>...</td>\n",
       "      <td>...</td>\n",
       "      <td>...</td>\n",
       "    </tr>\n",
       "    <tr>\n",
       "      <th>1333</th>\n",
       "      <td>50</td>\n",
       "      <td>1</td>\n",
       "      <td>30.970</td>\n",
       "      <td>3</td>\n",
       "      <td>0</td>\n",
       "      <td>1.0</td>\n",
       "      <td>10600.54830</td>\n",
       "    </tr>\n",
       "    <tr>\n",
       "      <th>1334</th>\n",
       "      <td>18</td>\n",
       "      <td>0</td>\n",
       "      <td>31.920</td>\n",
       "      <td>0</td>\n",
       "      <td>0</td>\n",
       "      <td>0.0</td>\n",
       "      <td>2205.98080</td>\n",
       "    </tr>\n",
       "    <tr>\n",
       "      <th>1335</th>\n",
       "      <td>18</td>\n",
       "      <td>0</td>\n",
       "      <td>36.850</td>\n",
       "      <td>0</td>\n",
       "      <td>0</td>\n",
       "      <td>2.0</td>\n",
       "      <td>1629.83350</td>\n",
       "    </tr>\n",
       "    <tr>\n",
       "      <th>1336</th>\n",
       "      <td>21</td>\n",
       "      <td>0</td>\n",
       "      <td>25.800</td>\n",
       "      <td>0</td>\n",
       "      <td>0</td>\n",
       "      <td>3.0</td>\n",
       "      <td>2007.94500</td>\n",
       "    </tr>\n",
       "    <tr>\n",
       "      <th>1337</th>\n",
       "      <td>61</td>\n",
       "      <td>0</td>\n",
       "      <td>29.070</td>\n",
       "      <td>0</td>\n",
       "      <td>1</td>\n",
       "      <td>1.0</td>\n",
       "      <td>29141.36030</td>\n",
       "    </tr>\n",
       "  </tbody>\n",
       "</table>\n",
       "<p>1338 rows × 7 columns</p>\n",
       "</div>"
      ],
      "text/plain": [
       "      age  sex     bmi  children  smoker  region      charges\n",
       "0      19    0  27.900         0       1     3.0  16884.92400\n",
       "1      18    1  33.770         1       0     2.0   1725.55230\n",
       "2      28    1  33.000         3       0     2.0   4449.46200\n",
       "3      33    1  22.705         0       0     1.0  21984.47061\n",
       "4      32    1  28.880         0       0     1.0   3866.85520\n",
       "...   ...  ...     ...       ...     ...     ...          ...\n",
       "1333   50    1  30.970         3       0     1.0  10600.54830\n",
       "1334   18    0  31.920         0       0     0.0   2205.98080\n",
       "1335   18    0  36.850         0       0     2.0   1629.83350\n",
       "1336   21    0  25.800         0       0     3.0   2007.94500\n",
       "1337   61    0  29.070         0       1     1.0  29141.36030\n",
       "\n",
       "[1338 rows x 7 columns]"
      ]
     },
     "execution_count": 6,
     "metadata": {},
     "output_type": "execute_result"
    }
   ],
   "source": [
    "data['smoker']=data['smoker'].map({'yes':1,'no':0})\n",
    "data['sex']=data['sex'].map({'male':1,'female':0})\n",
    "enc=OrdinalEncoder()\n",
    "data['region']=enc.fit_transform(data[['region']])\n",
    "data"
   ]
  },
  {
   "cell_type": "code",
   "execution_count": 7,
   "metadata": {
    "colab": {
     "base_uri": "https://localhost:8080/",
     "height": 0
    },
    "executionInfo": {
     "elapsed": 886,
     "status": "ok",
     "timestamp": 1751016033248,
     "user": {
      "displayName": "Supreme Hindutvawadi",
      "userId": "06788822703983184258"
     },
     "user_tz": -330
    },
    "id": "SlqLuWRS_tNd",
    "outputId": "b2b5bd39-45ad-475c-9cf7-279ebf69e111"
   },
   "outputs": [
    {
     "data": {
      "text/plain": [
       "<Axes: >"
      ]
     },
     "execution_count": 7,
     "metadata": {},
     "output_type": "execute_result"
    },
    {
     "data": {
      "image/png": "[encoded data removed]",
      "text/plain": [
       "<Figure size 640x480 with 2 Axes>"
      ]
     },
     "metadata": {},
     "output_type": "display_data"
    }
   ],
   "source": [
    "sns.heatmap(data.corr(),annot=True)"
   ]
  },
  {
   "cell_type": "markdown",
   "metadata": {
    "id": "k7KgF2u5Ak7w"
   },
   "source": [
    "# ***Linear Regression With Single Feature***"
   ]
  },
  {
   "cell_type": "code",
   "execution_count": 8,
   "metadata": {
    "colab": {
     "base_uri": "https://localhost:8080/",
     "height": 0
    },
    "executionInfo": {
     "elapsed": 261,
     "status": "ok",
     "timestamp": 1751016035042,
     "user": {
      "displayName": "Supreme Hindutvawadi",
      "userId": "06788822703983184258"
     },
     "user_tz": -330
    },
    "id": "7AxfwCEkAq_0",
    "outputId": "59431219-5297-4420-f739-746298647967"
   },
   "outputs": [
    {
     "ename": "ValueError",
     "evalue": "Mime type rendering requires nbformat>=4.2.0 but it is not installed",
     "output_type": "error",
     "traceback": [
      "\u001b[31m---------------------------------------------------------------------------\u001b[39m",
      "\u001b[31mValueError\u001b[39m                                Traceback (most recent call last)",
      "\u001b[36mFile \u001b[39m\u001b[32m~\\AppData\\Roaming\\Python\\Python313\\site-packages\\IPython\\core\\formatters.py:984\u001b[39m, in \u001b[36mIPythonDisplayFormatter.__call__\u001b[39m\u001b[34m(self, obj)\u001b[39m\n\u001b[32m    982\u001b[39m method = get_real_method(obj, \u001b[38;5;28mself\u001b[39m.print_method)\n\u001b[32m    983\u001b[39m \u001b[38;5;28;01mif\u001b[39;00m method \u001b[38;5;129;01mis\u001b[39;00m \u001b[38;5;129;01mnot\u001b[39;00m \u001b[38;5;28;01mNone\u001b[39;00m:\n\u001b[32m--> \u001b[39m\u001b[32m984\u001b[39m     \u001b[43mmethod\u001b[49m\u001b[43m(\u001b[49m\u001b[43m)\u001b[49m\n\u001b[32m    985\u001b[39m     \u001b[38;5;28;01mreturn\u001b[39;00m \u001b[38;5;28;01mTrue\u001b[39;00m\n",
      "\u001b[36mFile \u001b[39m\u001b[32mc:\\Users\\Tabah\\AppData\\Local\\Programs\\Python\\Python313\\Lib\\site-packages\\plotly\\basedatatypes.py:850\u001b[39m, in \u001b[36mBaseFigure._ipython_display_\u001b[39m\u001b[34m(self)\u001b[39m\n\u001b[32m    847\u001b[39m \u001b[38;5;28;01mimport\u001b[39;00m\u001b[38;5;250m \u001b[39m\u001b[34;01mplotly\u001b[39;00m\u001b[34;01m.\u001b[39;00m\u001b[34;01mio\u001b[39;00m\u001b[38;5;250m \u001b[39m\u001b[38;5;28;01mas\u001b[39;00m\u001b[38;5;250m \u001b[39m\u001b[34;01mpio\u001b[39;00m\n\u001b[32m    849\u001b[39m \u001b[38;5;28;01mif\u001b[39;00m pio.renderers.render_on_display \u001b[38;5;129;01mand\u001b[39;00m pio.renderers.default:\n\u001b[32m--> \u001b[39m\u001b[32m850\u001b[39m     \u001b[43mpio\u001b[49m\u001b[43m.\u001b[49m\u001b[43mshow\u001b[49m\u001b[43m(\u001b[49m\u001b[38;5;28;43mself\u001b[39;49m\u001b[43m)\u001b[49m\n\u001b[32m    851\u001b[39m \u001b[38;5;28;01melse\u001b[39;00m:\n\u001b[32m    852\u001b[39m     \u001b[38;5;28mprint\u001b[39m(\u001b[38;5;28mrepr\u001b[39m(\u001b[38;5;28mself\u001b[39m))\n",
      "\u001b[36mFile \u001b[39m\u001b[32mc:\\Users\\Tabah\\AppData\\Local\\Programs\\Python\\Python313\\Lib\\site-packages\\plotly\\io\\_renderers.py:415\u001b[39m, in \u001b[36mshow\u001b[39m\u001b[34m(fig, renderer, validate, **kwargs)\u001b[39m\n\u001b[32m    410\u001b[39m     \u001b[38;5;28;01mraise\u001b[39;00m \u001b[38;5;167;01mValueError\u001b[39;00m(\n\u001b[32m    411\u001b[39m         \u001b[33m\"\u001b[39m\u001b[33mMime type rendering requires ipython but it is not installed\u001b[39m\u001b[33m\"\u001b[39m\n\u001b[32m    412\u001b[39m     )\n\u001b[32m    414\u001b[39m \u001b[38;5;28;01mif\u001b[39;00m \u001b[38;5;129;01mnot\u001b[39;00m nbformat \u001b[38;5;129;01mor\u001b[39;00m Version(nbformat.__version__) < Version(\u001b[33m\"\u001b[39m\u001b[33m4.2.0\u001b[39m\u001b[33m\"\u001b[39m):\n\u001b[32m--> \u001b[39m\u001b[32m415\u001b[39m     \u001b[38;5;28;01mraise\u001b[39;00m \u001b[38;5;167;01mValueError\u001b[39;00m(\n\u001b[32m    416\u001b[39m         \u001b[33m\"\u001b[39m\u001b[33mMime type rendering requires nbformat>=4.2.0 but it is not installed\u001b[39m\u001b[33m\"\u001b[39m\n\u001b[32m    417\u001b[39m     )\n\u001b[32m    419\u001b[39m display_jupyter_version_warnings()\n\u001b[32m    421\u001b[39m ipython_display.display(bundle, raw=\u001b[38;5;28;01mTrue\u001b[39;00m)\n",
      "\u001b[31mValueError\u001b[39m: Mime type rendering requires nbformat>=4.2.0 but it is not installed"
     ]
    },
    {
     "data": {
      "application/vnd.plotly.v1+json": {
       "config": {
        "plotlyServerURL": "https://plot.ly"
       },
       "data": [
        {
         "hovertemplate": "x=%{x}<br>y=%{y}<br>color=%{marker.color}<extra></extra>",
         "legendgroup": "",
         "marker": {
          "color": {
           "bdata": "AQAAAAAAAAAAAAABAAABAAAAAAEAAAABAAAAAAABAQAAAAEAAAABAQAAAAAAAAAAAAEAAAEBAAEAAQEAAAAAAAEAAAAAAQEAAAAAAAAAAAAAAAEAAQEBAAAAAAABAAEAAAABAQAAAAEAAQAAAAEAAAAAAAAAAQAAAAAAAQAAAQABAAAAAAAAAAAAAAAAAAEAAQABAAAAAAAAAQAAAQEBAAEBAAAAAAAAAAAAAAAAAAEAAAAAAAAAAAABAAAAAAAAAAAAAAAAAAAAAAABAAAAAQAAAAAAAAAAAAAAAAAAAAEBAAAAAAAAAAAAAAEAAAEAAQAAAAEAAAAAAAEBAQABAAEAAAEAAQEBAAEBAAAAAAEAAAAAAAAAAAEBAAAAAAAAAQAAAAEAAAABAQEAAAEAAAAAAAAAAAAAAQABAAAAAAAAAAEAAAAAAQEAAQEAAAAAAAABAAAAAAAAAAAAAAAAAAAAAAAAAAAAAAABAAAAAAAAAAAAAAEAAQEBAAABAQAAAAAAAAAAAAAAAAAAAAAAAAAAAAAAAAAAAAAAAQEAAAAAAQABAQEBAAAAAAAAAAAAAAAAAAAAAAAAAQAAAQAAAAAAAAAAAAAAAAAAAAABAAAAAQAAAAAAAAAAAQEBAAAAAAAAAAAAAAABAAAAAAABAAAAAAABAAEBAAAAAAAAAAAAAAEAAAAAAAAAAAABAAAAAAABAAAAAAAAAAAAAAAAAQABAAAAAQAAAAAAAAAAAQAAAAAAAAAAAAABAAAAAAAAAAEAAAAAAAAAAAABAAAAAAABAAAAAAAAAAAAAAEAAAEAAQAAAAAAAQABAQAAAQABAAAAAAABAAAAAAAAAAABAAABAAAAAAAAAAAAAAAAAAEAAAAAAAAAAAEBAAEBAAAAAAABAAABAAAAAAEAAAAAAAABAAAAAAAAAAEAAAAAAAAAAAEAAAAAAAAAAAAAAAAAAAAAAAABAAEAAAEAAAAAAAEAAQEAAQEAAAAAAAAAAQAAAAAAAAEAAQAAAQAAAAAAAAAAAAABAAAAAAAAAQAAAQAAAAAAAAAAAAEAAQAAAAEAAAABAAAAAAAAAAAAAAAAAAABAQAAAAAAAAEBAQAAAAAAAAAAAAAAAAABAQABAAAAAAEAAQABAAEBAAABAAAAAAAAAAAAAAAAAAAAAAAAAAAAAAEAAQEAAAABAAABAAABAAAAAAEAAAAAAAAAAQABAAAAAAEBAAAAAAAAAAAAAAAAAAAAAAAAAAAAAAAAAAAAAAABAAEAAQABAQABAAEAAAAAAAAAAQAAAAAAAAAAAQAAAAAAAAEAAAAAAAABAAAAAAEAAAAAAAEBAAAAAAABAAAAAQAAAAAAAAAAAAEBAAAAAQAAAAEBAAEAAAEBAAABAAEAAAEAAQABAAAAAQAAAAAAAAAAAQAAAAAAAAABAAAAAAAAAAEAAAAAAAABAAAAAAEAAAEAAAEAAAABAAAAAAAAAAAAAAEBAAAAAAEBAAEAAQABAAAAAAAAAAAAAAAAAAABAAAAAAAAAQAAAAAAAQAAAAEAAAAAAAAAAAAAAAAAAQEAAAAAAQAAAQAAAAABAAEAAQAAAAAAAAABAAAAAAAAAAEAAAEBAAAAAAAAAAAAAQAAAAABAAAAAAAAAQEAAAAAAAAAAAEBAAAAAAAAAAEBAAEAAAAAAAAAAAAAAAABAAEAAAAAAAABAAAAAQAAAQEAAQAAAAEAAAEAAAAAAAAAAAEBAAEBAAEBAQAAAAABAQAAAAAAAAEAAQAAAAAAAAAAAAAAAAAB",
           "dtype": "i1"
          },
          "coloraxis": "coloraxis",
          "symbol": "circle"
         },
         "mode": "markers",
         "name": "",
         "showlegend": false,
         "type": "scattergl",
         "x": {
          "bdata": "ExIcISAfLiUlPBk+FzgbEzQXOB48HhIiJTs/NxcfFhITPxwTPhojPBgfKSUmNxIcPCQSFTAkKDo6EjUiKxlAHBQTPSgoHBsfNTosOR0VFikfLRYwJS05OC43FTU7I0AcNjc4JikeEj0iFBMaHT82NyUVNDw6HTElLBIULC8aEzQgJjs9NRMUFhMWNhYiGiIdHh0uMzUTIzAgKigsMBIeMioSNiAlLxQgExs/MRIjGD8mNi4pOhIWLCwkGh4pHT0kGTgSEyctM0ATMDwbLhw7Iz8oFCgYIi0pNRsaGCI1IBMqNxw6KS8qOxM7JygSHxMsFyE3KD82PBgTHRI/NhsyNzgmMxM6FDQTNS4oOy0xEjIpMhkvExY7Myg2Hjc0Li4/OzQcHRkWGRITLx8wJDU4HDkdHB46KTITKzEbNDI2LCAiGiI5HSgbLUA0PTQ9OCtAPD4yLhg+PD8xIiEuJBM5Mh4hEi4uLxcSMCMTFRUxOCosEj05KhoUFycYQD4bNzcjLBM6MhoYMBMwMS4uKxVAEjMvQDEfNCEvJiATLBoZEys0JEA/QD0oGTAtJhIVGxMdKjwfPBYjNBofIRI7OC08OCgjJx4YFCA7Nzk4KDEqPjgTHjw4HBIbEhMvNj0YGRUXPzESMzAfNhMsNRM9Ej0VFB8tLD4dKzMTJiUWFRg5OBszEyc6FC0jHzIgMyYqEhMzLhI5PjslQCYhLi41IhQ/NjYxHDYZKz8gPjQZHC4iIxMuNhsyEhMmKTEwHxIePjk6Fh80GTsTJyATIRUiPSY6LxQVKS4qIis0EjM4QBMzGzscHi8mEiIULzgxEzceJTESOx0kITosNRgdKDNAEyMnOCEqPRcrMCcoEjoxNTAtOzQaGzA5JTkgEkArMSg+KB4dJCksLTc8ODEVEyc1ITUqKC8bFS8UGBsaNSk4FxUyNSIvITMxHyQSMisUGDwxPDM6MzU+EzIeKR0SKSM1GDA7MSUaFx0tGzUfMjIiEy8cJRVAOhgfJy8eEhYXIRstOS8qQCY9NSwTKTMoLSM1HhIzMh8jPBUdPicTFjUnGx4eOiEqQBUSFy0oExIZLiE2HCQUGBcvIS0aEiw8QDgkKSc/JBw6JCokOCM7FTsXOTU8MxcbNyU9LjUxFDAZGTklJjckMygSOT0ZMhoqKywXMSEpJRYXFTMZIDkkFjlAJDYvPj0rExITMTwaMTwaGyw/IBYSOywhGCstPSM+PiYiKzITOT4pGicuLSA7LCcSNRIyEhM+OColKhk5Mx4sIh82GCswEx0/LjQjMywVJzIiFhMaHTAaLSQ2Ih8bFCwrLSIYGiYyJhsnJz8hJB4YGDAvHRwvGTMwKz0wJjsTGjYVMxYvEi8VExc2JS43HhI9NhYtFhMjEhQcNysrFhkxLEAxLxs3MC0YIBg5OyQdKjAnPzYlPxU2PCAvFRw/EiAmID4nNzk0OC83FxYyEjMWNBkhNR06JTYxMhotNiYwHBc3KRkhHhcuNRsXPzcjIhMnGzk0HDIsGiETMik0JzI0PBQ3KhI6KyMwJBMXFCArIh4SKSM5HSAlEis4Jh0WNCgXHyoYGTAXLRQ+KxcfKTowHxMTKSgfJS4WMxIjOyQlOyQnEjQbEigdLiYeKDIUKSEmKjg6NBQ2Oi0aPzolGTRAFhwSHC0hEiAYExQoIiozNjc0IBwpKzFANxgULRoZKyMaORYgJxkwLxISPS8cJBQsJhMVLjoUEhwhEy0+GSsqGB0gGSkqISITHhITEiMnHz4+Kh89KjMXNDkXNDISEhU9",
          "dtype": "i1"
         },
         "xaxis": "x",
         "y": {
          "bdata": "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",
          "dtype": "f8"
         },
         "yaxis": "y"
        }
       ],
       "layout": {
        "coloraxis": {
         "colorbar": {
          "title": {
           "text": "color"
          }
         },
         "colorscale": [
          [
           0,
           "#0d0887"
          ],
          [
           0.1111111111111111,
           "#46039f"
          ],
          [
           0.2222222222222222,
           "#7201a8"
          ],
          [
           0.3333333333333333,
           "#9c179e"
          ],
          [
           0.4444444444444444,
           "#bd3786"
          ],
          [
           0.5555555555555556,
           "#d8576b"
          ],
          [
           0.6666666666666666,
           "#ed7953"
          ],
          [
           0.7777777777777778,
           "#fb9f3a"
          ],
          [
           0.8888888888888888,
           "#fdca26"
          ],
          [
           1,
           "#f0f921"
          ]
         ]
        },
        "legend": {
         "tracegroupgap": 0
        },
        "margin": {
         "t": 60
        },
        "template": {
         "data": {
          "bar": [
           {
            "error_x": {
             "color": "#2a3f5f"
            },
            "error_y": {
             "color": "#2a3f5f"
            },
            "marker": {
             "line": {
              "color": "#E5ECF6",
              "width": 0.5
             },
             "pattern": {
              "fillmode": "overlay",
              "size": 10,
              "solidity": 0.2
             }
            },
            "type": "bar"
           }
          ],
          "barpolar": [
           {
            "marker": {
             "line": {
              "color": "#E5ECF6",
              "width": 0.5
             },
             "pattern": {
              "fillmode": "overlay",
              "size": 10,
              "solidity": 0.2
             }
            },
            "type": "barpolar"
           }
          ],
          "carpet": [
           {
            "aaxis": {
             "endlinecolor": "#2a3f5f",
             "gridcolor": "white",
             "linecolor": "white",
             "minorgridcolor": "white",
             "startlinecolor": "#2a3f5f"
            },
            "baxis": {
             "endlinecolor": "#2a3f5f",
             "gridcolor": "white",
             "linecolor": "white",
             "minorgridcolor": "white",
             "startlinecolor": "#2a3f5f"
            },
            "type": "carpet"
           }
          ],
          "choropleth": [
           {
            "colorbar": {
             "outlinewidth": 0,
             "ticks": ""
            },
            "type": "choropleth"
           }
          ],
          "contour": [
           {
            "colorbar": {
             "outlinewidth": 0,
             "ticks": ""
            },
            "colorscale": [
             [
              0,
              "#0d0887"
             ],
             [
              0.1111111111111111,
              "#46039f"
             ],
             [
              0.2222222222222222,
              "#7201a8"
             ],
             [
              0.3333333333333333,
              "#9c179e"
             ],
             [
              0.4444444444444444,
              "#bd3786"
             ],
             [
              0.5555555555555556,
              "#d8576b"
             ],
             [
              0.6666666666666666,
              "#ed7953"
             ],
             [
              0.7777777777777778,
              "#fb9f3a"
             ],
             [
              0.8888888888888888,
              "#fdca26"
             ],
             [
              1,
              "#f0f921"
             ]
            ],
            "type": "contour"
           }
          ],
          "contourcarpet": [
           {
            "colorbar": {
             "outlinewidth": 0,
             "ticks": ""
            },
            "type": "contourcarpet"
           }
          ],
          "heatmap": [
           {
            "colorbar": {
             "outlinewidth": 0,
             "ticks": ""
            },
            "colorscale": [
             [
              0,
              "#0d0887"
             ],
             [
              0.1111111111111111,
              "#46039f"
             ],
             [
              0.2222222222222222,
              "#7201a8"
             ],
             [
              0.3333333333333333,
              "#9c179e"
             ],
             [
              0.4444444444444444,
              "#bd3786"
             ],
             [
              0.5555555555555556,
              "#d8576b"
             ],
             [
              0.6666666666666666,
              "#ed7953"
             ],
             [
              0.7777777777777778,
              "#fb9f3a"
             ],
             [
              0.8888888888888888,
              "#fdca26"
             ],
             [
              1,
              "#f0f921"
             ]
            ],
            "type": "heatmap"
           }
          ],
          "histogram": [
           {
            "marker": {
             "pattern": {
              "fillmode": "overlay",
              "size": 10,
              "solidity": 0.2
             }
            },
            "type": "histogram"
           }
          ],
          "histogram2d": [
           {
            "colorbar": {
             "outlinewidth": 0,
             "ticks": ""
            },
            "colorscale": [
             [
              0,
              "#0d0887"
             ],
             [
              0.1111111111111111,
              "#46039f"
             ],
             [
              0.2222222222222222,
              "#7201a8"
             ],
             [
              0.3333333333333333,
              "#9c179e"
             ],
             [
              0.4444444444444444,
              "#bd3786"
             ],
             [
              0.5555555555555556,
              "#d8576b"
             ],
             [
              0.6666666666666666,
              "#ed7953"
             ],
             [
              0.7777777777777778,
              "#fb9f3a"
             ],
             [
              0.8888888888888888,
              "#fdca26"
             ],
             [
              1,
              "#f0f921"
             ]
            ],
            "type": "histogram2d"
           }
          ],
          "histogram2dcontour": [
           {
            "colorbar": {
             "outlinewidth": 0,
             "ticks": ""
            },
            "colorscale": [
             [
              0,
              "#0d0887"
             ],
             [
              0.1111111111111111,
              "#46039f"
             ],
             [
              0.2222222222222222,
              "#7201a8"
             ],
             [
              0.3333333333333333,
              "#9c179e"
             ],
             [
              0.4444444444444444,
              "#bd3786"
             ],
             [
              0.5555555555555556,
              "#d8576b"
             ],
             [
              0.6666666666666666,
              "#ed7953"
             ],
             [
              0.7777777777777778,
              "#fb9f3a"
             ],
             [
              0.8888888888888888,
              "#fdca26"
             ],
             [
              1,
              "#f0f921"
             ]
            ],
            "type": "histogram2dcontour"
           }
          ],
          "mesh3d": [
           {
            "colorbar": {
             "outlinewidth": 0,
             "ticks": ""
            },
            "type": "mesh3d"
           }
          ],
          "parcoords": [
           {
            "line": {
             "colorbar": {
              "outlinewidth": 0,
              "ticks": ""
             }
            },
            "type": "parcoords"
           }
          ],
          "pie": [
           {
            "automargin": true,
            "type": "pie"
           }
          ],
          "scatter": [
           {
            "fillpattern": {
             "fillmode": "overlay",
             "size": 10,
             "solidity": 0.2
            },
            "type": "scatter"
           }
          ],
          "scatter3d": [
           {
            "line": {
             "colorbar": {
              "outlinewidth": 0,
              "ticks": ""
             }
            },
            "marker": {
             "colorbar": {
              "outlinewidth": 0,
              "ticks": ""
             }
            },
            "type": "scatter3d"
           }
          ],
          "scattercarpet": [
           {
            "marker": {
             "colorbar": {
              "outlinewidth": 0,
              "ticks": ""
             }
            },
            "type": "scattercarpet"
           }
          ],
          "scattergeo": [
           {
            "marker": {
             "colorbar": {
              "outlinewidth": 0,
              "ticks": ""
             }
            },
            "type": "scattergeo"
           }
          ],
          "scattergl": [
           {
            "marker": {
             "colorbar": {
              "outlinewidth": 0,
              "ticks": ""
             }
            },
            "type": "scattergl"
           }
          ],
          "scattermap": [
           {
            "marker": {
             "colorbar": {
              "outlinewidth": 0,
              "ticks": ""
             }
            },
            "type": "scattermap"
           }
          ],
          "scattermapbox": [
           {
            "marker": {
             "colorbar": {
              "outlinewidth": 0,
              "ticks": ""
             }
            },
            "type": "scattermapbox"
           }
          ],
          "scatterpolar": [
           {
            "marker": {
             "colorbar": {
              "outlinewidth": 0,
              "ticks": ""
             }
            },
            "type": "scatterpolar"
           }
          ],
          "scatterpolargl": [
           {
            "marker": {
             "colorbar": {
              "outlinewidth": 0,
              "ticks": ""
             }
            },
            "type": "scatterpolargl"
           }
          ],
          "scatterternary": [
           {
            "marker": {
             "colorbar": {
              "outlinewidth": 0,
              "ticks": ""
             }
            },
            "type": "scatterternary"
           }
          ],
          "surface": [
           {
            "colorbar": {
             "outlinewidth": 0,
             "ticks": ""
            },
            "colorscale": [
             [
              0,
              "#0d0887"
             ],
             [
              0.1111111111111111,
              "#46039f"
             ],
             [
              0.2222222222222222,
              "#7201a8"
             ],
             [
              0.3333333333333333,
              "#9c179e"
             ],
             [
              0.4444444444444444,
              "#bd3786"
             ],
             [
              0.5555555555555556,
              "#d8576b"
             ],
             [
              0.6666666666666666,
              "#ed7953"
             ],
             [
              0.7777777777777778,
              "#fb9f3a"
             ],
             [
              0.8888888888888888,
              "#fdca26"
             ],
             [
              1,
              "#f0f921"
             ]
            ],
            "type": "surface"
           }
          ],
          "table": [
           {
            "cells": {
             "fill": {
              "color": "#EBF0F8"
             },
             "line": {
              "color": "white"
             }
            },
            "header": {
             "fill": {
              "color": "#C8D4E3"
             },
             "line": {
              "color": "white"
             }
            },
            "type": "table"
           }
          ]
         },
         "layout": {
          "annotationdefaults": {
           "arrowcolor": "#2a3f5f",
           "arrowhead": 0,
           "arrowwidth": 1
          },
          "autotypenumbers": "strict",
          "coloraxis": {
           "colorbar": {
            "outlinewidth": 0,
            "ticks": ""
           }
          },
          "colorscale": {
           "diverging": [
            [
             0,
             "#8e0152"
            ],
            [
             0.1,
             "#c51b7d"
            ],
            [
             0.2,
             "#de77ae"
            ],
            [
             0.3,
             "#f1b6da"
            ],
            [
             0.4,
             "#fde0ef"
            ],
            [
             0.5,
             "#f7f7f7"
            ],
            [
             0.6,
             "#e6f5d0"
            ],
            [
             0.7,
             "#b8e186"
            ],
            [
             0.8,
             "#7fbc41"
            ],
            [
             0.9,
             "#4d9221"
            ],
            [
             1,
             "#276419"
            ]
           ],
           "sequential": [
            [
             0,
             "#0d0887"
            ],
            [
             0.1111111111111111,
             "#46039f"
            ],
            [
             0.2222222222222222,
             "#7201a8"
            ],
            [
             0.3333333333333333,
             "#9c179e"
            ],
            [
             0.4444444444444444,
             "#bd3786"
            ],
            [
             0.5555555555555556,
             "#d8576b"
            ],
            [
             0.6666666666666666,
             "#ed7953"
            ],
            [
             0.7777777777777778,
             "#fb9f3a"
            ],
            [
             0.8888888888888888,
             "#fdca26"
            ],
            [
             1,
             "#f0f921"
            ]
           ],
           "sequentialminus": [
            [
             0,
             "#0d0887"
            ],
            [
             0.1111111111111111,
             "#46039f"
            ],
            [
             0.2222222222222222,
             "#7201a8"
            ],
            [
             0.3333333333333333,
             "#9c179e"
            ],
            [
             0.4444444444444444,
             "#bd3786"
            ],
            [
             0.5555555555555556,
             "#d8576b"
            ],
            [
             0.6666666666666666,
             "#ed7953"
            ],
            [
             0.7777777777777778,
             "#fb9f3a"
            ],
            [
             0.8888888888888888,
             "#fdca26"
            ],
            [
             1,
             "#f0f921"
            ]
           ]
          },
          "colorway": [
           "#636efa",
           "#EF553B",
           "#00cc96",
           "#ab63fa",
           "#FFA15A",
           "#19d3f3",
           "#FF6692",
           "#B6E880",
           "#FF97FF",
           "#FECB52"
          ],
          "font": {
           "color": "#2a3f5f"
          },
          "geo": {
           "bgcolor": "white",
           "lakecolor": "white",
           "landcolor": "#E5ECF6",
           "showlakes": true,
           "showland": true,
           "subunitcolor": "white"
          },
          "hoverlabel": {
           "align": "left"
          },
          "hovermode": "closest",
          "mapbox": {
           "style": "light"
          },
          "paper_bgcolor": "white",
          "plot_bgcolor": "#E5ECF6",
          "polar": {
           "angularaxis": {
            "gridcolor": "white",
            "linecolor": "white",
            "ticks": ""
           },
           "bgcolor": "#E5ECF6",
           "radialaxis": {
            "gridcolor": "white",
            "linecolor": "white",
            "ticks": ""
           }
          },
          "scene": {
           "xaxis": {
            "backgroundcolor": "#E5ECF6",
            "gridcolor": "white",
            "gridwidth": 2,
            "linecolor": "white",
            "showbackground": true,
            "ticks": "",
            "zerolinecolor": "white"
           },
           "yaxis": {
            "backgroundcolor": "#E5ECF6",
            "gridcolor": "white",
            "gridwidth": 2,
            "linecolor": "white",
            "showbackground": true,
            "ticks": "",
            "zerolinecolor": "white"
           },
           "zaxis": {
            "backgroundcolor": "#E5ECF6",
            "gridcolor": "white",
            "gridwidth": 2,
            "linecolor": "white",
            "showbackground": true,
            "ticks": "",
            "zerolinecolor": "white"
           }
          },
          "shapedefaults": {
           "line": {
            "color": "#2a3f5f"
           }
          },
          "ternary": {
           "aaxis": {
            "gridcolor": "white",
            "linecolor": "white",
            "ticks": ""
           },
           "baxis": {
            "gridcolor": "white",
            "linecolor": "white",
            "ticks": ""
           },
           "bgcolor": "#E5ECF6",
           "caxis": {
            "gridcolor": "white",
            "linecolor": "white",
            "ticks": ""
           }
          },
          "title": {
           "x": 0.05
          },
          "xaxis": {
           "automargin": true,
           "gridcolor": "white",
           "linecolor": "white",
           "ticks": "",
           "title": {
            "standoff": 15
           },
           "zerolinecolor": "white",
           "zerolinewidth": 2
          },
          "yaxis": {
           "automargin": true,
           "gridcolor": "white",
           "linecolor": "white",
           "ticks": "",
           "title": {
            "standoff": 15
           },
           "zerolinecolor": "white",
           "zerolinewidth": 2
          }
         }
        },
        "xaxis": {
         "anchor": "y",
         "domain": [
          0,
          1
         ],
         "title": {
          "text": "x"
         }
        },
        "yaxis": {
         "anchor": "x",
         "domain": [
          0,
          1
         ],
         "title": {
          "text": "y"
         }
        }
       }
      },
      "text/html": [
       "<div>                        <script type=\"text/javascript\">window.PlotlyConfig = {MathJaxConfig: 'local'};</script>\n",
       "        <script charset=\"utf-8\" src=\"https://cdn.plot.ly/plotly-3.0.1.min.js\" integrity=\"sha256-oy6Be7Eh6eiQFs5M7oXuPxxm9qbJXEtTpfSI93dW16Q=\" crossorigin=\"anonymous\"></script>                <div id=\"02e4c400-8e60-439f-90e5-b59842c35dc0\" class=\"plotly-graph-div\" style=\"height:100%; width:100%;\"></div>            <script type=\"text/javascript\">                window.PLOTLYENV=window.PLOTLYENV || {};                                if (document.getElementById(\"02e4c400-8e60-439f-90e5-b59842c35dc0\")) {                    Plotly.newPlot(                        \"02e4c400-8e60-439f-90e5-b59842c35dc0\",                        [{\"hovertemplate\":\"x=%{x}\\u003cbr\\u003ey=%{y}\\u003cbr\\u003ecolor=%{marker.color}\\u003cextra\\u003e\\u003c\\u002fextra\\u003e\",\"legendgroup\":\"\",\"marker\":{\"color\":{\"dtype\":\"i1\",\"bdata\":\"AQAAAAAAAAAAAAABAAABAAAAAAEAAAABAAAAAAABAQAAAAEAAAABAQAAAAAAAAAAAAEAAAEBAAEAAQEAAAAAAAEAAAAAAQEAAAAAAAAAAAAAAAEAAQEBAAAAAAABAAEAAAABAQAAAAEAAQAAAAEAAAAAAAAAAQAAAAAAAQAAAQABAAAAAAAAAAAAAAAAAAEAAQABAAAAAAAAAQAAAQEBAAEBAAAAAAAAAAAAAAAAAAEAAAAAAAAAAAABAAAAAAAAAAAAAAAAAAAAAAABAAAAAQAAAAAAAAAAAAAAAAAAAAEBAAAAAAAAAAAAAAEAAAEAAQAAAAEAAAAAAAEBAQABAAEAAAEAAQEBAAEBAAAAAAEAAAAAAAAAAAEBAAAAAAAAAQAAAAEAAAABAQEAAAEAAAAAAAAAAAAAAQABAAAAAAAAAAEAAAAAAQEAAQEAAAAAAAABAAAAAAAAAAAAAAAAAAAAAAAAAAAAAAABAAAAAAAAAAAAAAEAAQEBAAABAQAAAAAAAAAAAAAAAAAAAAAAAAAAAAAAAAAAAAAAAQEAAAAAAQABAQEBAAAAAAAAAAAAAAAAAAAAAAAAAQAAAQAAAAAAAAAAAAAAAAAAAAABAAAAAQAAAAAAAAAAAQEBAAAAAAAAAAAAAAABAAAAAAABAAAAAAABAAEBAAAAAAAAAAAAAAEAAAAAAAAAAAABAAAAAAABAAAAAAAAAAAAAAAAAQABAAAAAQAAAAAAAAAAAQAAAAAAAAAAAAABAAAAAAAAAAEAAAAAAAAAAAABAAAAAAABAAAAAAAAAAAAAAEAAAEAAQAAAAAAAQABAQAAAQABAAAAAAABAAAAAAAAAAABAAABAAAAAAAAAAAAAAAAAAEAAAAAAAAAAAEBAAEBAAAAAAABAAABAAAAAAEAAAAAAAABAAAAAAAAAAEAAAAAAAAAAAEAAAAAAAAAAAAAAAAAAAAAAAABAAEAAAEAAAAAAAEAAQEAAQEAAAAAAAAAAQAAAAAAAAEAAQAAAQAAAAAAAAAAAAABAAAAAAAAAQAAAQAAAAAAAAAAAAEAAQAAAAEAAAABAAAAAAAAAAAAAAAAAAABAQAAAAAAAAEBAQAAAAAAAAAAAAAAAAABAQABAAAAAAEAAQABAAEBAAABAAAAAAAAAAAAAAAAAAAAAAAAAAAAAAEAAQEAAAABAAABAAABAAAAAAEAAAAAAAAAAQABAAAAAAEBAAAAAAAAAAAAAAAAAAAAAAAAAAAAAAAAAAAAAAABAAEAAQABAQABAAEAAAAAAAAAAQAAAAAAAAAAAQAAAAAAAAEAAAAAAAABAAAAAAEAAAAAAAEBAAAAAAABAAAAAQAAAAAAAAAAAAEBAAAAAQAAAAEBAAEAAAEBAAABAAEAAAEAAQABAAAAAQAAAAAAAAAAAQAAAAAAAAABAAAAAAAAAAEAAAAAAAABAAAAAAEAAAEAAAEAAAABAAAAAAAAAAAAAAEBAAAAAAEBAAEAAQABAAAAAAAAAAAAAAAAAAABAAAAAAAAAQAAAAAAAQAAAAEAAAAAAAAAAAAAAAAAAQEAAAAAAQAAAQAAAAABAAEAAQAAAAAAAAABAAAAAAAAAAEAAAEBAAAAAAAAAAAAAQAAAAABAAAAAAAAAQEAAAAAAAAAAAEBAAAAAAAAAAEBAAEAAAAAAAAAAAAAAAABAAEAAAAAAAABAAAAAQAAAQEAAQAAAAEAAAEAAAAAAAAAAAEBAAEBAAEBAQAAAAABAQAAAAAAAAEAAQAAAAAAAAAAAAAAAAAB\"},\"coloraxis\":\"coloraxis\",\"symbol\":\"circle\"},\"mode\":\"markers\",\"name\":\"\",\"showlegend\":false,\"x\":{\"dtype\":\"i1\",\"bdata\":\"ExIcISAfLiUlPBk+FzgbEzQXOB48HhIiJTs\\u002fNxcfFhITPxwTPhojPBgfKSUmNxIcPCQSFTAkKDo6EjUiKxlAHBQTPSgoHBsfNTosOR0VFikfLRYwJS05OC43FTU7I0AcNjc4JikeEj0iFBMaHT82NyUVNDw6HTElLBIULC8aEzQgJjs9NRMUFhMWNhYiGiIdHh0uMzUTIzAgKigsMBIeMioSNiAlLxQgExs\\u002fMRIjGD8mNi4pOhIWLCwkGh4pHT0kGTgSEyctM0ATMDwbLhw7Iz8oFCgYIi0pNRsaGCI1IBMqNxw6KS8qOxM7JygSHxMsFyE3KD82PBgTHRI\\u002fNhsyNzgmMxM6FDQTNS4oOy0xEjIpMhkvExY7Myg2Hjc0Li4\\u002fOzQcHRkWGRITLx8wJDU4HDkdHB46KTITKzEbNDI2LCAiGiI5HSgbLUA0PTQ9OCtAPD4yLhg+PD8xIiEuJBM5Mh4hEi4uLxcSMCMTFRUxOCosEj05KhoUFycYQD4bNzcjLBM6MhoYMBMwMS4uKxVAEjMvQDEfNCEvJiATLBoZEys0JEA\\u002fQD0oGTAtJhIVGxMdKjwfPBYjNBofIRI7OC08OCgjJx4YFCA7Nzk4KDEqPjgTHjw4HBIbEhMvNj0YGRUXPzESMzAfNhMsNRM9Ej0VFB8tLD4dKzMTJiUWFRg5OBszEyc6FC0jHzIgMyYqEhMzLhI5PjslQCYhLi41IhQ\\u002fNjYxHDYZKz8gPjQZHC4iIxMuNhsyEhMmKTEwHxIePjk6Fh80GTsTJyATIRUiPSY6LxQVKS4qIis0EjM4QBMzGzscHi8mEiIULzgxEzceJTESOx0kITosNRgdKDNAEyMnOCEqPRcrMCcoEjoxNTAtOzQaGzA5JTkgEkArMSg+KB4dJCksLTc8ODEVEyc1ITUqKC8bFS8UGBsaNSk4FxUyNSIvITMxHyQSMisUGDwxPDM6MzU+EzIeKR0SKSM1GDA7MSUaFx0tGzUfMjIiEy8cJRVAOhgfJy8eEhYXIRstOS8qQCY9NSwTKTMoLSM1HhIzMh8jPBUdPicTFjUnGx4eOiEqQBUSFy0oExIZLiE2HCQUGBcvIS0aEiw8QDgkKSc\\u002fJBw6JCokOCM7FTsXOTU8MxcbNyU9LjUxFDAZGTklJjckMygSOT0ZMhoqKywXMSEpJRYXFTMZIDkkFjlAJDYvPj0rExITMTwaMTwaGyw\\u002fIBYSOywhGCstPSM+PiYiKzITOT4pGicuLSA7LCcSNRIyEhM+OColKhk5Mx4sIh82GCswEx0\\u002fLjQjMywVJzIiFhMaHTAaLSQ2Ih8bFCwrLSIYGiYyJhsnJz8hJB4YGDAvHRwvGTMwKz0wJjsTGjYVMxYvEi8VExc2JS43HhI9NhYtFhMjEhQcNysrFhkxLEAxLxs3MC0YIBg5OyQdKjAnPzYlPxU2PCAvFRw\\u002fEiAmID4nNzk0OC83FxYyEjMWNBkhNR06JTYxMhotNiYwHBc3KRkhHhcuNRsXPzcjIhMnGzk0HDIsGiETMik0JzI0PBQ3KhI6KyMwJBMXFCArIh4SKSM5HSAlEis4Jh0WNCgXHyoYGTAXLRQ+KxcfKTowHxMTKSgfJS4WMxIjOyQlOyQnEjQbEigdLiYeKDIUKSEmKjg6NBQ2Oi0aPzolGTRAFhwSHC0hEiAYExQoIiozNjc0IBwpKzFANxgULRoZKyMaORYgJxkwLxISPS8cJBQsJhMVLjoUEhwhEy0+GSsqGB0gGSkqISITHhITEiMnHz4+Kh89KjMXNDkXNDISEhU9\"},\"xaxis\":\"x\",\"y\":{\"dtype\":\"f8\",\"bdata\":\"YOXQIjt90EBTliGONfaaQMHKoUV2YbFAy2d5Hh541UAUP8bctTWuQGPuWkI+Wa1A3EYDeEsYwEDcaABvgXG8QHicoiNpBrlAixpMw8g+3EAdyeU\\u002fpEKlQJXUCWguKNtAHVpkO1+LnECJ0t7gW6nFQAYSFD94V+NAnMQgsPK0nEB1ApoIqxbFQELPZtVXtqJAexSuRzG1xEDn+6nxrvzhQKyL22hs1slA2\\u002fl+arw1sEAGgZVDC8SRQKTfvg68aOJAK4cW2eY7uEAawFsgkVjLQKH4MebqOcxAc2iR7VD2x0DaG3xhYq6lQAAAAADg5uJAUI2XbjJg4UBL6gQ0YSyhQOkmMQjMT7JAJLn8hwzlykC8kXnkUf\\u002foQI\\u002fC9Si8ZZlAV1uxvxh+zkCamZmZmfyhQPwYc9fIa+NAO99PjauF50C0yHa+H8ynQHrHKTrCVbNAp3nHKXqAuECq8dJNwqm4QESLbOerv7dAhiAHJZIl1EDc14FztoKqQDSitDfYyatAKcsQx\\u002fKqyECDwMqhpebiQOf7qfFCRqFAZMxdS6j3q0AhsHJoEQTXQApoImzSbeJAt2J\\u002f2a17v0BwzojSDzHnQDMzMzOvk8pAfdCzWeW\\u002f4EBTBaOSMrPWQI0o7Q2GZbdAE2HD0xvPwEDf4AuTqZixQFjnGJCndd1AeqUsQ6QlsEBiodY037vMQGDl0CLbPJtAqMZLN4nNy0DLEMe6YPW4QIMvTKYaILdABaOSOsk\\u002f0UDP91PjcTDQQJHtfD91j7pAc2iR7dzuxkBIv30dUFXHQMl2vp\\u002faLr5A9wZfmFQuxkD129eB09auQLprCfng8ZdAtFn1uQqGpUCoNc07Bqu5QCSX\\u002f5A2WbFAO3DOiEr\\u002fvkBjf9k9pSXiQOLplbLUjMVAVOOlm5Bz40CWIY51o5rUQLyWkA9eR+VADAIrh5agxUCDL0ymqlq\\u002fQKCJsOFJpcVAImx4euWrn0C4rwPnEF\\u002fFQIqO5PI7et1Aqz5XWwFhtkApXI\\u002fCYRfnQGkAb4HEba1AXI\\u002fC9aikx0DDZKpgJPnDQN0kBoEp49VA9P3UeFnmzkCYbhKDICq4QIY41sUteqxAYTJVMDbY1EDYgXNGjDfeQH0\\u002fNV7ai7NAqvHSTRgm0UA\\u002fNV66CTeiQJ7vp8abSq5ANBE2PD1mpkBGlPYG8fnmQH\\u002fZPXmgJMVA\\u002fKnx0q00x0Cq8dJNwiayQJwzorR3yaJAPE7RkShwxkBNSkG3\\u002f4zdQA8LtaapOsZA\\u002fmX35PGo0kBJnYAmqszAQMRCrWluHrpAwcqhRVY8vkBoke18f6aaQNnO91PzoqFA\\u002fKnx0o9Q40BJLv8hgcHDQGaIY13McqpA7FG4HkWu0ECgGi\\u002fdRNHCQNDVVuyL999A4XoUrmfCt0AtIR\\u002f0uAfJQCzUmuYtmMpAEFg5tMjNxUDpSC7\\u002fQYKZQBpR2htsMqNAc2iR7VzXoEBU46WbxLWTQFYOLbK99p9A9u6P966u2kBYObTIdu2gQIVf6uf5u9pAeJyiIxlFq0DhehSuH4fSQNNNYhB4u9FAHhZqTX9C1EDiWBe3QRK0QA+cM6IR4uNA5BQdyc1Kw0BE+u3r2GfFQH9qvHQTypxAv30dODcFtED2KFyPom2+QIqO5PJXvrhAQBNhwy9\\u002f00DdtYR8MKW7QAn5oGezJLtAqaROQOu51ECNl24SF0\\u002fOQBzr4jbICuJAfERMiVhJ00C+nxovLdnUQPT91HivpuFAsp3vp0ZpxECq8dJNIiC0QJjdk4clpLNALv8h\\u002fYpTxEB7FK5Hod6yQDLmriXM8LdAHVpkO48+pUCEns2q59uyQNCzWfWxLspASOF6FK60v0AjSnuDL3uaQOkmMQgMfrRAu7iNBuBOpkBmZmZmDtfnQOVhodbcN7lANV66SQxixEDLoUW2ozvBQET67eskrcBAxty1hPDrxkDnHafoSH+ZQB+F61HYSq9AwoanV3r7vEAf9GxWbTO+QOQUHckqXeVAdy0hH\\u002fQbr0Cyne+nps20QHWTGAT2d7pAaCJseOo6s0AibHh6zYbIQFYOLbLdE7NAVcGopE6zoECe76fGK4bHQLprCfngxZFAg1FJnUCemUCkcD0KtxG2QDEIrBxqosBAH4XrUSDWwkDswDkjwhrNQLyWkA9apaBAZ9XnapNTwUAoDwu1GmrJQCntDb68IeJAFK5H4Rrru0AFNBE2vPGwQMHKoUWm78ZAutqK\\u002fQV+1ED0\\u002fdR4eRzLQF+YTBUc0rlA4XoUrkfwnkDD9Shct+K\\u002fQC2yne9no6tAlPYGX8iKs0DZzvdTA6TAQIPAyqHFy7xAXrpJDNI5xEC28\\u002f3UeGejQHctIR\\u002f0gapAJGJKJHF+2EBqvHSTeJSzQKjGSzdxosRAGy\\u002fdJIaFtEDhehSuc\\u002fvgQOELk6niDtNAmN2Th5Vpx0DgnBGl\\u002fQKlQLoUV5XVqNdAi\\u002f1l9yy+vEBZF7fRoATCQLG\\u002f7J6kE71A4umVsqRYy0BxPQrXI\\u002f+aQIts5\\u002fvpFshAGsBbIDE2ukDSAN4CEf3SQF8HzhkRP5lAaQBvgTRvsUDeAgmKK\\u002fLQQInS3uCr8LtAApoIG\\u002fTN4kClLEMcE+q0QKG+ZU4EK+FAokW2890cvEAOvjCZytTcQDRo6J8e59dAAd4CCVq0yEBYqDXNuwufQEw3iUFgoJxA\\u002fKnx0h2Rr0A0gLdAug7JQClcj8IpGedA6Ugu\\u002f5ec5UA5tMh2vqSwQARWDi0lEeRAat5xiqp7yUCJ0t7gJXLlQLpJDAL7GLVAQYLixwyAxkAf9GxWyXrgQK5H4XqUHsdAGsBbIFGv0EBTliGOdUnYQEVHcvlsr+FAIlSp2b\\u002f700CLbOf744jmQCGwcmjhxtBAuK8D51B\\u002fzECwcmiRDRG9QDsBTYQ9IcJA+1xtxb7dmkBCYOXQGu3kQHE9CtezYbxAnl4py9TIwkBYObTIVrajQPhT46Xr+cJAB1+YTGXnpUCmm8Qg8MygQO\\u002fJw0JlQMlAWRe30ZA\\u002fw0DYgXNG5M7VQCgPC7WltOdAT6+UZSCNsECTqYJRjTPHQClcj8L1zMJAGlHaGxw+vkB\\u002f+zpwdmzCQFafq60Y2MtANjy9Uhlj50AtW+uLNGLZQKjGSzcJyKhATGw+rnPN00DeAgmKB5DkQET67euA2aBAL90kBkGErkBuowG8RaKaQDVeukns1M9AqmBUUqt21UDarPpcS+viQH2utmK\\u002fEMJASOF6FL5aukAPnDOiWErYQCxlGeLA9MdAwcqhRXb9sEAj2\\u002fl+GrPIQMl2vp+W\\u002fNJAVz7L82q000BlGeJYBzewQDAqqRNMVMdAGJXUCShFvkAnMQisPH7AQC\\u002fdJAaBJZtA9GxWfZCR5ECwA+eMaLy\\u002fQC2yne\\u002fbAuFAI9v5fmL9wkCKsOHpoUHBQAisHFqIYcRAcF8HzjH9vEBqTfOOmzuyQBTQRNjAHrNAiJ0pdOoX2ECuR+F6dFThQGgibHgml8ZA30+Nly5kpkCcoiO5NMi5QNSa5h3H06tAArwFEhDh5EBcj8L1AGfnQB+F61FI3MFAGCZTBbKw50BCz2bVZ9LXQCS5\\u002fIeEOspAJLn8hzDFxkBfJLTlJLLSQFg5tMhm\\u002f8pAvJaQD0q3x0BkO99P1TjLQHe+nxrjd+RAWMoyxFEUwEBk6UMXzoLSQBIUP8YMFMpAvHSTGIzQyUAU0ETY7E7LQJXUCWiacMVAbHh6pUwouEBaZDvf\\u002fxmzQCSX\\u002f5A6R8BAfoy5awlmtUDXEvJB746ZQBHHurhNG8dAbxKDwApywUAtsp3vZ8SrQPVKWYZwOshAtvP91ISay0AHfH4YwwbYQOPHmLsOeMFAZapgVCrKwkD4wmSqILWcQMKGp1cKHplAWmQ735+dw0C4HoXrEY+yQOOlm8RACstAK4cW2Y5LpEBhw9MrBdmoQJayDHEsGcNAuB6F6yE7ykAnwoanD1G\\u002fQIiFWtNEtL9A2\\u002fl+arwzq0D99nXghDPKQOLplbKkfsdAt9EA3mrXvUC6SQwCp57hQJVliGMdvpVAc9cS8n2c0UCBJsKG+ybVQM\\u002f3U+PHneJAHhZqTe0R0EBZ+tAFP17aQNXnaitKT81AvsEXJvan5ECXHHdKX0vUQM9m1efq1rZADeAtkEQ3wEAOLbKdb7eTQCcxCKw0KMdAU9DtJSmT3UCdEaW9odGoQPOOU3QUCrJAf2q8dG\\u002f4xECoV8oyJLSgQOM2GsAHgsFA5dAi2xElwkA9CtejgGHCQEI+6Nm0Zr1A8tJNYgClwEA5C3vanzLQQPCnxks3Rs1Aq8\\u002fVVqx+mUB1kxgEZhjCQNxGA3jrk79AysNCrVWyzEAUrkfhug7EQM\\u002f3U+NleKlA7uvAOXNCxkBHcvkPGVmwQM\\u002f3U+PVrcBAINJvX4f8uUBkzF1L6NSvQGaIY11cVZlAzTtO0bMi00B\\u002f+zpw0jvMQGq8dJMY2LNAsHJokc2toEBGJXUCurG8QD81Xrp52sFA46WbxBAs0kDmriXkIynMQNJvXweeRdxANxrAWyjl5kDcRgN448DmQIPAyqGqGuNATRWMSspOpUDXo3A9KoTBQM6qz9VuHsNARiV1AhKbuUB7FRkdvJu8QMPTK2XpvqhAYVRSJzBd0kC5cCAkvYrWQM6I0t5oKrNAAiuHFrlRt0Bcj8L1GK\\u002fIQAFNhA2Xk7BA8IXJVOkvy0By+Q\\u002fpl52hQGq8dJPYJrdA2\\u002fl+akSYyECDwMqhpaKmQMpUwahEgrJARIts5+sa4kDyQc9mlfWRQLvtQnP5n9tAMLsnD1V\\u002f2UDdJAaBFbG8QIqO5PJ\\u002f3chAbxKDwAJfxkBt5\\u002fup8Ra3QGIQWDlUmrJACKwcWkRYvUBLyAc9e4CvQPp+arx0xp5ArIvbaCCmm0D129eBY06yQLu4jQZASdVAGlHaG\\u002fw0x0BiodY0YyDHQPp+ary0tMRAUrgehasCvkBMpgpGvUbEQF66SQwCoNVAImx4eim\\u002fzUCWIY51tc7FQOxRuB4lgJlA\\u002fyH99n0Q00AQWDm0WNTJQDcawFuwschAZ9Xnaju+1kDiWBe3MTKhQOC+DpwTgqNAPL1SlvE2oUCPwvUo3EGbQADjGTSyY9RAukkMApPJ2ED0bFZ9KjHcQJPjTulwKeFAmpmZmcnMo0CHFtnON\\u002fmXQB3J5T8kgZxAj8L1KJhhzkCI9NvXWSzCQC\\u002fdJAbBWJlAEFg5tAhMw0DLoUW2g63CQF3+Q\\u002foF+7BAi\\u002f1l96xdyEA5tMh2vpeTQGDI6lak3udA2qz6XP1uxEBqvHSTGFObQNwuNNdF8NdA7zhFR\\u002fIooUDByqFFBo\\u002fIQFg5tMiGhdFAejarPhe8nkCDwMqhpUOzQIcW2c73W79AiIVa04wJwEBI4XoUbk\\u002fKQH0\\u002fNV62rOFACYofY161ukCUh4Vah7LVQBKDwMoVyd9Axf6ye2JWt0BGtvP93Iy6QPT91HiJpqRAiUFg5TAKqEB5WKg1bcinQHE9CtejX8ZASL99HYD5xkDtnjws1ISjQCsYldSpSMJABFYOLTKhk0DXo3A9ipbUQD0K16NgMcZArkfhehIT20A17zhFu27AQHE9CtfDeLRA+n5qvIQjrkCtUQ\\u002fRJA7ZQHUCmghbNK9AGCZTBSdFw0BxGw3gnRW1QPZdEfyyrOJA78nDQlFtxkBEozuI637XQDMzMzODQsNAH4XrUXRLwEDcaABvAbCaQCSX\\u002f5BwxOdAAG+BBL1ty0AhsHJo8T7JQBZNZyetw9JAQKTfvo4Dy0DFILByILO3QOOlm8RgVLdAukkMAos8wUCuR+F6jBTAQIleRrGCtNpAnMQgsHI0uEAoDwu1xuCnQDEIrByaH8tADAdCsk0j70CjI7n8v\\u002fvDQNuK\\u002fWXPP9dAUdobfLGJqUDP91PjNYnGQPRsVn0+G6lA9ihcj+Zk5kA730+NRyfKQDlFR3LZCa9Ad76fGo9OyUCk374O1NnFQAq6vaS5ddFAAiuHFlkPrkDcRgN4S0fAQBpR2htcvq5A9+Rhoe2F40Bd3EYDuLmZQNnO91Pr9MFAUPwYc\\u002fdVxUAGgZVDC3yjQCJseHpdscFAaQBvgYTipUDi6ZWy3KCgQG1Wfa6O5bhAveMUHblYvEDLoUW2c5DGQOJYF7fAUOZA3SQGgZVirUDmriXk41ahQBgmUwWjkbJAVfZdEQDh3kAeFmpNB9TJQACRfvty38dAVHQkl\\u002f8DmkCH4SNiYpnsQHE9CtdD\\u002fsJAxyk6kvsMqUBGlPYG\\u002fzjJQINRSZ1AnplAB1+YTEXUuEBEwCFUjzbRQCUGgZVDa5NAYTJVMJqrskA2qz5XayquQAHeAgn8dOVADwu1ptGhykC1N\\u002fjC1Fi3QGq8dJM4IcdAzojS3gh2wEB0JJf\\u002f8AykQDeJQWCN\\u002f81Adk8eFipNtkAEVg4t\\u002fjvBQOwvuydP2L1AxSCwctjatUBMN4lBgBG9QKoOuRn\\u002fV+BAxY8xdy2EmUDarPpcEevBQK5H4XpEn8VAH4XrUZBqz0CitDf4Pg\\u002fRQC2yne\\u002fHIcJAsHJokT3Nq0Dl8h\\u002fSsRPZQEi\\u002ffR0YU7FAGy\\u002fdJC4p40DdtYR82LHAQAaBlUOLq7lAMZkqGGU\\u002foUA\\u002fNV66CWG6QOF6FK5HYJ1AqoJRSTv75EC0WfW5DsXGQLpJDAKjwtZAlWWIY\\u002fvQ4EBQjZdu0uzEQNV46SaxlqxAWmQ738ee40ApXI\\u002fCFe\\u002fBQCzUmuY65+BAa5p3nM6wx0DnjCjt7TCtQGUZ4liXXLpAcjPcgFsfxkDl0CLb+TLGQCcxCKzu\\u002fORANV66Seyyw0D2KFyPQueeQEMc6+JWTapAMuauJVwFvEA1XrpJrFfCQE2EDU93JcxA2PD0SjkqpUDHgOz1wlTYQPjCZKpUrdNA5q4l5JNKyUDufD81Pgq6QInvxKxuAuBA+aBns+6ryUC8BRIUn3KxQCNnYU+JXdJA3GgAb5HOw0D3deCckeu3QCBB8WMkHsBAxSCwcujAmkDSb18HekfIQCegibBxJMNAukkMAtupxECcM6K0TyzAQLx0kxjEp8BAF9nO90Pqx0BCYOXQ2hbYQM\\u002f3U+OlpKpAEhQ\\u002fxmy1r0BeY5eoEMbZQHRGlPYyHcxAhJ7Nqp8juUCwOJz5G6zVQMWPMXeNHLRAF0hQ\\u002fJjBkUBSSZ2AemfaQIY41sUNyORAfT81Xrr\\u002fwECDwMqhaojjQA8LtabGUeZAIEHxYzxkuUB24JwRleWyQBTQRNgwz65AYOXQIrsvsUCP5PIfUim4QGlv8IUfj+ZAexSuR8k2vECvJeSD5mLIQCuHFtlQhuZAdZMYBMYlyEAdyeU\\u002fZNbDQD81XrqJMqRA16NwPQppk0CuR+F6\\u002fJTjQCBB8WO8Q8NAg8DKoQWeskDuWkI+MPbFQGQ730+lMb5Ab4EExb8+tUCqfToeJZ\\u002fZQIv9ZffO\\u002fuBAvJaQDzpwoEDD9ShcL4S\\u002fQEymCkZ1dKJAn6ut2O9hokBoke18\\u002f\\u002fOrQDsBTYR9AqlAOnr83p6A3ECyne+nNKrjQH9qvHQfcMVArrZifzlZq0BTliGONZKfQF5LyAfZosJA+Q\\u002fptyeQwkBSSZ2AVgm1QD2bVZ93ccFAPzVeugn\\u002ftECjkjoBDa7lQMiYu5Y4DMRAvsEXJjvht0AnoImwAV21QFyPwvUo\\u002fppAwOyePJy9w0A4Z0RpazvAQBsN4C3QAZ9AL90kBgEzo0A1XrpJfLnHQM6qz9V+r8JATx4Wak2cyUDtDb4wETDFQGrecYrO48dAGeJYF9dJw0CR7Xw\\u002fRQDGQPyp8dKtWclA0SLb+f68k0C+nxovEb3DQLTIdr6N\\u002fONAsVBrmq8IukChZ7PqbUTQQLaEfNAzU6FAPujZrFp9ukDQ1Vbsf+jSQKAaL920qMNAZDvfT+2KsEBHA3gLoHPCQNv5fmqcW8tAwoanV\\u002fK3wkBrmnecYLzjQPT91HipOKtAwFsgQaOr4UCnrnyWLsXlQFtCPug9zsBAy6FFtp\\u002fR0UCsrdhfzR7lQFInoImwW61At9EA3po9wUC8lpAPLlvDQMUDyqbs7MZABaOSOiFtmUC8dJMYdLbAQGIQWDkE7adAO99Pjc8U00ArhxbZbsmdQCV1AppEwctA1QloIuQcx0BfDOVEG7rQQKOSOgFFp7NAPQrXo9Axv0Bbsb\\u002fsWobWQE0VjEq6NLVADXGsi3m64UCoV8oyhKuuQFyPwvXo4aJA001iEDiY0kCNKO0Nnv2nQPp+aryIw8FAcT0K108hx0AlBoGVw36\\u002fQAisHFqkirtAF9nO94P3y0B1kxgEPhW7QL\\u002fxtWdSSdtAcT0K12PHxUBLAtTUmv7IQE+vlGUgVdFAVg4tsr1dvEC5jQbwPqDEQFCNl26ySrtAOGdEaWcYvUAFo5I6YS63QJwzorTnRsNA\\u002fKnx0s3U0UD5D+m3L+uRQGx4eqUUVcJAiUFg5RDy10AQ6bevg\\u002f6wQLByaJEtDrlA3GgAb5XiyEAwTKYKRvWdQEp7gy+UWbRAAJF++\\u002fpIykCamZmZOR62QOOlm8SgkZNA097gC9NXpUAIrBxa9LLUQCzUmuZ9KbxAaJHtfK\\u002fh0UCtad5xKqqwQHgLJCiGb7JAXrpJDBIkx0BX7C+7IXzRQCxlGeK4hrtATfOOU+z0y0Bcj8L1KG6gQERpb\\u002fAV8eJARPrt64BfnEDgvg6c2zO+QDl\\u002fEwovz9tAy6FFtsOxoECdgCbCBq6RQJ\\u002fNqs+V26lAKVyPwnVjwkBO0ZFc\\u002fti4QAMJih\\u002fbgsVAwTkjSuNMsUBj7lpCTtC1QJwzorS3V51A3SQGgYU1pkDVeOkmMRusQLByaJFT2tZAAtnr3ezr6kC6SQwC6xW9QDBMpgrm8aRAuECC4odXmUDUK2UZmg3AQE8eFmrNdchAK4cW2Ypiz0DiWBe3u2TlQARWDi1oSdRAXkvIB61V40DfT42XfuW3QOOlm8TgKMpAayv2l12StEDecYqOvG+yQJm7lpD378ZAHHxhMnUBtUDecYqOVPi7QPhT46U7MrFAjErqBNzExkCx4emVSgK5QNEi2\\u002fkWp8hAaJHtfD\\u002fZl0CHFtnO9xHIQDcawFugluFAIR\\u002f0bHrj2kDT3uALB6zDQGq8dJMe+uVAPzVeullIw0B6pSxDHAyjQJhuEoNAPKdAc2iR7dC0xEDlYaHWxDLiQMP1KFzPk8tANe84RfWP5EDRItv51ujGQH4dOGe6itdATDeJQWBNnUBkXdxGxQHkQNXnaiv+5M5A+rg2VIrK0UACK4cWuWrFQAisHFowhOZAO99PjRfvu0Ay5q4l2PbHQOauJeQLUrVA6SYxCDwnwUDb+X5qXMi5QMxdS8jH1ZFAPQrXoxCcxkBjf9k9zaTJQP7UeOmmJ7FAEFg5tOiEwEAAkX77uoCqQHh6pSzjTrdAsp3vpwbBukDl0CLbkV3BQJJc\\u002fkM6BKVAMLsnDxeH2UCgibDhyf25QI\\u002fC9Sg8irhAy6FFtvOnuEDjpZvEIOaqQJVliGMdyqVAr5RliLMzpECamZmZ45XmQL7BFyb7DbNAIv32dexB00CLbOf7m5TaQKOSOgEtmLRA2c73U2NKmkAXSFD8kFTHQET67eu+pNxAB\\u002fAWSNBLvEDwhclUdVvEQBWMSupUleVA4C2QoIB5ykAv3SQG8YPJQIBIv32DVdNAdCSX\\u002fyBboUAbnl4pS4qZQIBIv32tiqBAFvvL7m34wECgibDhMcTnQDbNO05JNbJAtvP91Mi9v0CsHFpkS7LIQNIA3gIx1LFAak3zjuvuskB\\u002f2T15uNG9QLbz\\u002fdQIoc1AJQaBlRMW0UD\\u002fIf32FZ6kQEVHcvmVeOBAnYAmwloXzEDufD81\\u002fsq9QAHeAgmCibRAMLsnD6tSo0CaCBuelEPVQPZdEfyrH+FAz\\u002fdT4\\u002fV4yUB2Tx4WOn20QA4tsp2PRcpA9ihcj0JLykCNl24SQ3C1QJAxdy1p4LBAw\\u002fUoXG9quECzJEBNVb3YQNnO91Mjw6ZAPzVeuimAx0B0RpT2Zk\\u002fKQMBbIEHBkbhAGsBbICHepkA1XrpJTF64QI\\u002fC9Sh8uMNACKwcWiS0vEB+HThnZEGyQIts5\\u002fvp5MdAyZOkaypb30Dl0CLb5YLBQBrAWyABAKJAC0YlddKHwkDmP6TffoeRQHxhMlXIpsJA1sVtNPBSoUC\\u002fDpwz4nGZQOhqK\\u002fZvW8lAPQrXoxDNxkDTTWIQGPi7QOxRuB7pEONA+1xtxcbWuEBkO99PXXfTQG3F\\u002frJvh8ZAVOOlm9ws50DOqs\\u002fVLq+xQPT91HjRCuNAx7q4jWiK00D9h\\u002fTbd0euQD0K16PwgeRAcxHfifGgyEDrc7UVRwnkQK1RD9E6zdtAv30dODdUpUAhsHJokTKqQGZmZmZWRcxAfdCzWUmOwkBnYU87xtjZQNNNYhBYirJAryXkg9hn10D0bFZ9Bl69QOLplbK8n6lA0LNZ9WnKwEB6xyk6UufEQDcawFtggLNAvsEXJqO\\u002fo0AxCKwcWn2bQE7RkVw+JaJA9bnaimGFz0ACK4cWKXy+QKabxCDQraZADJOpglX0wkB+jLlrCRmzQHbDtkVH69hAK4cW2VaUsUDb+X5q\\u002fL\\u002fSQPuWOV0aZ9BAqmBUUg8zs0B7FK5Hoci9QOlILv8FbcBAdk8eFgyt20BSuB6F06axQKMBvAXydcxAuB6F69FlqkDlYaHW3Oi7QMHKoUU2w8NAbAn5oHdstUAPC7WmHwnQQG3n+6l5Mr9Ag8DKoYX6vEAX2c73+x\\u002fLQLu4jQbAl7lAOUVHctGTtEBeS8gHcfTQQP7UeOka1eBAzczMzMzTnkDY2CWqC7zUQO\\u002fJw0LF2cBAqaROQGNRsUDEsS5uQ1axQNUJaCLOVNhAvhOzXl6y1kBmiGNd3HLDQIPAyqGFJsBAkQ96Nu9T0kCIaHQHidzhQFpkO9+fHsFAqMZLN4kHtUBGlPYGf67HQLivA+d8KqVAMQisHNonr0AFo5I6pWfIQIzWUdW8aNlARIts50svwUDmP6TfcmHhQApoImxknORAIo51cRu8mkDZX3ZP7rzAQJHtfD+1kJ9A78nDQrkQ0EDmeXB32BbVQPCnxks3PcNAz2bV5\\u002frdukADeAskUivVQFYOLbL5sOVAn82qz4UpsEBVMCqp79nKQL3jFB0JS8lAvp8aLz2fx0DDZKpgjk3iQPaX3ZOwZeNAPZtVn6uVoUDJsIo3avfVQBBYObS2wtNALSEf9MyimkC+wRcmeljgQMUgsHLosqhAIEHxYwhBxkCuR+F6NF7VQKvP1VYMnbxAKe0Nvqy65UALtaZ5VxSsQPhT46XzZeNAPujZrCJXv0A4Z0RpRx3MQGfV52oDJMJA8KfGS1+32ECeXinL8DKqQKhXyjJAscRA5\\u002fup8cIqwEAmAWpqU4LRQAdfmEz1YaNAQYLix7husUAr9pfdU\\u002faeQLG\\u002f7J4ckcZA0NVW7Efp50AW+8vuMZS5QKJFtvPdTLZAtMh2vn+Fu0A\\u002fV1uxF4nBQIj029dpfbZA2qz6XO0GzEAnMQisbFjFQFInoIn2d+NA2V92TzpLy0AaUdobHNadQJSHhVpToMdADeAtkCTKyUD2l92T19KxQNv5fmqss8BAgSbChodsoEA\\u002fxty1BO7gQH4dOGfEnM1An5PeNwY2x0C8BRIUZ2axQKRwPQrn37ZAObTIdv7Yr0CqglFJ4VXNQD0K16PQk9JAtvP91CwWxUBJLv8hnSzGQN5xio50CsNAYOXQIouoxED3Bl+YglnkQC0hH\\u002fREC8ZAKVyPwvUOrEDHSzeJcY7gQESLbOerEcZATDeJQTDRsUAHzhlRJszlQAu1pnmHKppAEyf3O2SB1kAXt9EAPjapQJYhjnUTYtBAz\\u002fdT47X6xUDiWBe30R6rQB3J5T+kMcZA4umVsibx00B6Nqs+dzHEQB+F61EUjsFAR3L5D\\u002fl+xEAZBFYOLbCmQMHKoUWuzsBAcT0K1zN8xkCfzarPp3vkQLTIdr47nddAOiNKeyvAtEBfB84ZMbiiQAYSFD++G8VAr5RliDMDwkA3GsBbkqPhQIts5\\u002ftXseJA7nw\\u002fNW49tkD6fmq8yK7gQF5LyAeVTcBAeAskKK7I5kC77UJz33XSQPLSTWIG+eNAt2J\\u002f2U3Xy0AhsHJoUfPDQNc07ziFzLZA0hitoy4LzEAMAiuHlgObQMoyxLEmw8BAYOXQItvarECzJEBNQTnUQFkXt9GEg8NAkq6ZfFU200ClLEMcy6bFQFTjpZuEx71AHhZqTZPQqEDdJAaBtfCsQCswZHVXBOJAl\\u002f+QfgOswUAIrBxahBK\\u002fQNttF5p\\u002fe9pAlIeFWhPCuEBCYOXQMs\\u002fCQIts5\\u002fuNDMZAtOVcitqt6UDu68A5I6uhQBSuR+H6E8VAYOXQIrtbt0D7OnDOeDehQGfV52rr5cdASS7\\u002fIan940B5WKg1df61QE7RkVyWg8VAYqHWNDc8vECJ0t7gV2XjQGiz6nMJLcxAs3vysHA3o0DfT42XriuvQFkXt9FAL75AwaikTjAEtEBivrwAy4TSQMPTK2WpMaFAQfFjzI3xu0DsUbge\\u002fWu0QL4wmSpAc8VAMQisHHqxsUBxPQrXoz6yQCBj7lpa4LdAswxxrKvG0EBmZmZmpvPVQFfsL7vPqsVAcvkP6dc5uUBoImx46lGxQLbz\\u002fdS41KBAxEKtaepT10BCYOXQ4mC5QJhMFYz6pqZA4L4OnJfl0kBI4XoUxuK9QEjhehReRaZARIts5\\u002fuRpED\\u002fsnvysHPCQEvIBz0P5tFAw9MrZenNwEAAAAAAK0viQDBMpgpmCstAW0I+6NVC1UBWfa62VqPJQDm0yHZmz7RAecxAZbzOykCDUUmdlG3JQK5H4XqY78BAjnVxGxUmsEDg88MIrWXSQFRSJ6BxQ+BAZmZmZtZDtkDF\\u002frJ7mvm4QK5H4Xq0RrNAIv32dcA2uEBOYhBYnQ7BQPH0SlmmDqBA4XoUrgd2w0D99nXg3MvRQOviNhqA\\u002fLNAoFT7dNMF4kBKDAIr78HiQO\\u002fJw0I30tNAdZMYBJYdyECR7Xw\\u002fXf20QLbWFwnBAtdAescpOtKZmkCsHFpkaxvFQJkqGJUk6K5AT0ATYQctyUAdOGdEqSe1QCKOdXE7tK9ABoGVQ7NX5EDQs1n1KXG9QBpR2hs0brJAj+TyH4LBuUA3iUFgVX3AQJWCbi9rg9lAKcsQx3rKukADeAskqLuyQDojSnuL8LlAAwmKHwP6u0Bb07zjHLHEQLU3+MIgUcdAw7tcxKxO7UAe+YOB1bHTQECk377aX8hAUI2XbsIoxkC94xQd4aHAQF1txf4iF6VA2qz6XO04zEDnHafoLODHQLWmeceBSbtAvAUSFN9MqUDZzvdTuxTnQBx8YTI1NehArfpcbUXIsECfPCzUOseoQGRd3EbDv5FAObTIdl7vtUAbL90k5sbBQDVeukksq7dALGUZ4tiHmUBDHOvi8FziQC7\\u002fIf0aNtJA9ihcj0Jmk0Db+X5qbLTPQBLaci5p6s5Am+Ydpyg\\u002fsUDZzvdTA0q5QMX+snteVsZAPZtVn\\u002fcUxkDsL7sn5VvdQPwYc9fi6sNAGlHaGzzAsUBQjZduUpqpQHsUrkcxcrpAaJHtfL+pvED7OnDOdEHEQET67eugS9pAj8L1KDzoxEAoDwu1wbngQJzEILDyYZ1AZmZmZqbTwECSy39ID7mpQB6n6Eiem6dAY+5aQipHzED1udqKDYuyQLdif9nVpNBA16NwPapnxUA3iUFg5WulQHh6pSwLBbFAzczMzILv1UAtIR\\u002f0HF2wQDJ3LSHXLcBAKA8Ltez110Dkg57NuuXLQGEyVTBq4ZpAj8L1KHwl50C62or9VavAQHZxGw1AKa1A5\\u002fup8XJgtUAxCKwcErniQIy5awl567tApHA9Cufdu0BzaJHtlAHhQJAxdy1hrZdArK3YX\\u002fIqwkDpJjEIkE3HQIXrUbges55AF9nO97OzmkDOiNLecPSwQBsN4C14jbRANKK0N6gtpUCPcFrwG5DuQGIQWDnFz+ZA5\\u002fup8ZIRqUB4eqUst3jiQGEyVTDYwtRAiIVa0zxBo0DRItv5pnnPQFXBqKQe+NRAiUFg5ZSN4EB1kxgE9tu6QET67evoHLtAnRGlvWnbsUCq8dJNQrixQFCNl26yxeFA0m9fB3hT0kAczvxqKgTGQJHtfD+1DptAcF8HztktkkCRm+EGLgrTQGfV52qzIbxAXf5D+gUxtUB88rBQVXHbQB3J5T+sWslAMEymCgxv5UDG3LWE5I+wQBniWBerq8lAaLPqcwWKu0BYqDXN81DCQBjPoKHv3tVAfT81XpoqxEAcfGEylarIQMjvbfr3FcVA4XoUrtdJxkAzxLEuRrTEQNXnaiv2O6FA3SQGgVV3mUDhehSux1+fQDC7Jw9XddxA\"},\"yaxis\":\"y\",\"type\":\"scattergl\"}],                        {\"template\":{\"data\":{\"histogram2dcontour\":[{\"type\":\"histogram2dcontour\",\"colorbar\":{\"outlinewidth\":0,\"ticks\":\"\"},\"colorscale\":[[0.0,\"#0d0887\"],[0.1111111111111111,\"#46039f\"],[0.2222222222222222,\"#7201a8\"],[0.3333333333333333,\"#9c179e\"],[0.4444444444444444,\"#bd3786\"],[0.5555555555555556,\"#d8576b\"],[0.6666666666666666,\"#ed7953\"],[0.7777777777777778,\"#fb9f3a\"],[0.8888888888888888,\"#fdca26\"],[1.0,\"#f0f921\"]]}],\"choropleth\":[{\"type\":\"choropleth\",\"colorbar\":{\"outlinewidth\":0,\"ticks\":\"\"}}],\"histogram2d\":[{\"type\":\"histogram2d\",\"colorbar\":{\"outlinewidth\":0,\"ticks\":\"\"},\"colorscale\":[[0.0,\"#0d0887\"],[0.1111111111111111,\"#46039f\"],[0.2222222222222222,\"#7201a8\"],[0.3333333333333333,\"#9c179e\"],[0.4444444444444444,\"#bd3786\"],[0.5555555555555556,\"#d8576b\"],[0.6666666666666666,\"#ed7953\"],[0.7777777777777778,\"#fb9f3a\"],[0.8888888888888888,\"#fdca26\"],[1.0,\"#f0f921\"]]}],\"heatmap\":[{\"type\":\"heatmap\",\"colorbar\":{\"outlinewidth\":0,\"ticks\":\"\"},\"colorscale\":[[0.0,\"#0d0887\"],[0.1111111111111111,\"#46039f\"],[0.2222222222222222,\"#7201a8\"],[0.3333333333333333,\"#9c179e\"],[0.4444444444444444,\"#bd3786\"],[0.5555555555555556,\"#d8576b\"],[0.6666666666666666,\"#ed7953\"],[0.7777777777777778,\"#fb9f3a\"],[0.8888888888888888,\"#fdca26\"],[1.0,\"#f0f921\"]]}],\"contourcarpet\":[{\"type\":\"contourcarpet\",\"colorbar\":{\"outlinewidth\":0,\"ticks\":\"\"}}],\"contour\":[{\"type\":\"contour\",\"colorbar\":{\"outlinewidth\":0,\"ticks\":\"\"},\"colorscale\":[[0.0,\"#0d0887\"],[0.1111111111111111,\"#46039f\"],[0.2222222222222222,\"#7201a8\"],[0.3333333333333333,\"#9c179e\"],[0.4444444444444444,\"#bd3786\"],[0.5555555555555556,\"#d8576b\"],[0.6666666666666666,\"#ed7953\"],[0.7777777777777778,\"#fb9f3a\"],[0.8888888888888888,\"#fdca26\"],[1.0,\"#f0f921\"]]}],\"surface\":[{\"type\":\"surface\",\"colorbar\":{\"outlinewidth\":0,\"ticks\":\"\"},\"colorscale\":[[0.0,\"#0d0887\"],[0.1111111111111111,\"#46039f\"],[0.2222222222222222,\"#7201a8\"],[0.3333333333333333,\"#9c179e\"],[0.4444444444444444,\"#bd3786\"],[0.5555555555555556,\"#d8576b\"],[0.6666666666666666,\"#ed7953\"],[0.7777777777777778,\"#fb9f3a\"],[0.8888888888888888,\"#fdca26\"],[1.0,\"#f0f921\"]]}],\"mesh3d\":[{\"type\":\"mesh3d\",\"colorbar\":{\"outlinewidth\":0,\"ticks\":\"\"}}],\"scatter\":[{\"fillpattern\":{\"fillmode\":\"overlay\",\"size\":10,\"solidity\":0.2},\"type\":\"scatter\"}],\"parcoords\":[{\"type\":\"parcoords\",\"line\":{\"colorbar\":{\"outlinewidth\":0,\"ticks\":\"\"}}}],\"scatterpolargl\":[{\"type\":\"scatterpolargl\",\"marker\":{\"colorbar\":{\"outlinewidth\":0,\"ticks\":\"\"}}}],\"bar\":[{\"error_x\":{\"color\":\"#2a3f5f\"},\"error_y\":{\"color\":\"#2a3f5f\"},\"marker\":{\"line\":{\"color\":\"#E5ECF6\",\"width\":0.5},\"pattern\":{\"fillmode\":\"overlay\",\"size\":10,\"solidity\":0.2}},\"type\":\"bar\"}],\"scattergeo\":[{\"type\":\"scattergeo\",\"marker\":{\"colorbar\":{\"outlinewidth\":0,\"ticks\":\"\"}}}],\"scatterpolar\":[{\"type\":\"scatterpolar\",\"marker\":{\"colorbar\":{\"outlinewidth\":0,\"ticks\":\"\"}}}],\"histogram\":[{\"marker\":{\"pattern\":{\"fillmode\":\"overlay\",\"size\":10,\"solidity\":0.2}},\"type\":\"histogram\"}],\"scattergl\":[{\"type\":\"scattergl\",\"marker\":{\"colorbar\":{\"outlinewidth\":0,\"ticks\":\"\"}}}],\"scatter3d\":[{\"type\":\"scatter3d\",\"line\":{\"colorbar\":{\"outlinewidth\":0,\"ticks\":\"\"}},\"marker\":{\"colorbar\":{\"outlinewidth\":0,\"ticks\":\"\"}}}],\"scattermap\":[{\"type\":\"scattermap\",\"marker\":{\"colorbar\":{\"outlinewidth\":0,\"ticks\":\"\"}}}],\"scattermapbox\":[{\"type\":\"scattermapbox\",\"marker\":{\"colorbar\":{\"outlinewidth\":0,\"ticks\":\"\"}}}],\"scatterternary\":[{\"type\":\"scatterternary\",\"marker\":{\"colorbar\":{\"outlinewidth\":0,\"ticks\":\"\"}}}],\"scattercarpet\":[{\"type\":\"scattercarpet\",\"marker\":{\"colorbar\":{\"outlinewidth\":0,\"ticks\":\"\"}}}],\"carpet\":[{\"aaxis\":{\"endlinecolor\":\"#2a3f5f\",\"gridcolor\":\"white\",\"linecolor\":\"white\",\"minorgridcolor\":\"white\",\"startlinecolor\":\"#2a3f5f\"},\"baxis\":{\"endlinecolor\":\"#2a3f5f\",\"gridcolor\":\"white\",\"linecolor\":\"white\",\"minorgridcolor\":\"white\",\"startlinecolor\":\"#2a3f5f\"},\"type\":\"carpet\"}],\"table\":[{\"cells\":{\"fill\":{\"color\":\"#EBF0F8\"},\"line\":{\"color\":\"white\"}},\"header\":{\"fill\":{\"color\":\"#C8D4E3\"},\"line\":{\"color\":\"white\"}},\"type\":\"table\"}],\"barpolar\":[{\"marker\":{\"line\":{\"color\":\"#E5ECF6\",\"width\":0.5},\"pattern\":{\"fillmode\":\"overlay\",\"size\":10,\"solidity\":0.2}},\"type\":\"barpolar\"}],\"pie\":[{\"automargin\":true,\"type\":\"pie\"}]},\"layout\":{\"autotypenumbers\":\"strict\",\"colorway\":[\"#636efa\",\"#EF553B\",\"#00cc96\",\"#ab63fa\",\"#FFA15A\",\"#19d3f3\",\"#FF6692\",\"#B6E880\",\"#FF97FF\",\"#FECB52\"],\"font\":{\"color\":\"#2a3f5f\"},\"hovermode\":\"closest\",\"hoverlabel\":{\"align\":\"left\"},\"paper_bgcolor\":\"white\",\"plot_bgcolor\":\"#E5ECF6\",\"polar\":{\"bgcolor\":\"#E5ECF6\",\"angularaxis\":{\"gridcolor\":\"white\",\"linecolor\":\"white\",\"ticks\":\"\"},\"radialaxis\":{\"gridcolor\":\"white\",\"linecolor\":\"white\",\"ticks\":\"\"}},\"ternary\":{\"bgcolor\":\"#E5ECF6\",\"aaxis\":{\"gridcolor\":\"white\",\"linecolor\":\"white\",\"ticks\":\"\"},\"baxis\":{\"gridcolor\":\"white\",\"linecolor\":\"white\",\"ticks\":\"\"},\"caxis\":{\"gridcolor\":\"white\",\"linecolor\":\"white\",\"ticks\":\"\"}},\"coloraxis\":{\"colorbar\":{\"outlinewidth\":0,\"ticks\":\"\"}},\"colorscale\":{\"sequential\":[[0.0,\"#0d0887\"],[0.1111111111111111,\"#46039f\"],[0.2222222222222222,\"#7201a8\"],[0.3333333333333333,\"#9c179e\"],[0.4444444444444444,\"#bd3786\"],[0.5555555555555556,\"#d8576b\"],[0.6666666666666666,\"#ed7953\"],[0.7777777777777778,\"#fb9f3a\"],[0.8888888888888888,\"#fdca26\"],[1.0,\"#f0f921\"]],\"sequentialminus\":[[0.0,\"#0d0887\"],[0.1111111111111111,\"#46039f\"],[0.2222222222222222,\"#7201a8\"],[0.3333333333333333,\"#9c179e\"],[0.4444444444444444,\"#bd3786\"],[0.5555555555555556,\"#d8576b\"],[0.6666666666666666,\"#ed7953\"],[0.7777777777777778,\"#fb9f3a\"],[0.8888888888888888,\"#fdca26\"],[1.0,\"#f0f921\"]],\"diverging\":[[0,\"#8e0152\"],[0.1,\"#c51b7d\"],[0.2,\"#de77ae\"],[0.3,\"#f1b6da\"],[0.4,\"#fde0ef\"],[0.5,\"#f7f7f7\"],[0.6,\"#e6f5d0\"],[0.7,\"#b8e186\"],[0.8,\"#7fbc41\"],[0.9,\"#4d9221\"],[1,\"#276419\"]]},\"xaxis\":{\"gridcolor\":\"white\",\"linecolor\":\"white\",\"ticks\":\"\",\"title\":{\"standoff\":15},\"zerolinecolor\":\"white\",\"automargin\":true,\"zerolinewidth\":2},\"yaxis\":{\"gridcolor\":\"white\",\"linecolor\":\"white\",\"ticks\":\"\",\"title\":{\"standoff\":15},\"zerolinecolor\":\"white\",\"automargin\":true,\"zerolinewidth\":2},\"scene\":{\"xaxis\":{\"backgroundcolor\":\"#E5ECF6\",\"gridcolor\":\"white\",\"linecolor\":\"white\",\"showbackground\":true,\"ticks\":\"\",\"zerolinecolor\":\"white\",\"gridwidth\":2},\"yaxis\":{\"backgroundcolor\":\"#E5ECF6\",\"gridcolor\":\"white\",\"linecolor\":\"white\",\"showbackground\":true,\"ticks\":\"\",\"zerolinecolor\":\"white\",\"gridwidth\":2},\"zaxis\":{\"backgroundcolor\":\"#E5ECF6\",\"gridcolor\":\"white\",\"linecolor\":\"white\",\"showbackground\":true,\"ticks\":\"\",\"zerolinecolor\":\"white\",\"gridwidth\":2}},\"shapedefaults\":{\"line\":{\"color\":\"#2a3f5f\"}},\"annotationdefaults\":{\"arrowcolor\":\"#2a3f5f\",\"arrowhead\":0,\"arrowwidth\":1},\"geo\":{\"bgcolor\":\"white\",\"landcolor\":\"#E5ECF6\",\"subunitcolor\":\"white\",\"showland\":true,\"showlakes\":true,\"lakecolor\":\"white\"},\"title\":{\"x\":0.05},\"mapbox\":{\"style\":\"light\"}}},\"xaxis\":{\"anchor\":\"y\",\"domain\":[0.0,1.0],\"title\":{\"text\":\"x\"}},\"yaxis\":{\"anchor\":\"x\",\"domain\":[0.0,1.0],\"title\":{\"text\":\"y\"}},\"coloraxis\":{\"colorbar\":{\"title\":{\"text\":\"color\"}},\"colorscale\":[[0.0,\"#0d0887\"],[0.1111111111111111,\"#46039f\"],[0.2222222222222222,\"#7201a8\"],[0.3333333333333333,\"#9c179e\"],[0.4444444444444444,\"#bd3786\"],[0.5555555555555556,\"#d8576b\"],[0.6666666666666666,\"#ed7953\"],[0.7777777777777778,\"#fb9f3a\"],[0.8888888888888888,\"#fdca26\"],[1.0,\"#f0f921\"]]},\"legend\":{\"tracegroupgap\":0},\"margin\":{\"t\":60}},                        {\"responsive\": true}                    )                };            </script>        </div>"
      ],
      "text/plain": [
       "Figure({\n",
       "    'data': [{'hovertemplate': 'x=%{x}<br>y=%{y}<br>color=%{marker.color}<extra></extra>',\n",
       "              'legendgroup': '',\n",
       "              'marker': {'color': {'bdata': ('AQAAAAAAAAAAAAABAAABAAAAAAEAAA' ... 'AAAAAAAAEAAQAAAAAAAAAAAAAAAAAB'),\n",
       "                                   'dtype': 'i1'},\n",
       "                         'coloraxis': 'coloraxis',\n",
       "                         'symbol': 'circle'},\n",
       "              'mode': 'markers',\n",
       "              'name': '',\n",
       "              'showlegend': False,\n",
       "              'type': 'scattergl',\n",
       "              'x': {'bdata': ('ExIcISAfLiUlPBk+FzgbEzQXOB48Hh' ... 'ITEiMnHz4+Kh89KjMXNDkXNDISEhU9'),\n",
       "                    'dtype': 'i1'},\n",
       "              'xaxis': 'x',\n",
       "              'y': {'bdata': ('YOXQIjt90EBTliGONfaaQMHKoUV2Yb' ... 'QGgVV3mUDhehSux1+fQDC7Jw9XddxA'),\n",
       "                    'dtype': 'f8'},\n",
       "              'yaxis': 'y'}],\n",
       "    'layout': {'coloraxis': {'colorbar': {'title': {'text': 'color'}},\n",
       "                             'colorscale': [[0.0, '#0d0887'], [0.1111111111111111,\n",
       "                                            '#46039f'], [0.2222222222222222,\n",
       "                                            '#7201a8'], [0.3333333333333333,\n",
       "                                            '#9c179e'], [0.4444444444444444,\n",
       "                                            '#bd3786'], [0.5555555555555556,\n",
       "                                            '#d8576b'], [0.6666666666666666,\n",
       "                                            '#ed7953'], [0.7777777777777778,\n",
       "                                            '#fb9f3a'], [0.8888888888888888,\n",
       "                                            '#fdca26'], [1.0, '#f0f921']]},\n",
       "               'legend': {'tracegroupgap': 0},\n",
       "               'margin': {'t': 60},\n",
       "               'template': '...',\n",
       "               'xaxis': {'anchor': 'y', 'domain': [0.0, 1.0], 'title': {'text': 'x'}},\n",
       "               'yaxis': {'anchor': 'x', 'domain': [0.0, 1.0], 'title': {'text': 'y'}}}\n",
       "})"
      ]
     },
     "execution_count": 8,
     "metadata": {},
     "output_type": "execute_result"
    }
   ],
   "source": [
    "px.scatter(x=data['age'],y=data['charges'],color=data['smoker'])"
   ]
  },
  {
   "cell_type": "code",
   "execution_count": 9,
   "metadata": {
    "colab": {
     "base_uri": "https://localhost:8080/",
     "height": 0
    },
    "executionInfo": {
     "elapsed": 98,
     "status": "ok",
     "timestamp": 1751016035089,
     "user": {
      "displayName": "Supreme Hindutvawadi",
      "userId": "06788822703983184258"
     },
     "user_tz": -330
    },
    "id": "h3KPo0PWGBCJ",
    "outputId": "eae0e516-2db3-411a-db0d-4b938ef6800f"
   },
   "outputs": [
    {
     "data": {
      "text/plain": [
       "1        1725.55230\n",
       "2        4449.46200\n",
       "3       21984.47061\n",
       "4        3866.85520\n",
       "5        3756.62160\n",
       "           ...     \n",
       "1332    11411.68500\n",
       "1333    10600.54830\n",
       "1334     2205.98080\n",
       "1335     1629.83350\n",
       "1336     2007.94500\n",
       "Name: charges, Length: 1064, dtype: float64"
      ]
     },
     "execution_count": 9,
     "metadata": {},
     "output_type": "execute_result"
    }
   ],
   "source": [
    "data=data[data.smoker==0]\n",
    "data.charges"
   ]
  },
  {
   "cell_type": "code",
   "execution_count": 10,
   "metadata": {
    "colab": {
     "base_uri": "https://localhost:8080/",
     "height": 0
    },
    "executionInfo": {
     "elapsed": 3548,
     "status": "ok",
     "timestamp": 1751016038568,
     "user": {
      "displayName": "Supreme Hindutvawadi",
      "userId": "06788822703983184258"
     },
     "user_tz": -330
    },
    "id": "BK9VX8YJBWv4",
    "outputId": "113e4b01-5608-4a26-f9ec-fd8a081da4fd"
   },
   "outputs": [
    {
     "name": "stdout",
     "output_type": "stream",
     "text": [
      "4784.595754855184\n"
     ]
    },
    {
     "data": {
      "image/png": "[encoded data removed]",
      "text/plain": [
       "<Figure size 640x480 with 1 Axes>"
      ]
     },
     "metadata": {},
     "output_type": "display_data"
    }
   ],
   "source": [
    "def pred(w,b):\n",
    "  prediction= w * data.age + b\n",
    "  return prediction\n",
    "  # rmse=m.sqrt(sum(data.charges-prediction)/len(data.charges))\n",
    "  # print(rmse)\n",
    "sns.scatterplot(x=data.age,y=data.charges)\n",
    "sns.lineplot(x=data.age,y=pred(200,50))\n",
    "def rmse(x,y):\n",
    "  print((sum((x-y)**2)/len(x))**0.5)\n",
    "a=pred(200,50)\n",
    "rmse(data.charges,a)"
   ]
  },
  {
   "cell_type": "code",
   "execution_count": 11,
   "metadata": {
    "colab": {
     "base_uri": "https://localhost:8080/",
     "height": 0
    },
    "executionInfo": {
     "elapsed": 50,
     "status": "ok",
     "timestamp": 1751016038621,
     "user": {
      "displayName": "Supreme Hindutvawadi",
      "userId": "06788822703983184258"
     },
     "user_tz": -330
    },
    "id": "i3gXdq0THXmW",
    "outputId": "25606fd6-dc97-418b-82a0-08689ed0a833"
   },
   "outputs": [
    {
     "data": {
      "text/html": [
       "<style>#sk-container-id-1 {\n",
       "  /* Definition of color scheme common for light and dark mode */\n",
       "  --sklearn-color-text: #000;\n",
       "  --sklearn-color-text-muted: #666;\n",
       "  --sklearn-color-line: gray;\n",
       "  /* Definition of color scheme for unfitted estimators */\n",
       "  --sklearn-color-unfitted-level-0: #fff5e6;\n",
       "  --sklearn-color-unfitted-level-1: #f6e4d2;\n",
       "  --sklearn-color-unfitted-level-2: #ffe0b3;\n",
       "  --sklearn-color-unfitted-level-3: chocolate;\n",
       "  /* Definition of color scheme for fitted estimators */\n",
       "  --sklearn-color-fitted-level-0: #f0f8ff;\n",
       "  --sklearn-color-fitted-level-1: #d4ebff;\n",
       "  --sklearn-color-fitted-level-2: #b3dbfd;\n",
       "  --sklearn-color-fitted-level-3: cornflowerblue;\n",
       "\n",
       "  /* Specific color for light theme */\n",
       "  --sklearn-color-text-on-default-background: var(--sg-text-color, var(--theme-code-foreground, var(--jp-content-font-color1, black)));\n",
       "  --sklearn-color-background: var(--sg-background-color, var(--theme-background, var(--jp-layout-color0, white)));\n",
       "  --sklearn-color-border-box: var(--sg-text-color, var(--theme-code-foreground, var(--jp-content-font-color1, black)));\n",
       "  --sklearn-color-icon: #696969;\n",
       "\n",
       "  @media (prefers-color-scheme: dark) {\n",
       "    /* Redefinition of color scheme for dark theme */\n",
       "    --sklearn-color-text-on-default-background: var(--sg-text-color, var(--theme-code-foreground, var(--jp-content-font-color1, white)));\n",
       "    --sklearn-color-background: var(--sg-background-color, var(--theme-background, var(--jp-layout-color0, #111)));\n",
       "    --sklearn-color-border-box: var(--sg-text-color, var(--theme-code-foreground, var(--jp-content-font-color1, white)));\n",
       "    --sklearn-color-icon: #878787;\n",
       "  }\n",
       "}\n",
       "\n",
       "#sk-container-id-1 {\n",
       "  color: var(--sklearn-color-text);\n",
       "}\n",
       "\n",
       "#sk-container-id-1 pre {\n",
       "  padding: 0;\n",
       "}\n",
       "\n",
       "#sk-container-id-1 input.sk-hidden--visually {\n",
       "  border: 0;\n",
       "  clip: rect(1px 1px 1px 1px);\n",
       "  clip: rect(1px, 1px, 1px, 1px);\n",
       "  height: 1px;\n",
       "  margin: -1px;\n",
       "  overflow: hidden;\n",
       "  padding: 0;\n",
       "  position: absolute;\n",
       "  width: 1px;\n",
       "}\n",
       "\n",
       "#sk-container-id-1 div.sk-dashed-wrapped {\n",
       "  border: 1px dashed var(--sklearn-color-line);\n",
       "  margin: 0 0.4em 0.5em 0.4em;\n",
       "  box-sizing: border-box;\n",
       "  padding-bottom: 0.4em;\n",
       "  background-color: var(--sklearn-color-background);\n",
       "}\n",
       "\n",
       "#sk-container-id-1 div.sk-container {\n",
       "  /* jupyter's `normalize.less` sets `[hidden] { display: none; }`\n",
       "     but bootstrap.min.css set `[hidden] { display: none !important; }`\n",
       "     so we also need the `!important` here to be able to override the\n",
       "     default hidden behavior on the sphinx rendered scikit-learn.org.\n",
       "     See: https://github.com/scikit-learn/scikit-learn/issues/21755 */\n",
       "  display: inline-block !important;\n",
       "  position: relative;\n",
       "}\n",
       "\n",
       "#sk-container-id-1 div.sk-text-repr-fallback {\n",
       "  display: none;\n",
       "}\n",
       "\n",
       "div.sk-parallel-item,\n",
       "div.sk-serial,\n",
       "div.sk-item {\n",
       "  /* draw centered vertical line to link estimators */\n",
       "  background-image: linear-gradient(var(--sklearn-color-text-on-default-background), var(--sklearn-color-text-on-default-background));\n",
       "  background-size: 2px 100%;\n",
       "  background-repeat: no-repeat;\n",
       "  background-position: center center;\n",
       "}\n",
       "\n",
       "/* Parallel-specific style estimator block */\n",
       "\n",
       "#sk-container-id-1 div.sk-parallel-item::after {\n",
       "  content: \"\";\n",
       "  width: 100%;\n",
       "  border-bottom: 2px solid var(--sklearn-color-text-on-default-background);\n",
       "  flex-grow: 1;\n",
       "}\n",
       "\n",
       "#sk-container-id-1 div.sk-parallel {\n",
       "  display: flex;\n",
       "  align-items: stretch;\n",
       "  justify-content: center;\n",
       "  background-color: var(--sklearn-color-background);\n",
       "  position: relative;\n",
       "}\n",
       "\n",
       "#sk-container-id-1 div.sk-parallel-item {\n",
       "  display: flex;\n",
       "  flex-direction: column;\n",
       "}\n",
       "\n",
       "#sk-container-id-1 div.sk-parallel-item:first-child::after {\n",
       "  align-self: flex-end;\n",
       "  width: 50%;\n",
       "}\n",
       "\n",
       "#sk-container-id-1 div.sk-parallel-item:last-child::after {\n",
       "  align-self: flex-start;\n",
       "  width: 50%;\n",
       "}\n",
       "\n",
       "#sk-container-id-1 div.sk-parallel-item:only-child::after {\n",
       "  width: 0;\n",
       "}\n",
       "\n",
       "/* Serial-specific style estimator block */\n",
       "\n",
       "#sk-container-id-1 div.sk-serial {\n",
       "  display: flex;\n",
       "  flex-direction: column;\n",
       "  align-items: center;\n",
       "  background-color: var(--sklearn-color-background);\n",
       "  padding-right: 1em;\n",
       "  padding-left: 1em;\n",
       "}\n",
       "\n",
       "\n",
       "/* Toggleable style: style used for estimator/Pipeline/ColumnTransformer box that is\n",
       "clickable and can be expanded/collapsed.\n",
       "- Pipeline and ColumnTransformer use this feature and define the default style\n",
       "- Estimators will overwrite some part of the style using the `sk-estimator` class\n",
       "*/\n",
       "\n",
       "/* Pipeline and ColumnTransformer style (default) */\n",
       "\n",
       "#sk-container-id-1 div.sk-toggleable {\n",
       "  /* Default theme specific background. It is overwritten whether we have a\n",
       "  specific estimator or a Pipeline/ColumnTransformer */\n",
       "  background-color: var(--sklearn-color-background);\n",
       "}\n",
       "\n",
       "/* Toggleable label */\n",
       "#sk-container-id-1 label.sk-toggleable__label {\n",
       "  cursor: pointer;\n",
       "  display: flex;\n",
       "  width: 100%;\n",
       "  margin-bottom: 0;\n",
       "  padding: 0.5em;\n",
       "  box-sizing: border-box;\n",
       "  text-align: center;\n",
       "  align-items: start;\n",
       "  justify-content: space-between;\n",
       "  gap: 0.5em;\n",
       "}\n",
       "\n",
       "#sk-container-id-1 label.sk-toggleable__label .caption {\n",
       "  font-size: 0.6rem;\n",
       "  font-weight: lighter;\n",
       "  color: var(--sklearn-color-text-muted);\n",
       "}\n",
       "\n",
       "#sk-container-id-1 label.sk-toggleable__label-arrow:before {\n",
       "  /* Arrow on the left of the label */\n",
       "  content: \"▸\";\n",
       "  float: left;\n",
       "  margin-right: 0.25em;\n",
       "  color: var(--sklearn-color-icon);\n",
       "}\n",
       "\n",
       "#sk-container-id-1 label.sk-toggleable__label-arrow:hover:before {\n",
       "  color: var(--sklearn-color-text);\n",
       "}\n",
       "\n",
       "/* Toggleable content - dropdown */\n",
       "\n",
       "#sk-container-id-1 div.sk-toggleable__content {\n",
       "  display: none;\n",
       "  text-align: left;\n",
       "  /* unfitted */\n",
       "  background-color: var(--sklearn-color-unfitted-level-0);\n",
       "}\n",
       "\n",
       "#sk-container-id-1 div.sk-toggleable__content.fitted {\n",
       "  /* fitted */\n",
       "  background-color: var(--sklearn-color-fitted-level-0);\n",
       "}\n",
       "\n",
       "#sk-container-id-1 div.sk-toggleable__content pre {\n",
       "  margin: 0.2em;\n",
       "  border-radius: 0.25em;\n",
       "  color: var(--sklearn-color-text);\n",
       "  /* unfitted */\n",
       "  background-color: var(--sklearn-color-unfitted-level-0);\n",
       "}\n",
       "\n",
       "#sk-container-id-1 div.sk-toggleable__content.fitted pre {\n",
       "  /* unfitted */\n",
       "  background-color: var(--sklearn-color-fitted-level-0);\n",
       "}\n",
       "\n",
       "#sk-container-id-1 input.sk-toggleable__control:checked~div.sk-toggleable__content {\n",
       "  /* Expand drop-down */\n",
       "  display: block;\n",
       "  width: 100%;\n",
       "  overflow: visible;\n",
       "}\n",
       "\n",
       "#sk-container-id-1 input.sk-toggleable__control:checked~label.sk-toggleable__label-arrow:before {\n",
       "  content: \"▾\";\n",
       "}\n",
       "\n",
       "/* Pipeline/ColumnTransformer-specific style */\n",
       "\n",
       "#sk-container-id-1 div.sk-label input.sk-toggleable__control:checked~label.sk-toggleable__label {\n",
       "  color: var(--sklearn-color-text);\n",
       "  background-color: var(--sklearn-color-unfitted-level-2);\n",
       "}\n",
       "\n",
       "#sk-container-id-1 div.sk-label.fitted input.sk-toggleable__control:checked~label.sk-toggleable__label {\n",
       "  background-color: var(--sklearn-color-fitted-level-2);\n",
       "}\n",
       "\n",
       "/* Estimator-specific style */\n",
       "\n",
       "/* Colorize estimator box */\n",
       "#sk-container-id-1 div.sk-estimator input.sk-toggleable__control:checked~label.sk-toggleable__label {\n",
       "  /* unfitted */\n",
       "  background-color: var(--sklearn-color-unfitted-level-2);\n",
       "}\n",
       "\n",
       "#sk-container-id-1 div.sk-estimator.fitted input.sk-toggleable__control:checked~label.sk-toggleable__label {\n",
       "  /* fitted */\n",
       "  background-color: var(--sklearn-color-fitted-level-2);\n",
       "}\n",
       "\n",
       "#sk-container-id-1 div.sk-label label.sk-toggleable__label,\n",
       "#sk-container-id-1 div.sk-label label {\n",
       "  /* The background is the default theme color */\n",
       "  color: var(--sklearn-color-text-on-default-background);\n",
       "}\n",
       "\n",
       "/* On hover, darken the color of the background */\n",
       "#sk-container-id-1 div.sk-label:hover label.sk-toggleable__label {\n",
       "  color: var(--sklearn-color-text);\n",
       "  background-color: var(--sklearn-color-unfitted-level-2);\n",
       "}\n",
       "\n",
       "/* Label box, darken color on hover, fitted */\n",
       "#sk-container-id-1 div.sk-label.fitted:hover label.sk-toggleable__label.fitted {\n",
       "  color: var(--sklearn-color-text);\n",
       "  background-color: var(--sklearn-color-fitted-level-2);\n",
       "}\n",
       "\n",
       "/* Estimator label */\n",
       "\n",
       "#sk-container-id-1 div.sk-label label {\n",
       "  font-family: monospace;\n",
       "  font-weight: bold;\n",
       "  display: inline-block;\n",
       "  line-height: 1.2em;\n",
       "}\n",
       "\n",
       "#sk-container-id-1 div.sk-label-container {\n",
       "  text-align: center;\n",
       "}\n",
       "\n",
       "/* Estimator-specific */\n",
       "#sk-container-id-1 div.sk-estimator {\n",
       "  font-family: monospace;\n",
       "  border: 1px dotted var(--sklearn-color-border-box);\n",
       "  border-radius: 0.25em;\n",
       "  box-sizing: border-box;\n",
       "  margin-bottom: 0.5em;\n",
       "  /* unfitted */\n",
       "  background-color: var(--sklearn-color-unfitted-level-0);\n",
       "}\n",
       "\n",
       "#sk-container-id-1 div.sk-estimator.fitted {\n",
       "  /* fitted */\n",
       "  background-color: var(--sklearn-color-fitted-level-0);\n",
       "}\n",
       "\n",
       "/* on hover */\n",
       "#sk-container-id-1 div.sk-estimator:hover {\n",
       "  /* unfitted */\n",
       "  background-color: var(--sklearn-color-unfitted-level-2);\n",
       "}\n",
       "\n",
       "#sk-container-id-1 div.sk-estimator.fitted:hover {\n",
       "  /* fitted */\n",
       "  background-color: var(--sklearn-color-fitted-level-2);\n",
       "}\n",
       "\n",
       "/* Specification for estimator info (e.g. \"i\" and \"?\") */\n",
       "\n",
       "/* Common style for \"i\" and \"?\" */\n",
       "\n",
       ".sk-estimator-doc-link,\n",
       "a:link.sk-estimator-doc-link,\n",
       "a:visited.sk-estimator-doc-link {\n",
       "  float: right;\n",
       "  font-size: smaller;\n",
       "  line-height: 1em;\n",
       "  font-family: monospace;\n",
       "  background-color: var(--sklearn-color-background);\n",
       "  border-radius: 1em;\n",
       "  height: 1em;\n",
       "  width: 1em;\n",
       "  text-decoration: none !important;\n",
       "  margin-left: 0.5em;\n",
       "  text-align: center;\n",
       "  /* unfitted */\n",
       "  border: var(--sklearn-color-unfitted-level-1) 1pt solid;\n",
       "  color: var(--sklearn-color-unfitted-level-1);\n",
       "}\n",
       "\n",
       ".sk-estimator-doc-link.fitted,\n",
       "a:link.sk-estimator-doc-link.fitted,\n",
       "a:visited.sk-estimator-doc-link.fitted {\n",
       "  /* fitted */\n",
       "  border: var(--sklearn-color-fitted-level-1) 1pt solid;\n",
       "  color: var(--sklearn-color-fitted-level-1);\n",
       "}\n",
       "\n",
       "/* On hover */\n",
       "div.sk-estimator:hover .sk-estimator-doc-link:hover,\n",
       ".sk-estimator-doc-link:hover,\n",
       "div.sk-label-container:hover .sk-estimator-doc-link:hover,\n",
       ".sk-estimator-doc-link:hover {\n",
       "  /* unfitted */\n",
       "  background-color: var(--sklearn-color-unfitted-level-3);\n",
       "  color: var(--sklearn-color-background);\n",
       "  text-decoration: none;\n",
       "}\n",
       "\n",
       "div.sk-estimator.fitted:hover .sk-estimator-doc-link.fitted:hover,\n",
       ".sk-estimator-doc-link.fitted:hover,\n",
       "div.sk-label-container:hover .sk-estimator-doc-link.fitted:hover,\n",
       ".sk-estimator-doc-link.fitted:hover {\n",
       "  /* fitted */\n",
       "  background-color: var(--sklearn-color-fitted-level-3);\n",
       "  color: var(--sklearn-color-background);\n",
       "  text-decoration: none;\n",
       "}\n",
       "\n",
       "/* Span, style for the box shown on hovering the info icon */\n",
       ".sk-estimator-doc-link span {\n",
       "  display: none;\n",
       "  z-index: 9999;\n",
       "  position: relative;\n",
       "  font-weight: normal;\n",
       "  right: .2ex;\n",
       "  padding: .5ex;\n",
       "  margin: .5ex;\n",
       "  width: min-content;\n",
       "  min-width: 20ex;\n",
       "  max-width: 50ex;\n",
       "  color: var(--sklearn-color-text);\n",
       "  box-shadow: 2pt 2pt 4pt #999;\n",
       "  /* unfitted */\n",
       "  background: var(--sklearn-color-unfitted-level-0);\n",
       "  border: .5pt solid var(--sklearn-color-unfitted-level-3);\n",
       "}\n",
       "\n",
       ".sk-estimator-doc-link.fitted span {\n",
       "  /* fitted */\n",
       "  background: var(--sklearn-color-fitted-level-0);\n",
       "  border: var(--sklearn-color-fitted-level-3);\n",
       "}\n",
       "\n",
       ".sk-estimator-doc-link:hover span {\n",
       "  display: block;\n",
       "}\n",
       "\n",
       "/* \"?\"-specific style due to the `<a>` HTML tag */\n",
       "\n",
       "#sk-container-id-1 a.estimator_doc_link {\n",
       "  float: right;\n",
       "  font-size: 1rem;\n",
       "  line-height: 1em;\n",
       "  font-family: monospace;\n",
       "  background-color: var(--sklearn-color-background);\n",
       "  border-radius: 1rem;\n",
       "  height: 1rem;\n",
       "  width: 1rem;\n",
       "  text-decoration: none;\n",
       "  /* unfitted */\n",
       "  color: var(--sklearn-color-unfitted-level-1);\n",
       "  border: var(--sklearn-color-unfitted-level-1) 1pt solid;\n",
       "}\n",
       "\n",
       "#sk-container-id-1 a.estimator_doc_link.fitted {\n",
       "  /* fitted */\n",
       "  border: var(--sklearn-color-fitted-level-1) 1pt solid;\n",
       "  color: var(--sklearn-color-fitted-level-1);\n",
       "}\n",
       "\n",
       "/* On hover */\n",
       "#sk-container-id-1 a.estimator_doc_link:hover {\n",
       "  /* unfitted */\n",
       "  background-color: var(--sklearn-color-unfitted-level-3);\n",
       "  color: var(--sklearn-color-background);\n",
       "  text-decoration: none;\n",
       "}\n",
       "\n",
       "#sk-container-id-1 a.estimator_doc_link.fitted:hover {\n",
       "  /* fitted */\n",
       "  background-color: var(--sklearn-color-fitted-level-3);\n",
       "}\n",
       "\n",
       ".estimator-table summary {\n",
       "    padding: .5rem;\n",
       "    font-family: monospace;\n",
       "    cursor: pointer;\n",
       "}\n",
       "\n",
       ".estimator-table details[open] {\n",
       "    padding-left: 0.1rem;\n",
       "    padding-right: 0.1rem;\n",
       "    padding-bottom: 0.3rem;\n",
       "}\n",
       "\n",
       ".estimator-table .parameters-table {\n",
       "    margin-left: auto !important;\n",
       "    margin-right: auto !important;\n",
       "}\n",
       "\n",
       ".estimator-table .parameters-table tr:nth-child(odd) {\n",
       "    background-color: #fff;\n",
       "}\n",
       "\n",
       ".estimator-table .parameters-table tr:nth-child(even) {\n",
       "    background-color: #f6f6f6;\n",
       "}\n",
       "\n",
       ".estimator-table .parameters-table tr:hover {\n",
       "    background-color: #e0e0e0;\n",
       "}\n",
       "\n",
       ".estimator-table table td {\n",
       "    border: 1px solid rgba(106, 105, 104, 0.232);\n",
       "}\n",
       "\n",
       ".user-set td {\n",
       "    color:rgb(255, 94, 0);\n",
       "    text-align: left;\n",
       "}\n",
       "\n",
       ".user-set td.value pre {\n",
       "    color:rgb(255, 94, 0) !important;\n",
       "    background-color: transparent !important;\n",
       "}\n",
       "\n",
       ".default td {\n",
       "    color: black;\n",
       "    text-align: left;\n",
       "}\n",
       "\n",
       ".user-set td i,\n",
       ".default td i {\n",
       "    color: black;\n",
       "}\n",
       "\n",
       ".copy-paste-icon {\n",
       "    background-image: url(data:image/svg+xml;base64,PHN2ZyB4bWxucz0iaHR0cDovL3d3dy53My5vcmcvMjAwMC9zdmciIHZpZXdCb3g9IjAgMCA0NDggNTEyIj48IS0tIUZvbnQgQXdlc29tZSBGcmVlIDYuNy4yIGJ5IEBmb250YXdlc29tZSAtIGh0dHBzOi8vZm9udGF3ZXNvbWUuY29tIExpY2Vuc2UgLSBodHRwczovL2ZvbnRhd2Vzb21lLmNvbS9saWNlbnNlL2ZyZWUgQ29weXJpZ2h0IDIwMjUgRm9udGljb25zLCBJbmMuLS0+PHBhdGggZD0iTTIwOCAwTDMzMi4xIDBjMTIuNyAwIDI0LjkgNS4xIDMzLjkgMTQuMWw2Ny45IDY3LjljOSA5IDE0LjEgMjEuMiAxNC4xIDMzLjlMNDQ4IDMzNmMwIDI2LjUtMjEuNSA0OC00OCA0OGwtMTkyIDBjLTI2LjUgMC00OC0yMS41LTQ4LTQ4bDAtMjg4YzAtMjYuNSAyMS41LTQ4IDQ4LTQ4ek00OCAxMjhsODAgMCAwIDY0LTY0IDAgMCAyNTYgMTkyIDAgMC0zMiA2NCAwIDAgNDhjMCAyNi41LTIxLjUgNDgtNDggNDhMNDggNTEyYy0yNi41IDAtNDgtMjEuNS00OC00OEwwIDE3NmMwLTI2LjUgMjEuNS00OCA0OC00OHoiLz48L3N2Zz4=);\n",
       "    background-repeat: no-repeat;\n",
       "    background-size: 14px 14px;\n",
       "    background-position: 0;\n",
       "    display: inline-block;\n",
       "    width: 14px;\n",
       "    height: 14px;\n",
       "    cursor: pointer;\n",
       "}\n",
       "</style><body><div id=\"sk-container-id-1\" class=\"sk-top-container\"><div class=\"sk-text-repr-fallback\"><pre>LinearRegression()</pre><b>In a Jupyter environment, please rerun this cell to show the HTML representation or trust the notebook. <br />On GitHub, the HTML representation is unable to render, please try loading this page with nbviewer.org.</b></div><div class=\"sk-container\" hidden><div class=\"sk-item\"><div class=\"sk-estimator fitted sk-toggleable\"><input class=\"sk-toggleable__control sk-hidden--visually\" id=\"sk-estimator-id-1\" type=\"checkbox\" checked><label for=\"sk-estimator-id-1\" class=\"sk-toggleable__label fitted sk-toggleable__label-arrow\"><div><div>LinearRegression</div></div><div><a class=\"sk-estimator-doc-link fitted\" rel=\"noreferrer\" target=\"_blank\" href=\"https://scikit-learn.org/1.7/modules/generated/sklearn.linear_model.LinearRegression.html\">?<span>Documentation for LinearRegression</span></a><span class=\"sk-estimator-doc-link fitted\">i<span>Fitted</span></span></div></label><div class=\"sk-toggleable__content fitted\" data-param-prefix=\"\">\n",
       "        <div class=\"estimator-table\">\n",
       "            <details>\n",
       "                <summary>Parameters</summary>\n",
       "                <table class=\"parameters-table\">\n",
       "                  <tbody>\n",
       "                    \n",
       "        <tr class=\"default\">\n",
       "            <td><i class=\"copy-paste-icon\"\n",
       "                 onclick=\"copyToClipboard('fit_intercept',\n",
       "                          this.parentElement.nextElementSibling)\"\n",
       "            ></i></td>\n",
       "            <td class=\"param\">fit_intercept&nbsp;</td>\n",
       "            <td class=\"value\">True</td>\n",
       "        </tr>\n",
       "    \n",
       "\n",
       "        <tr class=\"default\">\n",
       "            <td><i class=\"copy-paste-icon\"\n",
       "                 onclick=\"copyToClipboard('copy_X',\n",
       "                          this.parentElement.nextElementSibling)\"\n",
       "            ></i></td>\n",
       "            <td class=\"param\">copy_X&nbsp;</td>\n",
       "            <td class=\"value\">True</td>\n",
       "        </tr>\n",
       "    \n",
       "\n",
       "        <tr class=\"default\">\n",
       "            <td><i class=\"copy-paste-icon\"\n",
       "                 onclick=\"copyToClipboard('tol',\n",
       "                          this.parentElement.nextElementSibling)\"\n",
       "            ></i></td>\n",
       "            <td class=\"param\">tol&nbsp;</td>\n",
       "            <td class=\"value\">1e-06</td>\n",
       "        </tr>\n",
       "    \n",
       "\n",
       "        <tr class=\"default\">\n",
       "            <td><i class=\"copy-paste-icon\"\n",
       "                 onclick=\"copyToClipboard('n_jobs',\n",
       "                          this.parentElement.nextElementSibling)\"\n",
       "            ></i></td>\n",
       "            <td class=\"param\">n_jobs&nbsp;</td>\n",
       "            <td class=\"value\">None</td>\n",
       "        </tr>\n",
       "    \n",
       "\n",
       "        <tr class=\"default\">\n",
       "            <td><i class=\"copy-paste-icon\"\n",
       "                 onclick=\"copyToClipboard('positive',\n",
       "                          this.parentElement.nextElementSibling)\"\n",
       "            ></i></td>\n",
       "            <td class=\"param\">positive&nbsp;</td>\n",
       "            <td class=\"value\">False</td>\n",
       "        </tr>\n",
       "    \n",
       "                  </tbody>\n",
       "                </table>\n",
       "            </details>\n",
       "        </div>\n",
       "    </div></div></div></div></div><script>function copyToClipboard(text, element) {\n",
       "    // Get the parameter prefix from the closest toggleable content\n",
       "    const toggleableContent = element.closest('.sk-toggleable__content');\n",
       "    const paramPrefix = toggleableContent ? toggleableContent.dataset.paramPrefix : '';\n",
       "    const fullParamName = paramPrefix ? `${paramPrefix}${text}` : text;\n",
       "\n",
       "    const originalStyle = element.style;\n",
       "    const computedStyle = window.getComputedStyle(element);\n",
       "    const originalWidth = computedStyle.width;\n",
       "    const originalHTML = element.innerHTML.replace('Copied!', '');\n",
       "\n",
       "    navigator.clipboard.writeText(fullParamName)\n",
       "        .then(() => {\n",
       "            element.style.width = originalWidth;\n",
       "            element.style.color = 'green';\n",
       "            element.innerHTML = \"Copied!\";\n",
       "\n",
       "            setTimeout(() => {\n",
       "                element.innerHTML = originalHTML;\n",
       "                element.style = originalStyle;\n",
       "            }, 2000);\n",
       "        })\n",
       "        .catch(err => {\n",
       "            console.error('Failed to copy:', err);\n",
       "            element.style.color = 'red';\n",
       "            element.innerHTML = \"Failed!\";\n",
       "            setTimeout(() => {\n",
       "                element.innerHTML = originalHTML;\n",
       "                element.style = originalStyle;\n",
       "            }, 2000);\n",
       "        });\n",
       "    return false;\n",
       "}\n",
       "\n",
       "document.querySelectorAll('.fa-regular.fa-copy').forEach(function(element) {\n",
       "    const toggleableContent = element.closest('.sk-toggleable__content');\n",
       "    const paramPrefix = toggleableContent ? toggleableContent.dataset.paramPrefix : '';\n",
       "    const paramName = element.parentElement.nextElementSibling.textContent.trim();\n",
       "    const fullParamName = paramPrefix ? `${paramPrefix}${paramName}` : paramName;\n",
       "\n",
       "    element.setAttribute('title', fullParamName);\n",
       "});\n",
       "</script></body>"
      ],
      "text/plain": [
       "LinearRegression()"
      ]
     },
     "execution_count": 11,
     "metadata": {},
     "output_type": "execute_result"
    }
   ],
   "source": [
    "trainx,testx,trainy,testy=train_test_split(data.bmi,data.charges,random_state=0)\n",
    "trainx = trainx.values.reshape(-1, 1)\n",
    "testx = testx.values.reshape(-1, 1)\n",
    "model=LinearRegression()\n",
    "model.fit(trainx,trainy)"
   ]
  },
  {
   "cell_type": "code",
   "execution_count": 12,
   "metadata": {
    "colab": {
     "base_uri": "https://localhost:8080/"
    },
    "executionInfo": {
     "elapsed": 49,
     "status": "ok",
     "timestamp": 1751016038694,
     "user": {
      "displayName": "Supreme Hindutvawadi",
      "userId": "06788822703983184258"
     },
     "user_tz": -330
    },
    "id": "ANBOAl4PNIql",
    "outputId": "f8b0958f-456b-467d-a801-aa1ca6faa1bd"
   },
   "outputs": [
    {
     "name": "stdout",
     "output_type": "stream",
     "text": [
      "6488.76906931403\n"
     ]
    }
   ],
   "source": [
    "rmse(testy,model.predict(testx))"
   ]
  },
  {
   "cell_type": "code",
   "execution_count": 13,
   "metadata": {
    "colab": {
     "base_uri": "https://localhost:8080/"
    },
    "executionInfo": {
     "elapsed": 69,
     "status": "ok",
     "timestamp": 1751016038768,
     "user": {
      "displayName": "Supreme Hindutvawadi",
      "userId": "06788822703983184258"
     },
     "user_tz": -330
    },
    "id": "XMEFBXOCNt6I",
    "outputId": "b3460512-9b56-4d9b-f5af-8b8f24793ec9"
   },
   "outputs": [
    {
     "data": {
      "text/plain": [
       "array([7952.0661373 , 8119.36916195, 8537.62672357, 8872.23277287,\n",
       "       9876.05092077])"
      ]
     },
     "execution_count": 13,
     "metadata": {},
     "output_type": "execute_result"
    }
   ],
   "source": [
    "model.predict(np.array([[28],[30],[35],[39],[51]]))"
   ]
  },
  {
   "cell_type": "code",
   "execution_count": 14,
   "metadata": {
    "colab": {
     "base_uri": "https://localhost:8080/"
    },
    "executionInfo": {
     "elapsed": 13,
     "status": "ok",
     "timestamp": 1751016038783,
     "user": {
      "displayName": "Supreme Hindutvawadi",
      "userId": "06788822703983184258"
     },
     "user_tz": -330
    },
    "id": "RAy2aEmAOlGl",
    "outputId": "69bdf123-7ca8-4030-9a61-e7569f23e677"
   },
   "outputs": [
    {
     "name": "stderr",
     "output_type": "stream",
     "text": [
      "C:\\Users\\Tabah\\AppData\\Local\\Temp\\ipykernel_12824\\3304971521.py:1: DeprecationWarning:\n",
      "\n",
      "Conversion of an array with ndim > 0 to a scalar is deprecated, and will error in future. Ensure you extract a single element from your array before performing this operation. (Deprecated NumPy 1.25.)\n",
      "\n"
     ]
    }
   ],
   "source": [
    "w=float(model.coef_)"
   ]
  },
  {
   "cell_type": "code",
   "execution_count": 15,
   "metadata": {
    "executionInfo": {
     "elapsed": 8,
     "status": "ok",
     "timestamp": 1751016038793,
     "user": {
      "displayName": "Supreme Hindutvawadi",
      "userId": "06788822703983184258"
     },
     "user_tz": -330
    },
    "id": "xltbQMhsOnJC"
   },
   "outputs": [],
   "source": [
    "b=float(model.intercept_)"
   ]
  },
  {
   "cell_type": "code",
   "execution_count": 16,
   "metadata": {
    "colab": {
     "base_uri": "https://localhost:8080/",
     "height": 0
    },
    "executionInfo": {
     "elapsed": 2402,
     "status": "ok",
     "timestamp": 1751016041200,
     "user": {
      "displayName": "Supreme Hindutvawadi",
      "userId": "06788822703983184258"
     },
     "user_tz": -330
    },
    "id": "-wnxnrRMO1Dk",
    "outputId": "736c500d-0c82-4fb1-acfd-49bb4431c54f"
   },
   "outputs": [
    {
     "data": {
      "text/plain": [
       "<Axes: xlabel='age', ylabel='charges'>"
      ]
     },
     "execution_count": 16,
     "metadata": {},
     "output_type": "execute_result"
    },
    {
     "data": {
      "image/png": "[encoded data removed]",
      "text/plain": [
       "<Figure size 640x480 with 1 Axes>"
      ]
     },
     "metadata": {},
     "output_type": "display_data"
    }
   ],
   "source": [
    "sns.scatterplot(x=data.age,y=data.charges)\n",
    "sns.lineplot(x=data.age,y=pred(w,b))"
   ]
  },
  {
   "cell_type": "code",
   "execution_count": 17,
   "metadata": {
    "colab": {
     "base_uri": "https://localhost:8080/"
    },
    "executionInfo": {
     "elapsed": 137,
     "status": "ok",
     "timestamp": 1751016041355,
     "user": {
      "displayName": "Supreme Hindutvawadi",
      "userId": "06788822703983184258"
     },
     "user_tz": -330
    },
    "id": "VK1_lh0WPUX9",
    "outputId": "e0c48e6f-2a63-4fdf-b765-369ef3e0c820"
   },
   "outputs": [
    {
     "name": "stdout",
     "output_type": "stream",
     "text": [
      "7448.758347268715\n"
     ]
    }
   ],
   "source": [
    "from sklearn.linear_model import SGDRegressor\n",
    "model2=SGDRegressor()\n",
    "model2.fit(trainx,trainy)\n",
    "rmse(testy,model2.predict(testx))\n",
    "# w=float(model2.coef_)\n",
    "# b=float(model2.intercept_)"
   ]
  },
  {
   "cell_type": "code",
   "execution_count": 18,
   "metadata": {
    "colab": {
     "base_uri": "https://localhost:8080/",
     "height": 0
    },
    "executionInfo": {
     "elapsed": 3091,
     "status": "ok",
     "timestamp": 1751016044450,
     "user": {
      "displayName": "Supreme Hindutvawadi",
      "userId": "06788822703983184258"
     },
     "user_tz": -330
    },
    "id": "bDysnMsVPxMC",
    "outputId": "5fcbe61c-3edc-471a-8a76-bb09654a50e5"
   },
   "outputs": [
    {
     "data": {
      "text/plain": [
       "<Axes: xlabel='age', ylabel='charges'>"
      ]
     },
     "execution_count": 18,
     "metadata": {},
     "output_type": "execute_result"
    },
    {
     "data": {
      "image/png": "[encoded data removed]",
      "text/plain": [
       "<Figure size 640x480 with 1 Axes>"
      ]
     },
     "metadata": {},
     "output_type": "display_data"
    }
   ],
   "source": [
    "sns.scatterplot(x=data.age,y=data.charges)\n",
    "sns.lineplot(x=data.age,y=pred(w,b))"
   ]
  },
  {
   "cell_type": "code",
   "execution_count": 19,
   "metadata": {
    "colab": {
     "base_uri": "https://localhost:8080/"
    },
    "executionInfo": {
     "elapsed": 30,
     "status": "ok",
     "timestamp": 1751016044570,
     "user": {
      "displayName": "Supreme Hindutvawadi",
      "userId": "06788822703983184258"
     },
     "user_tz": -330
    },
    "id": "yxwbPj1tQ4I-",
    "outputId": "6aa59b4c-5e0d-402f-aa8b-75ec7649a837"
   },
   "outputs": [
    {
     "data": {
      "text/plain": [
       "array([ 8234.46077765,  9608.75481291, 13044.48990107, 15793.0779716 ,\n",
       "       24038.84218319])"
      ]
     },
     "execution_count": 19,
     "metadata": {},
     "output_type": "execute_result"
    }
   ],
   "source": [
    "model2.predict(np.array([[28],[30],[35],[39],[51]]))"
   ]
  },
  {
   "cell_type": "markdown",
   "metadata": {
    "id": "gk483jkq4-JB"
   },
   "source": [
    "# ***Linear Regression with Multiple Features***"
   ]
  },
  {
   "cell_type": "code",
   "execution_count": 20,
   "metadata": {
    "colab": {
     "base_uri": "https://localhost:8080/"
    },
    "executionInfo": {
     "elapsed": 49,
     "status": "ok",
     "timestamp": 1751015948814,
     "user": {
      "displayName": "Supreme Hindutvawadi",
      "userId": "06788822703983184258"
     },
     "user_tz": -330
    },
    "id": "FpYZ3twh5Nkf",
    "outputId": "de784a1c-5cd5-45d8-a608-abf153876eb1"
   },
   "outputs": [
    {
     "data": {
      "text/plain": [
       "2715.127898020943"
      ]
     },
     "execution_count": 20,
     "metadata": {},
     "output_type": "execute_result"
    }
   ],
   "source": [
    "from sklearn.metrics import mean_absolute_error\n",
    "x=data[['age','bmi','smoker']]\n",
    "y=data['charges']\n",
    "tx,Tx,ty,Ty=train_test_split(x,y,random_state=0)\n",
    "model=LinearRegression()\n",
    "model.fit(tx,ty)\n",
    "mae=mean_absolute_error(Ty,model.predict(Tx))\n",
    "mae"
   ]
  },
  {
   "cell_type": "code",
   "execution_count": 21,
   "metadata": {
    "colab": {
     "base_uri": "https://localhost:8080/"
    },
    "executionInfo": {
     "elapsed": 115,
     "status": "ok",
     "timestamp": 1751015948917,
     "user": {
      "displayName": "Supreme Hindutvawadi",
      "userId": "06788822703983184258"
     },
     "user_tz": -330
    },
    "id": "lHDUxlH48Z1g",
    "outputId": "4e53f8d8-a0a3-4999-bc1c-28eb1e5c52a2"
   },
   "outputs": [
    {
     "data": {
      "text/plain": [
       "np.float64(0.318498762344069)"
      ]
     },
     "execution_count": 21,
     "metadata": {},
     "output_type": "execute_result"
    }
   ],
   "source": [
    "mae/np.median(Ty)"
   ]
  },
  {
   "cell_type": "code",
   "execution_count": 22,
   "metadata": {
    "colab": {
     "base_uri": "https://localhost:8080/"
    },
    "executionInfo": {
     "elapsed": 62,
     "status": "ok",
     "timestamp": 1751015948919,
     "user": {
      "displayName": "Supreme Hindutvawadi",
      "userId": "06788822703983184258"
     },
     "user_tz": -330
    },
    "id": "8BBAb4NB88iw",
    "outputId": "8b03b1f4-9944-4823-fe89-8725821436cf"
   },
   "outputs": [
    {
     "name": "stdout",
     "output_type": "stream",
     "text": [
      "5243.160347432613\n"
     ]
    },
    {
     "data": {
      "text/plain": [
       "2715.127898020943"
      ]
     },
     "execution_count": 22,
     "metadata": {},
     "output_type": "execute_result"
    }
   ],
   "source": [
    "rmse(Ty,model.predict(Tx))\n",
    "mae"
   ]
  },
  {
   "cell_type": "code",
   "execution_count": 23,
   "metadata": {
    "executionInfo": {
     "elapsed": 46,
     "status": "ok",
     "timestamp": 1751015948920,
     "user": {
      "displayName": "Supreme Hindutvawadi",
      "userId": "06788822703983184258"
     },
     "user_tz": -330
    },
    "id": "wR-tE7ko_T_T"
   },
   "outputs": [],
   "source": [
    "def lineeq(a,b):\n",
    "  return (float(a[0])*data.age)+(float(a[1])*data.bmi)+(float(a[2])*data.smoker)+b"
   ]
  },
  {
   "cell_type": "code",
   "execution_count": 24,
   "metadata": {
    "colab": {
     "base_uri": "https://localhost:8080/"
    },
    "executionInfo": {
     "elapsed": 32,
     "status": "ok",
     "timestamp": 1751015948921,
     "user": {
      "displayName": "Supreme Hindutvawadi",
      "userId": "06788822703983184258"
     },
     "user_tz": -330
    },
    "id": "AAw0SDG4-8XO",
    "outputId": "5a867aa1-16a6-4cf1-8ed2-03163f82ad12"
   },
   "outputs": [
    {
     "data": {
      "text/plain": [
       "(array([266.80193804,  15.01625607,   0.        ]),\n",
       " np.float64(-2665.9867203133854))"
      ]
     },
     "execution_count": 24,
     "metadata": {},
     "output_type": "execute_result"
    }
   ],
   "source": [
    "a=model.coef_\n",
    "b=model.intercept_\n",
    "a,b"
   ]
  }
 ],
 "metadata": {
  "colab": {
   "authorship_tag": "ABX9TyNgIsMJYKxI4X3iEIo/BkHy",
   "collapsed_sections": [
    "BS84bcOYAWuG",
    "5yhw6YDzAfca",
    "k7KgF2u5Ak7w",
    "gk483jkq4-JB"
   ],
   "provenance": []
  },
  "kernelspec": {
   "display_name": "Python 3",
   "name": "python3"
  },
  "language_info": {
   "codemirror_mode": {
    "name": "ipython",
    "version": 3
   },
   "file_extension": ".py",
   "mimetype": "text/x-python",
   "name": "python",
   "nbconvert_exporter": "python",
   "pygments_lexer": "ipython3",
   "version": "3.13.2"
  }
 },
 "nbformat": 4,
 "nbformat_minor": 0
}
