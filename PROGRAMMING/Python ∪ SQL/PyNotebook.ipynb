{
 "cells": [
  {
   "cell_type": "code",
   "execution_count": 9,
   "id": "d6450d81",
   "metadata": {},
   "outputs": [
    {
     "data": {
      "text/plain": [
       "<function matplotlib.pyplot.show(close=None, block=None)>"
      ]
     },
     "execution_count": 9,
     "metadata": {},
     "output_type": "execute_result"
    },
    {
     "data": {
      "image/png": "[encoded data removed]",
      "text/plain": [
       "<Figure size 640x480 with 1 Axes>"
      ]
     },
     "metadata": {},
     "output_type": "display_data"
    }
   ],
   "source": [
    "import matplotlib.pyplot as ppt\n",
    "ppt.plot([0,0, -6,7, 4,5, 8,9])\n",
    "ppt.ylabel(\"Y Axis\")\n",
    "ppt.xlabel(\"X Axis\")\n",
    "ppt.title(\"Matplotlib\")\n",
    "ppt.show"
   ]
  },
  {
   "cell_type": "code",
   "execution_count": 12,
   "id": "aceb037a",
   "metadata": {},
   "outputs": [
    {
     "data": {
      "text/plain": [
       "True"
      ]
     },
     "execution_count": 12,
     "metadata": {},
     "output_type": "execute_result"
    }
   ],
   "source": [
    "3+4+5==12"
   ]
  },
  {
   "cell_type": "code",
   "execution_count": 16,
   "id": "e515946d",
   "metadata": {},
   "outputs": [
    {
     "data": {
      "text/plain": [
       "125.0"
      ]
     },
     "execution_count": 16,
     "metadata": {},
     "output_type": "execute_result"
    }
   ],
   "source": [
    "x=(20/100)*1.25\n",
    "y=500*x\n",
    "# 20/100*500\n",
    "y"
   ]
  },
  {
   "cell_type": "code",
   "execution_count": 58,
   "id": "e0a36acd",
   "metadata": {},
   "outputs": [
    {
     "name": "stdout",
     "output_type": "stream",
     "text": [
      "Paris cost 800$ for a 10 days trip London cost 790$ for a 10 days trip Dubai cost 680$ for a 10 days trip Mumbai cost 690$ for a 10 days trip\n"
     ]
    }
   ],
   "source": [
    "def expense(city,flight_cost,accomodation,car_rentals,days):\n",
    "    x=(days+6)//7\n",
    "    total_expenditure=(flight_cost)+(accomodation*days)+(car_rentals*x)\n",
    "    return f\"{city} cost {total_expenditure}$ for a {days} days trip\"\n",
    "a=expense(\"Paris\",200,20,200,10)\n",
    "b=expense(\"London\",250,30,120,10)\n",
    "c=expense(\"Dubai\",370,15,80,10)\n",
    "d=expense(\"Mumbai\",450,10,70,10)\n",
    "print(a,b,c,d)\n"
   ]
  },
  {
   "cell_type": "code",
   "execution_count": 51,
   "id": "e7679cc9",
   "metadata": {},
   "outputs": [
    {
     "ename": "KeyboardInterrupt",
     "evalue": "",
     "output_type": "error",
     "traceback": [
      "\u001b[31m---------------------------------------------------------------------------\u001b[39m",
      "\u001b[31mKeyboardInterrupt\u001b[39m                         Traceback (most recent call last)",
      "\u001b[36mCell\u001b[39m\u001b[36m \u001b[39m\u001b[32mIn[51]\u001b[39m\u001b[32m, line 1\u001b[39m\n\u001b[32m----> \u001b[39m\u001b[32m1\u001b[39m a=\u001b[43mexpense\u001b[49m\u001b[43m(\u001b[49m\u001b[33;43m\"\u001b[39;49m\u001b[33;43mParis\u001b[39;49m\u001b[33;43m\"\u001b[39;49m\u001b[43m,\u001b[49m\u001b[32;43m200\u001b[39;49m\u001b[43m,\u001b[49m\u001b[32;43m20\u001b[39;49m\u001b[43m,\u001b[49m\u001b[32;43m200\u001b[39;49m\u001b[43m,\u001b[49m\u001b[32;43m10\u001b[39;49m\u001b[43m)\u001b[49m\n\u001b[32m      2\u001b[39m b=expense(\u001b[33m\"\u001b[39m\u001b[33mLondon\u001b[39m\u001b[33m\"\u001b[39m,\u001b[32m250\u001b[39m,\u001b[32m30\u001b[39m,\u001b[32m120\u001b[39m,\u001b[32m10\u001b[39m)\n\u001b[32m      3\u001b[39m c=expense(\u001b[33m\"\u001b[39m\u001b[33mDubai\u001b[39m\u001b[33m\"\u001b[39m,\u001b[32m370\u001b[39m,\u001b[32m15\u001b[39m,\u001b[32m80\u001b[39m,\u001b[32m10\u001b[39m)\n",
      "\u001b[36mCell\u001b[39m\u001b[36m \u001b[39m\u001b[32mIn[49]\u001b[39m\u001b[32m, line 4\u001b[39m, in \u001b[36mexpense\u001b[39m\u001b[34m(city, flight_cost, accomodation, car_rentals, days)\u001b[39m\n\u001b[32m      2\u001b[39m x=\u001b[32m1\u001b[39m\n\u001b[32m      3\u001b[39m \u001b[38;5;28;01mif\u001b[39;00m days>\u001b[32m7\u001b[39m:\n\u001b[32m----> \u001b[39m\u001b[32m4\u001b[39m     \u001b[38;5;28;01mwhile\u001b[39;00m days>\u001b[32m0\u001b[39m:\n\u001b[32m      5\u001b[39m         days-\u001b[32m7\u001b[39m\n\u001b[32m      6\u001b[39m         x+=\u001b[32m2\u001b[39m\n",
      "\u001b[31mKeyboardInterrupt\u001b[39m: "
     ]
    }
   ],
   "source": [
    "a=expense(\"Paris\",200,20,200,10)\n",
    "b=expense(\"London\",250,30,120,10)\n",
    "c=expense(\"Dubai\",370,15,80,10)\n",
    "d=expense(\"Mumbai\",450,10,70,10)\n",
    "print(a,b,c,d)"
   ]
  },
  {
   "cell_type": "code",
   "execution_count": 2,
   "id": "7ee5ad2c",
   "metadata": {},
   "outputs": [
    {
     "data": {
      "text/plain": [
       "(2, 1, 1, 5)"
      ]
     },
     "execution_count": 2,
     "metadata": {},
     "output_type": "execute_result"
    }
   ],
   "source": [
    "import numpy as np\n",
    "\n",
    "a=np.array([[[[1,2,3,4,5]]],[[[56,78,46,75,32]]]])\n",
    "a.shape"
   ]
  },
  {
   "cell_type": "code",
   "execution_count": null,
   "id": "a1a3a96f",
   "metadata": {},
   "outputs": [],
   "source": []
  }
 ],
 "metadata": {
  "kernelspec": {
   "display_name": "Python 3",
   "language": "python",
   "name": "python3"
  },
  "language_info": {
   "codemirror_mode": {
    "name": "ipython",
    "version": 3
   },
   "file_extension": ".py",
   "mimetype": "text/x-python",
   "name": "python",
   "nbconvert_exporter": "python",
   "pygments_lexer": "ipython3",
   "version": "3.13.2"
  }
 },
 "nbformat": 4,
 "nbformat_minor": 5
}
