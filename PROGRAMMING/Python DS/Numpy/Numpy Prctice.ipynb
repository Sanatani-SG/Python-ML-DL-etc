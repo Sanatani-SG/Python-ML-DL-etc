{
  "cells": [
    {
      "cell_type": "code",
      "execution_count": 3,
      "id": "60747184",
      "metadata": {
        "colab": {
          "base_uri": "https://localhost:8080/"
        },
        "id": "60747184",
        "outputId": "893990a6-ffe3-44d1-d622-29b0efed887f"
      },
      "outputs": [
        {
          "output_type": "execute_result",
          "data": {
            "text/plain": [
              "(20,)"
            ]
          },
          "metadata": {},
          "execution_count": 3
        }
      ],
      "source": [
        "import numpy as np\n",
        "\n",
        "a=np.arange(0,20)\n",
        "b=a.reshape(4,5)\n",
        "a.shape"
      ]
    },
    {
      "cell_type": "code",
      "execution_count": null,
      "id": "08fefcb7",
      "metadata": {
        "colab": {
          "base_uri": "https://localhost:8080/"
        },
        "id": "08fefcb7",
        "outputId": "1e3f30c3-d508-4f93-a9d0-9470b3abd6fe"
      },
      "outputs": [
        {
          "output_type": "execute_result",
          "data": {
            "text/plain": [
              "array([ 4, 14])"
            ]
          },
          "metadata": {},
          "execution_count": 4
        }
      ],
      "source": [
        "b[::2,4]"
      ]
    },
    {
      "cell_type": "code",
      "execution_count": null,
      "id": "d453f27f",
      "metadata": {
        "colab": {
          "base_uri": "https://localhost:8080/"
        },
        "id": "d453f27f",
        "outputId": "d915e6a0-5a66-48a1-f40a-b423093d9be4"
      },
      "outputs": [
        {
          "output_type": "execute_result",
          "data": {
            "text/plain": [
              "array([  0,   1,   2,   3,   4,   5,   6,   7,   8,   9,  10,  11,  12,\n",
              "       100,  14,  15,  16,  17,  18,  19])"
            ]
          },
          "metadata": {},
          "execution_count": 5
        }
      ],
      "source": [
        "b[2,3]=100\n",
        "b.reshape(20,)"
      ]
    },
    {
      "cell_type": "code",
      "execution_count": null,
      "id": "b026d3ce",
      "metadata": {
        "colab": {
          "base_uri": "https://localhost:8080/"
        },
        "id": "b026d3ce",
        "outputId": "dfa15024-bce1-4790-e5cf-3ef47406b07d"
      },
      "outputs": [
        {
          "output_type": "execute_result",
          "data": {
            "text/plain": [
              "array([[1., 0., 0.],\n",
              "       [0., 1., 0.],\n",
              "       [0., 0., 1.]])"
            ]
          },
          "metadata": {},
          "execution_count": 6
        }
      ],
      "source": [
        "np.eye(3,3)"
      ]
    },
    {
      "cell_type": "code",
      "execution_count": null,
      "id": "68424dbf",
      "metadata": {
        "colab": {
          "base_uri": "https://localhost:8080/"
        },
        "id": "68424dbf",
        "outputId": "3c924fee-25bc-4114-e4ee-802595cd17ff"
      },
      "outputs": [
        {
          "output_type": "execute_result",
          "data": {
            "text/plain": [
              "array([[19, 29, 36, 44, 17],\n",
              "       [49, 23, 20, 32, 33],\n",
              "       [36, 12, 49, 24, 22],\n",
              "       [21, 48, 12, 20, 36],\n",
              "       [10, 13, 24, 17, 49]])"
            ]
          },
          "metadata": {},
          "execution_count": 7
        }
      ],
      "source": [
        "c=np.random.randint(10,51,size=(5,5))\n",
        "c"
      ]
    },
    {
      "cell_type": "code",
      "execution_count": null,
      "id": "fd7f4c8e",
      "metadata": {
        "colab": {
          "base_uri": "https://localhost:8080/"
        },
        "id": "fd7f4c8e",
        "outputId": "5b432207-633c-43ee-d324-429d5b464873"
      },
      "outputs": [
        {
          "output_type": "execute_result",
          "data": {
            "text/plain": [
              "array([[19, 29,  0, 44, 17],\n",
              "       [49, 23,  0, 32, 33],\n",
              "       [36, 12,  0, 24, 22],\n",
              "       [21, 48,  0, 20, 36],\n",
              "       [10, 13,  0, 17, 49]])"
            ]
          },
          "metadata": {},
          "execution_count": 8
        }
      ],
      "source": [
        "c[:,2]=0\n",
        "c"
      ]
    },
    {
      "cell_type": "code",
      "execution_count": null,
      "id": "429a5ec8",
      "metadata": {
        "colab": {
          "base_uri": "https://localhost:8080/"
        },
        "id": "429a5ec8",
        "outputId": "eb76eb2f-f7c1-4623-ce88-71f7467249fe"
      },
      "outputs": [
        {
          "output_type": "execute_result",
          "data": {
            "text/plain": [
              "array([[17, 33, 22, 36, 49],\n",
              "       [44, 32, 24, 20, 17],\n",
              "       [ 0,  0,  0,  0,  0],\n",
              "       [29, 23, 12, 48, 13],\n",
              "       [19, 49, 36, 21, 10]])"
            ]
          },
          "metadata": {},
          "execution_count": 9
        }
      ],
      "source": [
        "np.mean(c)\n",
        "np.rot90(c,k=1)"
      ]
    },
    {
      "cell_type": "code",
      "execution_count": null,
      "id": "510b4ae2",
      "metadata": {
        "colab": {
          "base_uri": "https://localhost:8080/"
        },
        "id": "510b4ae2",
        "outputId": "f94a7d60-6888-4fda-d27f-8506f7149502"
      },
      "outputs": [
        {
          "output_type": "execute_result",
          "data": {
            "text/plain": [
              "array([[-0.20240846,  0.43812465, -1.41942138,  1.39892432, -0.33051509],\n",
              "       [ 1.71919087,  0.05380478, -1.41942138,  0.63028458,  0.69433789],\n",
              "       [ 0.88649783, -0.65078164, -1.41942138,  0.11785809, -0.01024853],\n",
              "       [-0.07430184,  1.65513756, -1.41942138, -0.13835515,  0.88649783],\n",
              "       [-0.77888826, -0.58672833, -1.41942138, -0.33051509,  1.71919087]])"
            ]
          },
          "metadata": {},
          "execution_count": 10
        }
      ],
      "source": [
        "nc=(c-(np.mean(c)))/np.std(c)\n",
        "nc"
      ]
    },
    {
      "cell_type": "code",
      "execution_count": null,
      "id": "3e7a14c0",
      "metadata": {
        "colab": {
          "base_uri": "https://localhost:8080/"
        },
        "id": "3e7a14c0",
        "outputId": "9d58b906-6ed7-472a-abba-9e08585e8880"
      },
      "outputs": [
        {
          "output_type": "execute_result",
          "data": {
            "text/plain": [
              "array([[26, 10, 21, 17, 24, 32],\n",
              "       [19, 19, 35, 35,  6, 26],\n",
              "       [ 9, 32, 17, 15, 26,  8],\n",
              "       [ 4,  5,  1, 15, 28,  7],\n",
              "       [ 6, 12, 29,  4, 12, 19],\n",
              "       [14, 29, 12, 17, 32, 20]])"
            ]
          },
          "metadata": {},
          "execution_count": 11
        }
      ],
      "source": [
        "b=np.random.randint(0,36,size=(6,6))\n",
        "b"
      ]
    },
    {
      "cell_type": "code",
      "execution_count": null,
      "id": "048be895",
      "metadata": {
        "colab": {
          "base_uri": "https://localhost:8080/"
        },
        "id": "048be895",
        "outputId": "91b11ccd-4cce-41c4-b2f8-f523a6939b60"
      },
      "outputs": [
        {
          "output_type": "execute_result",
          "data": {
            "text/plain": [
              "array([[26, 10, 21, 17, 24, 32],\n",
              "       [26, 19,  9,  4,  6, 14],\n",
              "       [32, 26,  8,  7, 19, 20],\n",
              "       [14, 29, 12, 17, 32, 20]])"
            ]
          },
          "metadata": {},
          "execution_count": 14
        }
      ],
      "source": [
        "t=b[0,:]\n",
        "l=b[:,0]\n",
        "r=b[:,5]\n",
        "d=b[5,:]\n",
        "\n",
        "borders=np.concatenate((t,l,r,d),axis=0)\n",
        "borders.reshape(4,6)"
      ]
    },
    {
      "cell_type": "code",
      "source": [
        "a=np.array([[1,2,3],[4,5,6]])\n",
        "a[::-1,::-1]"
      ],
      "metadata": {
        "colab": {
          "base_uri": "https://localhost:8080/"
        },
        "id": "ySGEL8-xYNOA",
        "outputId": "5c09046d-509d-4d95-de0f-198ec3dc781d"
      },
      "id": "ySGEL8-xYNOA",
      "execution_count": null,
      "outputs": [
        {
          "output_type": "execute_result",
          "data": {
            "text/plain": [
              "array([[6, 5, 4],\n",
              "       [3, 2, 1]])"
            ]
          },
          "metadata": {},
          "execution_count": 16
        }
      ]
    },
    {
      "cell_type": "code",
      "source": [
        "n=np.arange(1,51)\n",
        "n[(n % 15 == 0)]"
      ],
      "metadata": {
        "colab": {
          "base_uri": "https://localhost:8080/"
        },
        "id": "IqhGz0XHYipk",
        "outputId": "033233a4-b2de-40e6-a82e-f3049b671224"
      },
      "id": "IqhGz0XHYipk",
      "execution_count": null,
      "outputs": [
        {
          "output_type": "execute_result",
          "data": {
            "text/plain": [
              "array([15, 30, 45])"
            ]
          },
          "metadata": {},
          "execution_count": 19
        }
      ]
    },
    {
      "cell_type": "code",
      "source": [
        "a1=np.random.randint(1,11,size=(3,3))\n",
        "print(a1)\n",
        "a2=np.random.randint(11,21,size=(3,3))\n",
        "a2"
      ],
      "metadata": {
        "colab": {
          "base_uri": "https://localhost:8080/"
        },
        "id": "Pxj-pCzjY4Ec",
        "outputId": "4fbac18d-7b4d-4257-b022-08f69b625cda"
      },
      "id": "Pxj-pCzjY4Ec",
      "execution_count": null,
      "outputs": [
        {
          "output_type": "stream",
          "name": "stdout",
          "text": [
            "[[ 8 10  1]\n",
            " [ 6 10  1]\n",
            " [ 3  6  8]]\n"
          ]
        },
        {
          "output_type": "execute_result",
          "data": {
            "text/plain": [
              "array([[11, 19, 20],\n",
              "       [15, 18, 11],\n",
              "       [20, 17, 18]])"
            ]
          },
          "metadata": {},
          "execution_count": 23
        }
      ]
    },
    {
      "cell_type": "code",
      "source": [
        "print(a1*a2)\n",
        "np.matmul(a1,a2)"
      ],
      "metadata": {
        "colab": {
          "base_uri": "https://localhost:8080/"
        },
        "id": "Y287ogefb7zd",
        "outputId": "831d4ee2-7ef0-45e4-ebf7-b0b43dcbd63f"
      },
      "id": "Y287ogefb7zd",
      "execution_count": null,
      "outputs": [
        {
          "output_type": "stream",
          "name": "stdout",
          "text": [
            "[[ 88 190  20]\n",
            " [ 90 180  11]\n",
            " [ 60 102 144]]\n"
          ]
        },
        {
          "output_type": "execute_result",
          "data": {
            "text/plain": [
              "array([[258, 349, 288],\n",
              "       [236, 311, 248],\n",
              "       [283, 301, 270]])"
            ]
          },
          "metadata": {},
          "execution_count": 24
        }
      ]
    },
    {
      "cell_type": "code",
      "source": [
        "m=np.arange(1,6)\n",
        "print(m)\n",
        "p=np.random.randint(1,21,size=(4,5))\n",
        "p"
      ],
      "metadata": {
        "colab": {
          "base_uri": "https://localhost:8080/"
        },
        "id": "gEhKr8Q2cVmU",
        "outputId": "e22a19df-a2d0-4395-d7c1-b9f03e2b0ab9"
      },
      "id": "gEhKr8Q2cVmU",
      "execution_count": 6,
      "outputs": [
        {
          "output_type": "stream",
          "name": "stdout",
          "text": [
            "[1 2 3 4 5]\n"
          ]
        },
        {
          "output_type": "execute_result",
          "data": {
            "text/plain": [
              "array([[17,  5,  6,  5,  1],\n",
              "       [ 3, 12,  1,  9, 11],\n",
              "       [ 4,  3,  9,  3, 15],\n",
              "       [ 2, 20, 16,  5, 19]])"
            ]
          },
          "metadata": {},
          "execution_count": 6
        }
      ]
    },
    {
      "cell_type": "code",
      "source": [
        "p-m"
      ],
      "metadata": {
        "colab": {
          "base_uri": "https://localhost:8080/"
        },
        "id": "1tariGNkc5oi",
        "outputId": "719927e0-1238-43b4-9cdd-d018d0e2d646"
      },
      "id": "1tariGNkc5oi",
      "execution_count": 7,
      "outputs": [
        {
          "output_type": "execute_result",
          "data": {
            "text/plain": [
              "array([[16,  3,  3,  1, -4],\n",
              "       [ 2, 10, -2,  5,  6],\n",
              "       [ 3,  1,  6, -1, 10],\n",
              "       [ 1, 18, 13,  1, 14]])"
            ]
          },
          "metadata": {},
          "execution_count": 7
        }
      ]
    },
    {
      "cell_type": "code",
      "source": [
        "arr=np.random.randint(1,20,size=10000)\n",
        "arr\n",
        "\n",
        "val,count=np.unique(arr,return_counts=True)\n",
        "print(val[np.argmax(count)])"
      ],
      "metadata": {
        "colab": {
          "base_uri": "https://localhost:8080/"
        },
        "id": "Yj-qUgAYqswG",
        "outputId": "e98418dd-87c4-4f1c-fbcd-167a9f6c5fcc"
      },
      "id": "Yj-qUgAYqswG",
      "execution_count": 12,
      "outputs": [
        {
          "output_type": "stream",
          "name": "stdout",
          "text": [
            "2\n"
          ]
        }
      ]
    },
    {
      "cell_type": "code",
      "source": [
        "a=np.zeros((8,8),dtype=int)\n",
        "a[1::2,::2]=1\n",
        "a[::2,1::2]=1\n",
        "a"
      ],
      "metadata": {
        "colab": {
          "base_uri": "https://localhost:8080/"
        },
        "id": "PZ5YGbcPrmVp",
        "outputId": "265ff44d-adc1-4220-de93-46f4fa4c72be"
      },
      "id": "PZ5YGbcPrmVp",
      "execution_count": 15,
      "outputs": [
        {
          "output_type": "execute_result",
          "data": {
            "text/plain": [
              "array([[0, 1, 0, 1, 0, 1, 0, 1],\n",
              "       [1, 0, 1, 0, 1, 0, 1, 0],\n",
              "       [0, 1, 0, 1, 0, 1, 0, 1],\n",
              "       [1, 0, 1, 0, 1, 0, 1, 0],\n",
              "       [0, 1, 0, 1, 0, 1, 0, 1],\n",
              "       [1, 0, 1, 0, 1, 0, 1, 0],\n",
              "       [0, 1, 0, 1, 0, 1, 0, 1],\n",
              "       [1, 0, 1, 0, 1, 0, 1, 0]])"
            ]
          },
          "metadata": {},
          "execution_count": 15
        }
      ]
    }
  ],
  "metadata": {
    "kernelspec": {
      "display_name": "Python 3",
      "language": "python",
      "name": "python3"
    },
    "language_info": {
      "codemirror_mode": {
        "name": "ipython",
        "version": 3
      },
      "file_extension": ".py",
      "mimetype": "text/x-python",
      "name": "python",
      "nbconvert_exporter": "python",
      "pygments_lexer": "ipython3",
      "version": "3.13.2"
    },
    "colab": {
      "provenance": []
    }
  },
  "nbformat": 4,
  "nbformat_minor": 5
}